{
 "cells": [
  {
   "cell_type": "code",
   "id": "initial_id",
   "metadata": {
    "collapsed": true,
    "ExecuteTime": {
     "end_time": "2025-07-01T23:44:54.516268Z",
     "start_time": "2025-07-01T23:44:53.316083Z"
    }
   },
   "source": [
    "from db_connect import get_connection\n",
    "\n",
    "import numpy as np\n",
    "import pandas as pd\n",
    "import matplotlib.pyplot as plt\n",
    "import seaborn as sns\n",
    "\n",
    "from sklearn.ensemble import StackingRegressor, RandomForestRegressor\n",
    "from sklearn.linear_model import LogisticRegression, Ridge, LinearRegression\n",
    "from sklearn.model_selection import train_test_split\n",
    "from sklearn.preprocessing import StandardScaler\n",
    "from sklearn.metrics import mean_squared_error, r2_score\n"
   ],
   "outputs": [],
   "execution_count": 1
  },
  {
   "metadata": {},
   "cell_type": "markdown",
   "source": "# Step 1: Load Data",
   "id": "665ae0fbc40c5feb"
  },
  {
   "metadata": {
    "ExecuteTime": {
     "end_time": "2025-07-01T23:45:04.197768Z",
     "start_time": "2025-07-01T23:44:54.525192Z"
    }
   },
   "cell_type": "code",
   "source": [
    "table_name = input(\"Enter the table name: \").strip()\n",
    "\n",
    "# This portion of the project is using the player_table\n",
    "\n",
    "engine = get_connection()\n",
    "df = pd.read_sql(f\"SELECT * FROM {table_name};\", con = engine)\n",
    " "
   ],
   "id": "c3cd6c736f495534",
   "outputs": [],
   "execution_count": 2
  },
  {
   "metadata": {
    "ExecuteTime": {
     "end_time": "2025-07-01T23:45:05.811411Z",
     "start_time": "2025-07-01T23:45:05.799217Z"
    }
   },
   "cell_type": "code",
   "source": "df.head()",
   "id": "a75251cefb0be9bf",
   "outputs": [
    {
     "data": {
      "text/plain": [
       "                      role  number             player   ht     wt  yr     g  \\\n",
       "0        Major Contributor     2.0  Julian Champagnie  6-8  215.0  Jr  31.0   \n",
       "1  Significant Contributor     0.0     Posh Alexander  6-0  200.0  So  29.0   \n",
       "2  Significant Contributor     5.0   Dylan Addae-Wusu  6-4  235.0  So  32.0   \n",
       "3              Role Player    23.0      Montez Mathis  6-4  210.0  Sr  32.0   \n",
       "4              Role Player     1.0      Aaron Wheeler  6-9  205.0  Sr  31.0   \n",
       "\n",
       "   min_pct  o_rtg  poss_pct  ...  diff_blk_pct  diff_stl_pct  diff_f_cper40  \\\n",
       "0     82.5  105.4      25.5  ...           0.3           0.7           -0.3   \n",
       "1     71.8  113.4      23.2  ...           0.5          -0.6           -0.8   \n",
       "2     61.0  101.5      20.3  ...           0.3           0.6           -1.7   \n",
       "3     60.5   98.3      18.5  ...          -0.7           0.5           -0.8   \n",
       "4     53.0  110.1      19.7  ...           1.4          -0.7            0.1   \n",
       "\n",
       "   diff_f_dper40  diff_ft_rate  diff_ft_pct  diff_fg_2_pct  diff_fg_3_pct  \\\n",
       "0           -0.6          -8.6       -0.106         -0.014         -0.043   \n",
       "1            1.3          13.8        0.016          0.052         -0.082   \n",
       "2            0.1          -3.0       -0.011         -0.098          0.110   \n",
       "3           -0.9          -2.4        0.049          0.038         -0.033   \n",
       "4            0.8          -0.8        0.083         -0.051          0.119   \n",
       "\n",
       "   transfer   prev_team  \n",
       "0     False  St. John's  \n",
       "1     False  St. John's  \n",
       "2     False  St. John's  \n",
       "3      True     Rutgers  \n",
       "4      True      Purdue  \n",
       "\n",
       "[5 rows x 74 columns]"
      ],
      "text/html": [
       "<div>\n",
       "<style scoped>\n",
       "    .dataframe tbody tr th:only-of-type {\n",
       "        vertical-align: middle;\n",
       "    }\n",
       "\n",
       "    .dataframe tbody tr th {\n",
       "        vertical-align: top;\n",
       "    }\n",
       "\n",
       "    .dataframe thead th {\n",
       "        text-align: right;\n",
       "    }\n",
       "</style>\n",
       "<table border=\"1\" class=\"dataframe\">\n",
       "  <thead>\n",
       "    <tr style=\"text-align: right;\">\n",
       "      <th></th>\n",
       "      <th>role</th>\n",
       "      <th>number</th>\n",
       "      <th>player</th>\n",
       "      <th>ht</th>\n",
       "      <th>wt</th>\n",
       "      <th>yr</th>\n",
       "      <th>g</th>\n",
       "      <th>min_pct</th>\n",
       "      <th>o_rtg</th>\n",
       "      <th>poss_pct</th>\n",
       "      <th>...</th>\n",
       "      <th>diff_blk_pct</th>\n",
       "      <th>diff_stl_pct</th>\n",
       "      <th>diff_f_cper40</th>\n",
       "      <th>diff_f_dper40</th>\n",
       "      <th>diff_ft_rate</th>\n",
       "      <th>diff_ft_pct</th>\n",
       "      <th>diff_fg_2_pct</th>\n",
       "      <th>diff_fg_3_pct</th>\n",
       "      <th>transfer</th>\n",
       "      <th>prev_team</th>\n",
       "    </tr>\n",
       "  </thead>\n",
       "  <tbody>\n",
       "    <tr>\n",
       "      <th>0</th>\n",
       "      <td>Major Contributor</td>\n",
       "      <td>2.0</td>\n",
       "      <td>Julian Champagnie</td>\n",
       "      <td>6-8</td>\n",
       "      <td>215.0</td>\n",
       "      <td>Jr</td>\n",
       "      <td>31.0</td>\n",
       "      <td>82.5</td>\n",
       "      <td>105.4</td>\n",
       "      <td>25.5</td>\n",
       "      <td>...</td>\n",
       "      <td>0.3</td>\n",
       "      <td>0.7</td>\n",
       "      <td>-0.3</td>\n",
       "      <td>-0.6</td>\n",
       "      <td>-8.6</td>\n",
       "      <td>-0.106</td>\n",
       "      <td>-0.014</td>\n",
       "      <td>-0.043</td>\n",
       "      <td>False</td>\n",
       "      <td>St. John's</td>\n",
       "    </tr>\n",
       "    <tr>\n",
       "      <th>1</th>\n",
       "      <td>Significant Contributor</td>\n",
       "      <td>0.0</td>\n",
       "      <td>Posh Alexander</td>\n",
       "      <td>6-0</td>\n",
       "      <td>200.0</td>\n",
       "      <td>So</td>\n",
       "      <td>29.0</td>\n",
       "      <td>71.8</td>\n",
       "      <td>113.4</td>\n",
       "      <td>23.2</td>\n",
       "      <td>...</td>\n",
       "      <td>0.5</td>\n",
       "      <td>-0.6</td>\n",
       "      <td>-0.8</td>\n",
       "      <td>1.3</td>\n",
       "      <td>13.8</td>\n",
       "      <td>0.016</td>\n",
       "      <td>0.052</td>\n",
       "      <td>-0.082</td>\n",
       "      <td>False</td>\n",
       "      <td>St. John's</td>\n",
       "    </tr>\n",
       "    <tr>\n",
       "      <th>2</th>\n",
       "      <td>Significant Contributor</td>\n",
       "      <td>5.0</td>\n",
       "      <td>Dylan Addae-Wusu</td>\n",
       "      <td>6-4</td>\n",
       "      <td>235.0</td>\n",
       "      <td>So</td>\n",
       "      <td>32.0</td>\n",
       "      <td>61.0</td>\n",
       "      <td>101.5</td>\n",
       "      <td>20.3</td>\n",
       "      <td>...</td>\n",
       "      <td>0.3</td>\n",
       "      <td>0.6</td>\n",
       "      <td>-1.7</td>\n",
       "      <td>0.1</td>\n",
       "      <td>-3.0</td>\n",
       "      <td>-0.011</td>\n",
       "      <td>-0.098</td>\n",
       "      <td>0.110</td>\n",
       "      <td>False</td>\n",
       "      <td>St. John's</td>\n",
       "    </tr>\n",
       "    <tr>\n",
       "      <th>3</th>\n",
       "      <td>Role Player</td>\n",
       "      <td>23.0</td>\n",
       "      <td>Montez Mathis</td>\n",
       "      <td>6-4</td>\n",
       "      <td>210.0</td>\n",
       "      <td>Sr</td>\n",
       "      <td>32.0</td>\n",
       "      <td>60.5</td>\n",
       "      <td>98.3</td>\n",
       "      <td>18.5</td>\n",
       "      <td>...</td>\n",
       "      <td>-0.7</td>\n",
       "      <td>0.5</td>\n",
       "      <td>-0.8</td>\n",
       "      <td>-0.9</td>\n",
       "      <td>-2.4</td>\n",
       "      <td>0.049</td>\n",
       "      <td>0.038</td>\n",
       "      <td>-0.033</td>\n",
       "      <td>True</td>\n",
       "      <td>Rutgers</td>\n",
       "    </tr>\n",
       "    <tr>\n",
       "      <th>4</th>\n",
       "      <td>Role Player</td>\n",
       "      <td>1.0</td>\n",
       "      <td>Aaron Wheeler</td>\n",
       "      <td>6-9</td>\n",
       "      <td>205.0</td>\n",
       "      <td>Sr</td>\n",
       "      <td>31.0</td>\n",
       "      <td>53.0</td>\n",
       "      <td>110.1</td>\n",
       "      <td>19.7</td>\n",
       "      <td>...</td>\n",
       "      <td>1.4</td>\n",
       "      <td>-0.7</td>\n",
       "      <td>0.1</td>\n",
       "      <td>0.8</td>\n",
       "      <td>-0.8</td>\n",
       "      <td>0.083</td>\n",
       "      <td>-0.051</td>\n",
       "      <td>0.119</td>\n",
       "      <td>True</td>\n",
       "      <td>Purdue</td>\n",
       "    </tr>\n",
       "  </tbody>\n",
       "</table>\n",
       "<p>5 rows × 74 columns</p>\n",
       "</div>"
      ]
     },
     "execution_count": 3,
     "metadata": {},
     "output_type": "execute_result"
    }
   ],
   "execution_count": 3
  },
  {
   "metadata": {
    "ExecuteTime": {
     "end_time": "2025-06-30T09:45:36.033661Z",
     "start_time": "2025-06-30T09:45:36.030190Z"
    }
   },
   "cell_type": "code",
   "source": "df['year'].unique()",
   "id": "db409e42fd371068",
   "outputs": [
    {
     "data": {
      "text/plain": [
       "array([2022, 2023, 2024, 2019, 2020, 2021])"
      ]
     },
     "execution_count": 20,
     "metadata": {},
     "output_type": "execute_result"
    }
   ],
   "execution_count": 20
  },
  {
   "metadata": {
    "ExecuteTime": {
     "end_time": "2025-06-30T09:45:37.780135Z",
     "start_time": "2025-06-30T09:45:37.776798Z"
    }
   },
   "cell_type": "code",
   "source": "df['player_id'].nunique()",
   "id": "c612429864ac4cd9",
   "outputs": [
    {
     "data": {
      "text/plain": [
       "10991"
      ]
     },
     "execution_count": 21,
     "metadata": {},
     "output_type": "execute_result"
    }
   ],
   "execution_count": 21
  },
  {
   "metadata": {
    "ExecuteTime": {
     "end_time": "2025-06-30T09:45:39.828732Z",
     "start_time": "2025-06-30T09:45:39.825720Z"
    }
   },
   "cell_type": "code",
   "source": "df['g'].unique()",
   "id": "43851e1b2ce11842",
   "outputs": [
    {
     "data": {
      "text/plain": [
       "array([31., 29., 32., 30., 27., 13., 11., 28., 20., 14.,  3., 21., 24.,\n",
       "       23., 10., 19., 26., 16., 15.,  6.,  7., 17.,  8., 12., 25., 18.,\n",
       "       36., 37., 33.,  9., 22.,  5.,  4., 35., 34., 39., 38., 40.,  2.,\n",
       "        1., 41.])"
      ]
     },
     "execution_count": 22,
     "metadata": {},
     "output_type": "execute_result"
    }
   ],
   "execution_count": 22
  },
  {
   "metadata": {},
   "cell_type": "markdown",
   "source": "# Step 2: Clean DataFrame",
   "id": "219d08951a710a19"
  },
  {
   "metadata": {
    "ExecuteTime": {
     "end_time": "2025-07-02T09:49:42.080483Z",
     "start_time": "2025-07-02T09:49:42.062415Z"
    }
   },
   "cell_type": "code",
   "source": [
    "def clean_df(df):\n",
    "    \n",
    "    train_years = [2021, 2022, 2023]\n",
    "    test_year = 2024\n",
    "    \n",
    "    df_hist = df[df['year'].isin(train_years)]\n",
    "    player_counts = df_hist.groupby('player_id')['year'].nunique()\n",
    "    players_in_all_years = player_counts[player_counts == 3].index\n",
    "    \n",
    "    df_three_years = df_hist[df_hist['player_id'].isin(players_in_all_years)]\n",
    "    \n",
    "    games_check = (df_three_years.groupby(['player_id', 'year'])['g'].min().unstack().dropna())\n",
    "\n",
    "    players_with_10_games_each_year = games_check[(games_check >= 10).all(axis = 1)].index\n",
    "    df_three_years = df_three_years[df_three_years['player_id'].isin(players_with_10_games_each_year)]\n",
    "    \n",
    "    same_team_players = (df_three_years.groupby('player_id')['team'].nunique().reset_index().query(\"team == 1\")['player_id'])\n",
    "    \n",
    "    valid_players = same_team_players\n",
    "    \n",
    "    df_model = df[df['player_id'].isin(valid_players)]\n",
    "    \n",
    "    df_train = df_model[df_model['year'].isin(train_years)]\n",
    "    \n",
    "    df_2024 = df_model[df_model['year'] == test_year]\n",
    "    df_2024_transfers = df_2024[df_2024['transfer'] == True]\n",
    "    df_2024_no_transfers = df_2024[df_2024['transfer'] == False]\n",
    "    #target_players = df_2024_transfers[df_2024_transfers['player_id'].isin(df_train['player_id'])]\n",
    "    \n",
    "    return df_train, df_2024_transfers, df_2024_no_transfers, valid_players\n",
    "\n",
    "df_train, df_2024_transfers, df_2024_no_transfers, valid_players = clean_df(df)"
   ],
   "id": "7588407ec432611c",
   "outputs": [],
   "execution_count": 9
  },
  {
   "metadata": {
    "ExecuteTime": {
     "end_time": "2025-07-02T09:49:44.771210Z",
     "start_time": "2025-07-02T09:49:44.768918Z"
    }
   },
   "cell_type": "code",
   "source": "print(df_train.shape, df_2024_transfers.shape, df_2024_no_transfers.shape)",
   "id": "86275a7bd483d2bc",
   "outputs": [
    {
     "name": "stdout",
     "output_type": "stream",
     "text": [
      "(2433, 74) (218, 74) (278, 74)\n"
     ]
    }
   ],
   "execution_count": 10
  },
  {
   "metadata": {},
   "cell_type": "markdown",
   "source": "# Step 3: Split the Data & Scaling",
   "id": "d68c376e0a4d8d2a"
  },
  {
   "metadata": {
    "ExecuteTime": {
     "end_time": "2025-07-02T09:58:08.924515Z",
     "start_time": "2025-07-02T09:58:08.921167Z"
    }
   },
   "cell_type": "code",
   "source": [
    "def model_vars(df):\n",
    "    # Outcome variable\n",
    "    Y = df['o_rtg'].values\n",
    "\n",
    "    # Covariates: prior performance\n",
    "    X_cols = [\n",
    "        'poss_pct', 'shots_pct', 'e_fg_pct', 'ts_pct', 'or_pct', 'dr_pct',\n",
    "        'a_rate', 'to_rate', 'blk_pct', 'stl_pct', 'f_cper40', 'f_dper40',\n",
    "        'ft_rate', 'ftm', 'fta', 'ft_pct', 'fgm_2', 'fga_2', 'fg_2_pct', 'fgm_3', 'fga_3',\n",
    "        'fg_3_pct', 'min_pct'\n",
    "    ]\n",
    "    X_partial = df[X_cols].copy()\n",
    "\n",
    "    role = pd.get_dummies(df['role'], drop_first = True)\n",
    "    X = pd.concat([role, X_partial], axis = 1)\n",
    "\n",
    "    player_names = df['player']\n",
    "\n",
    "    return Y, X.values, player_names"
   ],
   "id": "72ff1cf6e91fbc88",
   "outputs": [],
   "execution_count": 11
  },
  {
   "metadata": {
    "ExecuteTime": {
     "end_time": "2025-07-02T09:58:10.342253Z",
     "start_time": "2025-07-02T09:58:10.338708Z"
    }
   },
   "cell_type": "code",
   "source": [
    "def split_scale(df, test_size = 0.2, random_state = 42): \n",
    "    \n",
    "    Y, X, player_names = model_vars(df)\n",
    "\n",
    "    X_train, X_test, Y_train, Y_test, names_train, names_test = train_test_split(\n",
    "        X, Y, player_names, test_size = test_size, random_state = random_state\n",
    "    )\n",
    "\n",
    "    scaler_x = StandardScaler()\n",
    "    X_train_scaled = scaler_x.fit_transform(X_train)\n",
    "    X_test_scaled = scaler_x.transform(X_test)\n",
    "    \n",
    "    return {\n",
    "        \"X_train\": X_train_scaled,\n",
    "        \"X_test\": X_test_scaled,\n",
    "        \"Y_train\": Y_train,\n",
    "        \"Y_test\": Y_test,\n",
    "        \"names_test\": names_test.reset_index(drop = True),\n",
    "        \"scaler_x\": scaler_x\n",
    "    }"
   ],
   "id": "c0bda6ab77cb0d57",
   "outputs": [],
   "execution_count": 12
  },
  {
   "metadata": {
    "ExecuteTime": {
     "end_time": "2025-07-02T09:58:12.030668Z",
     "start_time": "2025-07-02T09:58:12.018996Z"
    }
   },
   "cell_type": "code",
   "source": [
    "train_data_scaled = split_scale(df_train)\n",
    "scaler_x = train_data_scaled[\"scaler_x\"]"
   ],
   "id": "5379bd421f098800",
   "outputs": [],
   "execution_count": 13
  },
  {
   "metadata": {},
   "cell_type": "markdown",
   "source": "# Step 4: Stack Models",
   "id": "8ef542d07377893e"
  },
  {
   "metadata": {
    "ExecuteTime": {
     "end_time": "2025-07-02T09:58:14.410825Z",
     "start_time": "2025-07-02T09:58:14.409152Z"
    }
   },
   "cell_type": "code",
   "source": [
    "# Base models\n",
    "base_estimators = [\n",
    "    ('rf', RandomForestRegressor(n_estimators = 100, random_state = 42)),\n",
    "    ('lr', LinearRegression())\n",
    "]\n",
    "\n",
    "final_estimator = Ridge(alpha = 1.0)"
   ],
   "id": "5b86fd69ccc62490",
   "outputs": [],
   "execution_count": 14
  },
  {
   "metadata": {
    "ExecuteTime": {
     "end_time": "2025-07-02T09:58:16.625289Z",
     "start_time": "2025-07-02T09:58:16.622865Z"
    }
   },
   "cell_type": "code",
   "source": [
    "stack_model = StackingRegressor(\n",
    "    estimators = base_estimators,\n",
    "    final_estimator = final_estimator,\n",
    "    passthrough = False,\n",
    "    cv = 5\n",
    ")"
   ],
   "id": "bcfbccc45325e255",
   "outputs": [],
   "execution_count": 15
  },
  {
   "metadata": {
    "ExecuteTime": {
     "end_time": "2025-07-02T09:58:27.461530Z",
     "start_time": "2025-07-02T09:58:19.930190Z"
    }
   },
   "cell_type": "code",
   "source": "stack_model.fit(train_data_scaled[\"X_train\"], train_data_scaled[\"Y_train\"])",
   "id": "bd8d12819967d824",
   "outputs": [
    {
     "data": {
      "text/plain": [
       "StackingRegressor(cv=5,\n",
       "                  estimators=[('rf', RandomForestRegressor(random_state=42)),\n",
       "                              ('lr', LinearRegression())],\n",
       "                  final_estimator=Ridge())"
      ],
      "text/html": [
       "<style>#sk-container-id-1 {\n",
       "  /* Definition of color scheme common for light and dark mode */\n",
       "  --sklearn-color-text: black;\n",
       "  --sklearn-color-line: gray;\n",
       "  /* Definition of color scheme for unfitted estimators */\n",
       "  --sklearn-color-unfitted-level-0: #fff5e6;\n",
       "  --sklearn-color-unfitted-level-1: #f6e4d2;\n",
       "  --sklearn-color-unfitted-level-2: #ffe0b3;\n",
       "  --sklearn-color-unfitted-level-3: chocolate;\n",
       "  /* Definition of color scheme for fitted estimators */\n",
       "  --sklearn-color-fitted-level-0: #f0f8ff;\n",
       "  --sklearn-color-fitted-level-1: #d4ebff;\n",
       "  --sklearn-color-fitted-level-2: #b3dbfd;\n",
       "  --sklearn-color-fitted-level-3: cornflowerblue;\n",
       "\n",
       "  /* Specific color for light theme */\n",
       "  --sklearn-color-text-on-default-background: var(--sg-text-color, var(--theme-code-foreground, var(--jp-content-font-color1, black)));\n",
       "  --sklearn-color-background: var(--sg-background-color, var(--theme-background, var(--jp-layout-color0, white)));\n",
       "  --sklearn-color-border-box: var(--sg-text-color, var(--theme-code-foreground, var(--jp-content-font-color1, black)));\n",
       "  --sklearn-color-icon: #696969;\n",
       "\n",
       "  @media (prefers-color-scheme: dark) {\n",
       "    /* Redefinition of color scheme for dark theme */\n",
       "    --sklearn-color-text-on-default-background: var(--sg-text-color, var(--theme-code-foreground, var(--jp-content-font-color1, white)));\n",
       "    --sklearn-color-background: var(--sg-background-color, var(--theme-background, var(--jp-layout-color0, #111)));\n",
       "    --sklearn-color-border-box: var(--sg-text-color, var(--theme-code-foreground, var(--jp-content-font-color1, white)));\n",
       "    --sklearn-color-icon: #878787;\n",
       "  }\n",
       "}\n",
       "\n",
       "#sk-container-id-1 {\n",
       "  color: var(--sklearn-color-text);\n",
       "}\n",
       "\n",
       "#sk-container-id-1 pre {\n",
       "  padding: 0;\n",
       "}\n",
       "\n",
       "#sk-container-id-1 input.sk-hidden--visually {\n",
       "  border: 0;\n",
       "  clip: rect(1px 1px 1px 1px);\n",
       "  clip: rect(1px, 1px, 1px, 1px);\n",
       "  height: 1px;\n",
       "  margin: -1px;\n",
       "  overflow: hidden;\n",
       "  padding: 0;\n",
       "  position: absolute;\n",
       "  width: 1px;\n",
       "}\n",
       "\n",
       "#sk-container-id-1 div.sk-dashed-wrapped {\n",
       "  border: 1px dashed var(--sklearn-color-line);\n",
       "  margin: 0 0.4em 0.5em 0.4em;\n",
       "  box-sizing: border-box;\n",
       "  padding-bottom: 0.4em;\n",
       "  background-color: var(--sklearn-color-background);\n",
       "}\n",
       "\n",
       "#sk-container-id-1 div.sk-container {\n",
       "  /* jupyter's `normalize.less` sets `[hidden] { display: none; }`\n",
       "     but bootstrap.min.css set `[hidden] { display: none !important; }`\n",
       "     so we also need the `!important` here to be able to override the\n",
       "     default hidden behavior on the sphinx rendered scikit-learn.org.\n",
       "     See: https://github.com/scikit-learn/scikit-learn/issues/21755 */\n",
       "  display: inline-block !important;\n",
       "  position: relative;\n",
       "}\n",
       "\n",
       "#sk-container-id-1 div.sk-text-repr-fallback {\n",
       "  display: none;\n",
       "}\n",
       "\n",
       "div.sk-parallel-item,\n",
       "div.sk-serial,\n",
       "div.sk-item {\n",
       "  /* draw centered vertical line to link estimators */\n",
       "  background-image: linear-gradient(var(--sklearn-color-text-on-default-background), var(--sklearn-color-text-on-default-background));\n",
       "  background-size: 2px 100%;\n",
       "  background-repeat: no-repeat;\n",
       "  background-position: center center;\n",
       "}\n",
       "\n",
       "/* Parallel-specific style estimator block */\n",
       "\n",
       "#sk-container-id-1 div.sk-parallel-item::after {\n",
       "  content: \"\";\n",
       "  width: 100%;\n",
       "  border-bottom: 2px solid var(--sklearn-color-text-on-default-background);\n",
       "  flex-grow: 1;\n",
       "}\n",
       "\n",
       "#sk-container-id-1 div.sk-parallel {\n",
       "  display: flex;\n",
       "  align-items: stretch;\n",
       "  justify-content: center;\n",
       "  background-color: var(--sklearn-color-background);\n",
       "  position: relative;\n",
       "}\n",
       "\n",
       "#sk-container-id-1 div.sk-parallel-item {\n",
       "  display: flex;\n",
       "  flex-direction: column;\n",
       "}\n",
       "\n",
       "#sk-container-id-1 div.sk-parallel-item:first-child::after {\n",
       "  align-self: flex-end;\n",
       "  width: 50%;\n",
       "}\n",
       "\n",
       "#sk-container-id-1 div.sk-parallel-item:last-child::after {\n",
       "  align-self: flex-start;\n",
       "  width: 50%;\n",
       "}\n",
       "\n",
       "#sk-container-id-1 div.sk-parallel-item:only-child::after {\n",
       "  width: 0;\n",
       "}\n",
       "\n",
       "/* Serial-specific style estimator block */\n",
       "\n",
       "#sk-container-id-1 div.sk-serial {\n",
       "  display: flex;\n",
       "  flex-direction: column;\n",
       "  align-items: center;\n",
       "  background-color: var(--sklearn-color-background);\n",
       "  padding-right: 1em;\n",
       "  padding-left: 1em;\n",
       "}\n",
       "\n",
       "\n",
       "/* Toggleable style: style used for estimator/Pipeline/ColumnTransformer box that is\n",
       "clickable and can be expanded/collapsed.\n",
       "- Pipeline and ColumnTransformer use this feature and define the default style\n",
       "- Estimators will overwrite some part of the style using the `sk-estimator` class\n",
       "*/\n",
       "\n",
       "/* Pipeline and ColumnTransformer style (default) */\n",
       "\n",
       "#sk-container-id-1 div.sk-toggleable {\n",
       "  /* Default theme specific background. It is overwritten whether we have a\n",
       "  specific estimator or a Pipeline/ColumnTransformer */\n",
       "  background-color: var(--sklearn-color-background);\n",
       "}\n",
       "\n",
       "/* Toggleable label */\n",
       "#sk-container-id-1 label.sk-toggleable__label {\n",
       "  cursor: pointer;\n",
       "  display: block;\n",
       "  width: 100%;\n",
       "  margin-bottom: 0;\n",
       "  padding: 0.5em;\n",
       "  box-sizing: border-box;\n",
       "  text-align: center;\n",
       "}\n",
       "\n",
       "#sk-container-id-1 label.sk-toggleable__label-arrow:before {\n",
       "  /* Arrow on the left of the label */\n",
       "  content: \"▸\";\n",
       "  float: left;\n",
       "  margin-right: 0.25em;\n",
       "  color: var(--sklearn-color-icon);\n",
       "}\n",
       "\n",
       "#sk-container-id-1 label.sk-toggleable__label-arrow:hover:before {\n",
       "  color: var(--sklearn-color-text);\n",
       "}\n",
       "\n",
       "/* Toggleable content - dropdown */\n",
       "\n",
       "#sk-container-id-1 div.sk-toggleable__content {\n",
       "  max-height: 0;\n",
       "  max-width: 0;\n",
       "  overflow: hidden;\n",
       "  text-align: left;\n",
       "  /* unfitted */\n",
       "  background-color: var(--sklearn-color-unfitted-level-0);\n",
       "}\n",
       "\n",
       "#sk-container-id-1 div.sk-toggleable__content.fitted {\n",
       "  /* fitted */\n",
       "  background-color: var(--sklearn-color-fitted-level-0);\n",
       "}\n",
       "\n",
       "#sk-container-id-1 div.sk-toggleable__content pre {\n",
       "  margin: 0.2em;\n",
       "  border-radius: 0.25em;\n",
       "  color: var(--sklearn-color-text);\n",
       "  /* unfitted */\n",
       "  background-color: var(--sklearn-color-unfitted-level-0);\n",
       "}\n",
       "\n",
       "#sk-container-id-1 div.sk-toggleable__content.fitted pre {\n",
       "  /* unfitted */\n",
       "  background-color: var(--sklearn-color-fitted-level-0);\n",
       "}\n",
       "\n",
       "#sk-container-id-1 input.sk-toggleable__control:checked~div.sk-toggleable__content {\n",
       "  /* Expand drop-down */\n",
       "  max-height: 200px;\n",
       "  max-width: 100%;\n",
       "  overflow: auto;\n",
       "}\n",
       "\n",
       "#sk-container-id-1 input.sk-toggleable__control:checked~label.sk-toggleable__label-arrow:before {\n",
       "  content: \"▾\";\n",
       "}\n",
       "\n",
       "/* Pipeline/ColumnTransformer-specific style */\n",
       "\n",
       "#sk-container-id-1 div.sk-label input.sk-toggleable__control:checked~label.sk-toggleable__label {\n",
       "  color: var(--sklearn-color-text);\n",
       "  background-color: var(--sklearn-color-unfitted-level-2);\n",
       "}\n",
       "\n",
       "#sk-container-id-1 div.sk-label.fitted input.sk-toggleable__control:checked~label.sk-toggleable__label {\n",
       "  background-color: var(--sklearn-color-fitted-level-2);\n",
       "}\n",
       "\n",
       "/* Estimator-specific style */\n",
       "\n",
       "/* Colorize estimator box */\n",
       "#sk-container-id-1 div.sk-estimator input.sk-toggleable__control:checked~label.sk-toggleable__label {\n",
       "  /* unfitted */\n",
       "  background-color: var(--sklearn-color-unfitted-level-2);\n",
       "}\n",
       "\n",
       "#sk-container-id-1 div.sk-estimator.fitted input.sk-toggleable__control:checked~label.sk-toggleable__label {\n",
       "  /* fitted */\n",
       "  background-color: var(--sklearn-color-fitted-level-2);\n",
       "}\n",
       "\n",
       "#sk-container-id-1 div.sk-label label.sk-toggleable__label,\n",
       "#sk-container-id-1 div.sk-label label {\n",
       "  /* The background is the default theme color */\n",
       "  color: var(--sklearn-color-text-on-default-background);\n",
       "}\n",
       "\n",
       "/* On hover, darken the color of the background */\n",
       "#sk-container-id-1 div.sk-label:hover label.sk-toggleable__label {\n",
       "  color: var(--sklearn-color-text);\n",
       "  background-color: var(--sklearn-color-unfitted-level-2);\n",
       "}\n",
       "\n",
       "/* Label box, darken color on hover, fitted */\n",
       "#sk-container-id-1 div.sk-label.fitted:hover label.sk-toggleable__label.fitted {\n",
       "  color: var(--sklearn-color-text);\n",
       "  background-color: var(--sklearn-color-fitted-level-2);\n",
       "}\n",
       "\n",
       "/* Estimator label */\n",
       "\n",
       "#sk-container-id-1 div.sk-label label {\n",
       "  font-family: monospace;\n",
       "  font-weight: bold;\n",
       "  display: inline-block;\n",
       "  line-height: 1.2em;\n",
       "}\n",
       "\n",
       "#sk-container-id-1 div.sk-label-container {\n",
       "  text-align: center;\n",
       "}\n",
       "\n",
       "/* Estimator-specific */\n",
       "#sk-container-id-1 div.sk-estimator {\n",
       "  font-family: monospace;\n",
       "  border: 1px dotted var(--sklearn-color-border-box);\n",
       "  border-radius: 0.25em;\n",
       "  box-sizing: border-box;\n",
       "  margin-bottom: 0.5em;\n",
       "  /* unfitted */\n",
       "  background-color: var(--sklearn-color-unfitted-level-0);\n",
       "}\n",
       "\n",
       "#sk-container-id-1 div.sk-estimator.fitted {\n",
       "  /* fitted */\n",
       "  background-color: var(--sklearn-color-fitted-level-0);\n",
       "}\n",
       "\n",
       "/* on hover */\n",
       "#sk-container-id-1 div.sk-estimator:hover {\n",
       "  /* unfitted */\n",
       "  background-color: var(--sklearn-color-unfitted-level-2);\n",
       "}\n",
       "\n",
       "#sk-container-id-1 div.sk-estimator.fitted:hover {\n",
       "  /* fitted */\n",
       "  background-color: var(--sklearn-color-fitted-level-2);\n",
       "}\n",
       "\n",
       "/* Specification for estimator info (e.g. \"i\" and \"?\") */\n",
       "\n",
       "/* Common style for \"i\" and \"?\" */\n",
       "\n",
       ".sk-estimator-doc-link,\n",
       "a:link.sk-estimator-doc-link,\n",
       "a:visited.sk-estimator-doc-link {\n",
       "  float: right;\n",
       "  font-size: smaller;\n",
       "  line-height: 1em;\n",
       "  font-family: monospace;\n",
       "  background-color: var(--sklearn-color-background);\n",
       "  border-radius: 1em;\n",
       "  height: 1em;\n",
       "  width: 1em;\n",
       "  text-decoration: none !important;\n",
       "  margin-left: 1ex;\n",
       "  /* unfitted */\n",
       "  border: var(--sklearn-color-unfitted-level-1) 1pt solid;\n",
       "  color: var(--sklearn-color-unfitted-level-1);\n",
       "}\n",
       "\n",
       ".sk-estimator-doc-link.fitted,\n",
       "a:link.sk-estimator-doc-link.fitted,\n",
       "a:visited.sk-estimator-doc-link.fitted {\n",
       "  /* fitted */\n",
       "  border: var(--sklearn-color-fitted-level-1) 1pt solid;\n",
       "  color: var(--sklearn-color-fitted-level-1);\n",
       "}\n",
       "\n",
       "/* On hover */\n",
       "div.sk-estimator:hover .sk-estimator-doc-link:hover,\n",
       ".sk-estimator-doc-link:hover,\n",
       "div.sk-label-container:hover .sk-estimator-doc-link:hover,\n",
       ".sk-estimator-doc-link:hover {\n",
       "  /* unfitted */\n",
       "  background-color: var(--sklearn-color-unfitted-level-3);\n",
       "  color: var(--sklearn-color-background);\n",
       "  text-decoration: none;\n",
       "}\n",
       "\n",
       "div.sk-estimator.fitted:hover .sk-estimator-doc-link.fitted:hover,\n",
       ".sk-estimator-doc-link.fitted:hover,\n",
       "div.sk-label-container:hover .sk-estimator-doc-link.fitted:hover,\n",
       ".sk-estimator-doc-link.fitted:hover {\n",
       "  /* fitted */\n",
       "  background-color: var(--sklearn-color-fitted-level-3);\n",
       "  color: var(--sklearn-color-background);\n",
       "  text-decoration: none;\n",
       "}\n",
       "\n",
       "/* Span, style for the box shown on hovering the info icon */\n",
       ".sk-estimator-doc-link span {\n",
       "  display: none;\n",
       "  z-index: 9999;\n",
       "  position: relative;\n",
       "  font-weight: normal;\n",
       "  right: .2ex;\n",
       "  padding: .5ex;\n",
       "  margin: .5ex;\n",
       "  width: min-content;\n",
       "  min-width: 20ex;\n",
       "  max-width: 50ex;\n",
       "  color: var(--sklearn-color-text);\n",
       "  box-shadow: 2pt 2pt 4pt #999;\n",
       "  /* unfitted */\n",
       "  background: var(--sklearn-color-unfitted-level-0);\n",
       "  border: .5pt solid var(--sklearn-color-unfitted-level-3);\n",
       "}\n",
       "\n",
       ".sk-estimator-doc-link.fitted span {\n",
       "  /* fitted */\n",
       "  background: var(--sklearn-color-fitted-level-0);\n",
       "  border: var(--sklearn-color-fitted-level-3);\n",
       "}\n",
       "\n",
       ".sk-estimator-doc-link:hover span {\n",
       "  display: block;\n",
       "}\n",
       "\n",
       "/* \"?\"-specific style due to the `<a>` HTML tag */\n",
       "\n",
       "#sk-container-id-1 a.estimator_doc_link {\n",
       "  float: right;\n",
       "  font-size: 1rem;\n",
       "  line-height: 1em;\n",
       "  font-family: monospace;\n",
       "  background-color: var(--sklearn-color-background);\n",
       "  border-radius: 1rem;\n",
       "  height: 1rem;\n",
       "  width: 1rem;\n",
       "  text-decoration: none;\n",
       "  /* unfitted */\n",
       "  color: var(--sklearn-color-unfitted-level-1);\n",
       "  border: var(--sklearn-color-unfitted-level-1) 1pt solid;\n",
       "}\n",
       "\n",
       "#sk-container-id-1 a.estimator_doc_link.fitted {\n",
       "  /* fitted */\n",
       "  border: var(--sklearn-color-fitted-level-1) 1pt solid;\n",
       "  color: var(--sklearn-color-fitted-level-1);\n",
       "}\n",
       "\n",
       "/* On hover */\n",
       "#sk-container-id-1 a.estimator_doc_link:hover {\n",
       "  /* unfitted */\n",
       "  background-color: var(--sklearn-color-unfitted-level-3);\n",
       "  color: var(--sklearn-color-background);\n",
       "  text-decoration: none;\n",
       "}\n",
       "\n",
       "#sk-container-id-1 a.estimator_doc_link.fitted:hover {\n",
       "  /* fitted */\n",
       "  background-color: var(--sklearn-color-fitted-level-3);\n",
       "}\n",
       "</style><div id=\"sk-container-id-1\" class=\"sk-top-container\"><div class=\"sk-text-repr-fallback\"><pre>StackingRegressor(cv=5,\n",
       "                  estimators=[(&#x27;rf&#x27;, RandomForestRegressor(random_state=42)),\n",
       "                              (&#x27;lr&#x27;, LinearRegression())],\n",
       "                  final_estimator=Ridge())</pre><b>In a Jupyter environment, please rerun this cell to show the HTML representation or trust the notebook. <br />On GitHub, the HTML representation is unable to render, please try loading this page with nbviewer.org.</b></div><div class=\"sk-container\" hidden><div class=\"sk-item sk-dashed-wrapped\"><div class=\"sk-label-container\"><div class=\"sk-label fitted sk-toggleable\"><input class=\"sk-toggleable__control sk-hidden--visually\" id=\"sk-estimator-id-1\" type=\"checkbox\" ><label for=\"sk-estimator-id-1\" class=\"sk-toggleable__label fitted sk-toggleable__label-arrow fitted\">&nbsp;&nbsp;StackingRegressor<a class=\"sk-estimator-doc-link fitted\" rel=\"noreferrer\" target=\"_blank\" href=\"https://scikit-learn.org/1.5/modules/generated/sklearn.ensemble.StackingRegressor.html\">?<span>Documentation for StackingRegressor</span></a><span class=\"sk-estimator-doc-link fitted\">i<span>Fitted</span></span></label><div class=\"sk-toggleable__content fitted\"><pre>StackingRegressor(cv=5,\n",
       "                  estimators=[(&#x27;rf&#x27;, RandomForestRegressor(random_state=42)),\n",
       "                              (&#x27;lr&#x27;, LinearRegression())],\n",
       "                  final_estimator=Ridge())</pre></div> </div></div><div class=\"sk-serial\"><div class=\"sk-item\"><div class=\"sk-parallel\"><div class=\"sk-parallel-item\"><div class=\"sk-item\"><div class=\"sk-label-container\"><div class=\"sk-label fitted sk-toggleable\"><label>rf</label></div></div><div class=\"sk-serial\"><div class=\"sk-item\"><div class=\"sk-estimator fitted sk-toggleable\"><input class=\"sk-toggleable__control sk-hidden--visually\" id=\"sk-estimator-id-2\" type=\"checkbox\" ><label for=\"sk-estimator-id-2\" class=\"sk-toggleable__label fitted sk-toggleable__label-arrow fitted\">&nbsp;RandomForestRegressor<a class=\"sk-estimator-doc-link fitted\" rel=\"noreferrer\" target=\"_blank\" href=\"https://scikit-learn.org/1.5/modules/generated/sklearn.ensemble.RandomForestRegressor.html\">?<span>Documentation for RandomForestRegressor</span></a></label><div class=\"sk-toggleable__content fitted\"><pre>RandomForestRegressor(random_state=42)</pre></div> </div></div></div></div></div><div class=\"sk-parallel-item\"><div class=\"sk-item\"><div class=\"sk-label-container\"><div class=\"sk-label fitted sk-toggleable\"><label>lr</label></div></div><div class=\"sk-serial\"><div class=\"sk-item\"><div class=\"sk-estimator fitted sk-toggleable\"><input class=\"sk-toggleable__control sk-hidden--visually\" id=\"sk-estimator-id-3\" type=\"checkbox\" ><label for=\"sk-estimator-id-3\" class=\"sk-toggleable__label fitted sk-toggleable__label-arrow fitted\">&nbsp;LinearRegression<a class=\"sk-estimator-doc-link fitted\" rel=\"noreferrer\" target=\"_blank\" href=\"https://scikit-learn.org/1.5/modules/generated/sklearn.linear_model.LinearRegression.html\">?<span>Documentation for LinearRegression</span></a></label><div class=\"sk-toggleable__content fitted\"><pre>LinearRegression()</pre></div> </div></div></div></div></div></div></div><div class=\"sk-item\"><div class=\"sk-parallel\"><div class=\"sk-parallel-item\"><div class=\"sk-item\"><div class=\"sk-label-container\"><div class=\"sk-label fitted sk-toggleable\"><label>final_estimator</label></div></div><div class=\"sk-serial\"><div class=\"sk-item\"><div class=\"sk-estimator fitted sk-toggleable\"><input class=\"sk-toggleable__control sk-hidden--visually\" id=\"sk-estimator-id-4\" type=\"checkbox\" ><label for=\"sk-estimator-id-4\" class=\"sk-toggleable__label fitted sk-toggleable__label-arrow fitted\">&nbsp;Ridge<a class=\"sk-estimator-doc-link fitted\" rel=\"noreferrer\" target=\"_blank\" href=\"https://scikit-learn.org/1.5/modules/generated/sklearn.linear_model.Ridge.html\">?<span>Documentation for Ridge</span></a></label><div class=\"sk-toggleable__content fitted\"><pre>Ridge()</pre></div> </div></div></div></div></div></div></div></div></div></div></div>"
      ]
     },
     "execution_count": 16,
     "metadata": {},
     "output_type": "execute_result"
    }
   ],
   "execution_count": 16
  },
  {
   "metadata": {},
   "cell_type": "markdown",
   "source": "# Step 5: Model Results",
   "id": "815ef4c382b840a9"
  },
  {
   "metadata": {
    "ExecuteTime": {
     "end_time": "2025-07-02T10:24:52.741630Z",
     "start_time": "2025-07-02T10:24:52.738283Z"
    }
   },
   "cell_type": "code",
   "source": [
    "def model_vs_actual(df):\n",
    "    Y, X, names = model_vars(df)\n",
    "    X_scaled = scaler_x.transform(X)\n",
    "    Y_pred = stack_model.predict(X_scaled)\n",
    "    \n",
    "    summary_df = pd.DataFrame({\n",
    "        \"player\": names.reset_index(drop=True),\n",
    "        \"Actual Offensive Rating (2024)\": Y,\n",
    "        \"Predicted\": Y_pred,\n",
    "        \"Estimated Difference\": Y - Y_pred\n",
    "    })\n",
    "    return summary_df"
   ],
   "id": "cdef0f40e98d05df",
   "outputs": [],
   "execution_count": 53
  },
  {
   "metadata": {
    "ExecuteTime": {
     "end_time": "2025-07-02T10:24:29.716277Z",
     "start_time": "2025-07-02T10:24:29.711819Z"
    }
   },
   "cell_type": "code",
   "source": [
    "def model_results(df):\n",
    "    mse = mean_squared_error(df[\"Actual Offensive Rating (2024)\"], df[\"Predicted\"])\n",
    "    r2 = r2_score(df[\"Actual Offensive Rating (2024)\"], df[\"Predicted\"])\n",
    "    \n",
    "    print(f\"Mean Squared Error: {mse:.2f}\")\n",
    "    print(f\"R² Score: {r2:.3f}\")\n",
    "    \n",
    "    plt.figure(figsize = (8, 6))\n",
    "    sns.scatterplot(data = df, x = \"Predicted\", y = \"Actual Offensive Rating (2024)\")\n",
    "    plt.plot([df[\"Predicted\"].min(), df[\"Predicted\"].max()],\n",
    "             [df[\"Predicted\"].min(), df[\"Predicted\"].max()],\n",
    "             color = 'red', linestyle = '--')\n",
    "    plt.title(\"Actual vs. Predicted Offensive Rating (2024)\")\n",
    "    plt.xlabel(\"Predicted\")\n",
    "    plt.ylabel(\"Actual Offensive Rating (2024)\")\n",
    "    plt.grid(True)\n",
    "    plt.show()\n",
    "    \n",
    "    plt.figure(figsize = (8, 5))\n",
    "    sns.histplot(df[\"Estimated Difference\"], bins = 20, kde = True)\n",
    "    plt.axvline(0, color = 'red', linestyle = '--')\n",
    "    plt.title(\"Estimated Difference on Offensive Rating\")\n",
    "    plt.xlabel(\"Effect Size (Actual - Predicted)\")\n",
    "    plt.ylabel(\"Number of Players\")\n",
    "    plt.show()\n",
    "    \n",
    "    top_effects = df.sort_values(\"Estimated Difference\", ascending = False).head()\n",
    "    bottom_effects = df.sort_values(\"Estimated Difference\").head()\n",
    "    \n",
    "    return top_effects, bottom_effects\n"
   ],
   "id": "eef14d1abab680bd",
   "outputs": [],
   "execution_count": 49
  },
  {
   "metadata": {
    "ExecuteTime": {
     "end_time": "2025-07-02T10:24:55.359475Z",
     "start_time": "2025-07-02T10:24:55.338193Z"
    }
   },
   "cell_type": "code",
   "source": [
    "summary_2024_transfers = model_vs_actual(df_2024_transfers)\n",
    "summary_2024_no_transfers = model_vs_actual(df_2024_no_transfers)"
   ],
   "id": "fdf3985f0f6f3f2d",
   "outputs": [],
   "execution_count": 54
  },
  {
   "metadata": {
    "ExecuteTime": {
     "end_time": "2025-07-02T10:24:57.323635Z",
     "start_time": "2025-07-02T10:24:57.204008Z"
    }
   },
   "cell_type": "code",
   "source": [
    "# Results to test the models predicted values for players who stayed 4 years at one school. \n",
    "# Model trained on 3 years and then predicts year 4 vs actual for year 4 at that school\n",
    "top0, bottom0 = model_results(summary_2024_no_transfers)"
   ],
   "id": "e777079e94f18363",
   "outputs": [
    {
     "name": "stdout",
     "output_type": "stream",
     "text": [
      "Mean Squared Error: 8.22\n",
      "R² Score: 0.947\n"
     ]
    },
    {
     "data": {
      "text/plain": [
       "<Figure size 800x600 with 1 Axes>"
      ],
      "image/png": "[encoded data removed]"
     },
     "metadata": {},
     "output_type": "display_data"
    },
    {
     "data": {
      "text/plain": [
       "<Figure size 800x500 with 1 Axes>"
      ],
      "image/png": "[encoded data removed]"
     },
     "metadata": {},
     "output_type": "display_data"
    }
   ],
   "execution_count": 55
  },
  {
   "metadata": {
    "ExecuteTime": {
     "end_time": "2025-07-02T10:24:59.498593Z",
     "start_time": "2025-07-02T10:24:59.492773Z"
    }
   },
   "cell_type": "code",
   "source": "top0",
   "id": "3f988ae483a426c7",
   "outputs": [
    {
     "data": {
      "text/plain": [
       "                player  Actual Offensive Rating (2024)   Predicted  \\\n",
       "149       Ethan Morton                           101.7   80.999102   \n",
       "258         Malik Wade                            69.1   54.237006   \n",
       "261  Chris Arcidiacono                            63.1   52.680143   \n",
       "167      Hayden Hefner                            94.8   87.068858   \n",
       "21      Ellis Magnuson                           117.3  109.728791   \n",
       "\n",
       "     Estimated Difference  \n",
       "149             20.700898  \n",
       "258             14.862994  \n",
       "261             10.419857  \n",
       "167              7.731142  \n",
       "21               7.571209  "
      ],
      "text/html": [
       "<div>\n",
       "<style scoped>\n",
       "    .dataframe tbody tr th:only-of-type {\n",
       "        vertical-align: middle;\n",
       "    }\n",
       "\n",
       "    .dataframe tbody tr th {\n",
       "        vertical-align: top;\n",
       "    }\n",
       "\n",
       "    .dataframe thead th {\n",
       "        text-align: right;\n",
       "    }\n",
       "</style>\n",
       "<table border=\"1\" class=\"dataframe\">\n",
       "  <thead>\n",
       "    <tr style=\"text-align: right;\">\n",
       "      <th></th>\n",
       "      <th>player</th>\n",
       "      <th>Actual Offensive Rating (2024)</th>\n",
       "      <th>Predicted</th>\n",
       "      <th>Estimated Difference</th>\n",
       "    </tr>\n",
       "  </thead>\n",
       "  <tbody>\n",
       "    <tr>\n",
       "      <th>149</th>\n",
       "      <td>Ethan Morton</td>\n",
       "      <td>101.7</td>\n",
       "      <td>80.999102</td>\n",
       "      <td>20.700898</td>\n",
       "    </tr>\n",
       "    <tr>\n",
       "      <th>258</th>\n",
       "      <td>Malik Wade</td>\n",
       "      <td>69.1</td>\n",
       "      <td>54.237006</td>\n",
       "      <td>14.862994</td>\n",
       "    </tr>\n",
       "    <tr>\n",
       "      <th>261</th>\n",
       "      <td>Chris Arcidiacono</td>\n",
       "      <td>63.1</td>\n",
       "      <td>52.680143</td>\n",
       "      <td>10.419857</td>\n",
       "    </tr>\n",
       "    <tr>\n",
       "      <th>167</th>\n",
       "      <td>Hayden Hefner</td>\n",
       "      <td>94.8</td>\n",
       "      <td>87.068858</td>\n",
       "      <td>7.731142</td>\n",
       "    </tr>\n",
       "    <tr>\n",
       "      <th>21</th>\n",
       "      <td>Ellis Magnuson</td>\n",
       "      <td>117.3</td>\n",
       "      <td>109.728791</td>\n",
       "      <td>7.571209</td>\n",
       "    </tr>\n",
       "  </tbody>\n",
       "</table>\n",
       "</div>"
      ]
     },
     "execution_count": 56,
     "metadata": {},
     "output_type": "execute_result"
    }
   ],
   "execution_count": 56
  },
  {
   "metadata": {
    "ExecuteTime": {
     "end_time": "2025-07-02T10:25:01.369937Z",
     "start_time": "2025-07-02T10:25:01.364357Z"
    }
   },
   "cell_type": "code",
   "source": "bottom0",
   "id": "cfae1b9aa92f0de",
   "outputs": [
    {
     "data": {
      "text/plain": [
       "              player  Actual Offensive Rating (2024)   Predicted  \\\n",
       "103   Connor Barrett                            85.6   92.380345   \n",
       "60   Tyler Patterson                           107.0  113.663516   \n",
       "130     Jordan McKoy                           103.5  109.266642   \n",
       "77         Gage Bobe                           106.1  111.758408   \n",
       "200   Isaiah Stevens                           114.9  120.087362   \n",
       "\n",
       "     Estimated Difference  \n",
       "103             -6.780345  \n",
       "60              -6.663516  \n",
       "130             -5.766642  \n",
       "77              -5.658408  \n",
       "200             -5.187362  "
      ],
      "text/html": [
       "<div>\n",
       "<style scoped>\n",
       "    .dataframe tbody tr th:only-of-type {\n",
       "        vertical-align: middle;\n",
       "    }\n",
       "\n",
       "    .dataframe tbody tr th {\n",
       "        vertical-align: top;\n",
       "    }\n",
       "\n",
       "    .dataframe thead th {\n",
       "        text-align: right;\n",
       "    }\n",
       "</style>\n",
       "<table border=\"1\" class=\"dataframe\">\n",
       "  <thead>\n",
       "    <tr style=\"text-align: right;\">\n",
       "      <th></th>\n",
       "      <th>player</th>\n",
       "      <th>Actual Offensive Rating (2024)</th>\n",
       "      <th>Predicted</th>\n",
       "      <th>Estimated Difference</th>\n",
       "    </tr>\n",
       "  </thead>\n",
       "  <tbody>\n",
       "    <tr>\n",
       "      <th>103</th>\n",
       "      <td>Connor Barrett</td>\n",
       "      <td>85.6</td>\n",
       "      <td>92.380345</td>\n",
       "      <td>-6.780345</td>\n",
       "    </tr>\n",
       "    <tr>\n",
       "      <th>60</th>\n",
       "      <td>Tyler Patterson</td>\n",
       "      <td>107.0</td>\n",
       "      <td>113.663516</td>\n",
       "      <td>-6.663516</td>\n",
       "    </tr>\n",
       "    <tr>\n",
       "      <th>130</th>\n",
       "      <td>Jordan McKoy</td>\n",
       "      <td>103.5</td>\n",
       "      <td>109.266642</td>\n",
       "      <td>-5.766642</td>\n",
       "    </tr>\n",
       "    <tr>\n",
       "      <th>77</th>\n",
       "      <td>Gage Bobe</td>\n",
       "      <td>106.1</td>\n",
       "      <td>111.758408</td>\n",
       "      <td>-5.658408</td>\n",
       "    </tr>\n",
       "    <tr>\n",
       "      <th>200</th>\n",
       "      <td>Isaiah Stevens</td>\n",
       "      <td>114.9</td>\n",
       "      <td>120.087362</td>\n",
       "      <td>-5.187362</td>\n",
       "    </tr>\n",
       "  </tbody>\n",
       "</table>\n",
       "</div>"
      ]
     },
     "execution_count": 57,
     "metadata": {},
     "output_type": "execute_result"
    }
   ],
   "execution_count": 57
  },
  {
   "metadata": {
    "ExecuteTime": {
     "end_time": "2025-07-02T10:27:22.980542Z",
     "start_time": "2025-07-02T10:27:22.854105Z"
    }
   },
   "cell_type": "code",
   "source": [
    "# Results to test the models predicted values for players who stayed 3 years at one school before transferring. \n",
    "# Model trained on 3 years and then predicted year 4 as if the player stayed at same school vs actual for year 4 at different school\n",
    "top1, bottom1 = model_results(summary_2024_transfers)"
   ],
   "id": "5b0e029f4a54b8b9",
   "outputs": [
    {
     "name": "stdout",
     "output_type": "stream",
     "text": [
      "Mean Squared Error: 11.46\n",
      "R² Score: 0.905\n"
     ]
    },
    {
     "data": {
      "text/plain": [
       "<Figure size 800x600 with 1 Axes>"
      ],
      "image/png": "[encoded data removed]"
     },
     "metadata": {},
     "output_type": "display_data"
    },
    {
     "data": {
      "text/plain": [
       "<Figure size 800x500 with 1 Axes>"
      ],
      "image/png": "[encoded data removed]"
     },
     "metadata": {},
     "output_type": "display_data"
    }
   ],
   "execution_count": 59
  },
  {
   "metadata": {
    "ExecuteTime": {
     "end_time": "2025-07-02T10:27:27.802367Z",
     "start_time": "2025-07-02T10:27:27.797372Z"
    }
   },
   "cell_type": "code",
   "source": "top1",
   "id": "378eb9583f45b67a",
   "outputs": [
    {
     "data": {
      "text/plain": [
       "                  player  Actual Offensive Rating (2024)   Predicted  \\\n",
       "13       Julian Rishwain                           144.7  128.485013   \n",
       "52           Sean Conway                           109.0  101.330217   \n",
       "189  Shemar Rathan-Mayes                           107.9  100.544317   \n",
       "133        Andrew Taylor                           124.4  117.464898   \n",
       "8     Latrell Wrightsell                           135.1  128.258513   \n",
       "\n",
       "     Estimated Difference  \n",
       "13              16.214987  \n",
       "52               7.669783  \n",
       "189              7.355683  \n",
       "133              6.935102  \n",
       "8                6.841487  "
      ],
      "text/html": [
       "<div>\n",
       "<style scoped>\n",
       "    .dataframe tbody tr th:only-of-type {\n",
       "        vertical-align: middle;\n",
       "    }\n",
       "\n",
       "    .dataframe tbody tr th {\n",
       "        vertical-align: top;\n",
       "    }\n",
       "\n",
       "    .dataframe thead th {\n",
       "        text-align: right;\n",
       "    }\n",
       "</style>\n",
       "<table border=\"1\" class=\"dataframe\">\n",
       "  <thead>\n",
       "    <tr style=\"text-align: right;\">\n",
       "      <th></th>\n",
       "      <th>player</th>\n",
       "      <th>Actual Offensive Rating (2024)</th>\n",
       "      <th>Predicted</th>\n",
       "      <th>Estimated Difference</th>\n",
       "    </tr>\n",
       "  </thead>\n",
       "  <tbody>\n",
       "    <tr>\n",
       "      <th>13</th>\n",
       "      <td>Julian Rishwain</td>\n",
       "      <td>144.7</td>\n",
       "      <td>128.485013</td>\n",
       "      <td>16.214987</td>\n",
       "    </tr>\n",
       "    <tr>\n",
       "      <th>52</th>\n",
       "      <td>Sean Conway</td>\n",
       "      <td>109.0</td>\n",
       "      <td>101.330217</td>\n",
       "      <td>7.669783</td>\n",
       "    </tr>\n",
       "    <tr>\n",
       "      <th>189</th>\n",
       "      <td>Shemar Rathan-Mayes</td>\n",
       "      <td>107.9</td>\n",
       "      <td>100.544317</td>\n",
       "      <td>7.355683</td>\n",
       "    </tr>\n",
       "    <tr>\n",
       "      <th>133</th>\n",
       "      <td>Andrew Taylor</td>\n",
       "      <td>124.4</td>\n",
       "      <td>117.464898</td>\n",
       "      <td>6.935102</td>\n",
       "    </tr>\n",
       "    <tr>\n",
       "      <th>8</th>\n",
       "      <td>Latrell Wrightsell</td>\n",
       "      <td>135.1</td>\n",
       "      <td>128.258513</td>\n",
       "      <td>6.841487</td>\n",
       "    </tr>\n",
       "  </tbody>\n",
       "</table>\n",
       "</div>"
      ]
     },
     "execution_count": 60,
     "metadata": {},
     "output_type": "execute_result"
    }
   ],
   "execution_count": 60
  },
  {
   "metadata": {
    "ExecuteTime": {
     "end_time": "2025-07-02T10:27:29.525561Z",
     "start_time": "2025-07-02T10:27:29.520141Z"
    }
   },
   "cell_type": "code",
   "source": "bottom1",
   "id": "467626ef1eb0ee6b",
   "outputs": [
    {
     "data": {
      "text/plain": [
       "               player  Actual Offensive Rating (2024)   Predicted  \\\n",
       "15        Even Brauns                           102.5  133.752675   \n",
       "112     Jeremiah Oden                            85.5   91.623495   \n",
       "169   Javonte Johnson                           101.6  107.077699   \n",
       "149      Tyler Harris                           107.0  111.666957   \n",
       "55   Hunter Dickinson                           111.3  115.941479   \n",
       "\n",
       "     Estimated Difference  \n",
       "15             -31.252675  \n",
       "112             -6.123495  \n",
       "169             -5.477699  \n",
       "149             -4.666957  \n",
       "55              -4.641479  "
      ],
      "text/html": [
       "<div>\n",
       "<style scoped>\n",
       "    .dataframe tbody tr th:only-of-type {\n",
       "        vertical-align: middle;\n",
       "    }\n",
       "\n",
       "    .dataframe tbody tr th {\n",
       "        vertical-align: top;\n",
       "    }\n",
       "\n",
       "    .dataframe thead th {\n",
       "        text-align: right;\n",
       "    }\n",
       "</style>\n",
       "<table border=\"1\" class=\"dataframe\">\n",
       "  <thead>\n",
       "    <tr style=\"text-align: right;\">\n",
       "      <th></th>\n",
       "      <th>player</th>\n",
       "      <th>Actual Offensive Rating (2024)</th>\n",
       "      <th>Predicted</th>\n",
       "      <th>Estimated Difference</th>\n",
       "    </tr>\n",
       "  </thead>\n",
       "  <tbody>\n",
       "    <tr>\n",
       "      <th>15</th>\n",
       "      <td>Even Brauns</td>\n",
       "      <td>102.5</td>\n",
       "      <td>133.752675</td>\n",
       "      <td>-31.252675</td>\n",
       "    </tr>\n",
       "    <tr>\n",
       "      <th>112</th>\n",
       "      <td>Jeremiah Oden</td>\n",
       "      <td>85.5</td>\n",
       "      <td>91.623495</td>\n",
       "      <td>-6.123495</td>\n",
       "    </tr>\n",
       "    <tr>\n",
       "      <th>169</th>\n",
       "      <td>Javonte Johnson</td>\n",
       "      <td>101.6</td>\n",
       "      <td>107.077699</td>\n",
       "      <td>-5.477699</td>\n",
       "    </tr>\n",
       "    <tr>\n",
       "      <th>149</th>\n",
       "      <td>Tyler Harris</td>\n",
       "      <td>107.0</td>\n",
       "      <td>111.666957</td>\n",
       "      <td>-4.666957</td>\n",
       "    </tr>\n",
       "    <tr>\n",
       "      <th>55</th>\n",
       "      <td>Hunter Dickinson</td>\n",
       "      <td>111.3</td>\n",
       "      <td>115.941479</td>\n",
       "      <td>-4.641479</td>\n",
       "    </tr>\n",
       "  </tbody>\n",
       "</table>\n",
       "</div>"
      ]
     },
     "execution_count": 61,
     "metadata": {},
     "output_type": "execute_result"
    }
   ],
   "execution_count": 61
  },
  {
   "metadata": {},
   "cell_type": "markdown",
   "source": "# Step 6: Push Data to Database",
   "id": "4f6a14055c1e8b9e"
  },
  {
   "metadata": {
    "ExecuteTime": {
     "end_time": "2025-06-27T10:06:00.447082Z",
     "start_time": "2025-06-27T10:05:26.986554Z"
    }
   },
   "cell_type": "code",
   "source": [
    "## This step was completed by JRS on 6/25/25. Unless the code is changed, this does not need completed again ## \n",
    "\n",
    "# from push_db_data import push_data_to_db\n",
    "# \n",
    "# push_data_to_db(summary_2024)"
   ],
   "id": "2c2918fe3e769695",
   "outputs": [
    {
     "name": "stdout",
     "output_type": "stream",
     "text": [
      "Data replaced to table 'ind_player_dev_predict_2024'.\n"
     ]
    }
   ],
   "execution_count": 84
  },
  {
   "metadata": {},
   "cell_type": "code",
   "outputs": [],
   "execution_count": null,
   "source": "",
   "id": "d29ad53e4e3f64c9"
  }
 ],
 "metadata": {
  "kernelspec": {
   "display_name": "Python 3",
   "language": "python",
   "name": "python3"
  },
  "language_info": {
   "codemirror_mode": {
    "name": "ipython",
    "version": 2
   },
   "file_extension": ".py",
   "mimetype": "text/x-python",
   "name": "python",
   "nbconvert_exporter": "python",
   "pygments_lexer": "ipython2",
   "version": "2.7.6"
  }
 },
 "nbformat": 4,
 "nbformat_minor": 5
}
