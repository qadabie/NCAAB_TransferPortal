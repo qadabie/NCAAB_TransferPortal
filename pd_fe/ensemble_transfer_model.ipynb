{
 "cells": [
  {
   "cell_type": "code",
   "id": "initial_id",
   "metadata": {
    "collapsed": true,
    "ExecuteTime": {
     "end_time": "2025-08-04T10:52:49.800244Z",
     "start_time": "2025-08-04T10:52:49.267374Z"
    }
   },
   "source": [
    "import pandas as pd\n",
    "import joblib"
   ],
   "outputs": [],
   "execution_count": 1
  },
  {
   "cell_type": "markdown",
   "id": "665ae0fbc40c5feb",
   "metadata": {},
   "source": [
    "# Step 1: Load Data"
   ]
  },
  {
   "cell_type": "code",
   "id": "c3cd6c736f495534",
   "metadata": {
    "ExecuteTime": {
     "end_time": "2025-08-04T11:03:23.672110Z",
     "start_time": "2025-08-04T11:03:16.545602Z"
    }
   },
   "source": [
    "from db_connect import get_connection\n",
    "\n",
    "table_name = input(\"Enter the table name: \").strip()\n",
    "\n",
    "# This portion of the project is using the player_table\n",
    "\n",
    "engine = get_connection()\n",
    "df = pd.read_sql(f\"SELECT * FROM {table_name};\", con = engine)\n",
    "\n",
    "# If no database credentials available, comment out the line above and uncomment the line below\n",
    "\n",
    "#df = pd.read_csv('data/player_table_202508040645.csv')\n",
    " "
   ],
   "outputs": [],
   "execution_count": 12
  },
  {
   "cell_type": "code",
   "id": "a75251cefb0be9bf",
   "metadata": {
    "ExecuteTime": {
     "end_time": "2025-08-02T13:01:15.601550Z",
     "start_time": "2025-08-02T13:01:15.567726Z"
    }
   },
   "source": [
    "pd.set_option('display.max_columns', None)\n",
    "df.head()\n",
    "\n",
    "players = [\"latrell wrightsell\", \"avery anderson\"]\n",
    "filtered_df = df[df[\"player\"].str.lower().isin([p.lower() for p in players])]\n",
    "\n",
    "filtered_df"
   ],
   "outputs": [
    {
     "data": {
      "text/plain": [
       "                          role  number              player   ht     wt  yr  \\\n",
       "1711         Major Contributor     0.0      Avery Anderson  6-3  170.0  Jr   \n",
       "2893               Role Player     3.0  Latrell Wrightsell  6-3  189.0  So   \n",
       "6199         Major Contributor     0.0      Avery Anderson  6-3  158.0  Sr   \n",
       "7830         Major Contributor     3.0  Latrell Wrightsell  6-3  189.0  Jr   \n",
       "8649              Limited Role    12.0  Latrell Wrightsell  6-3  190.0  Sr   \n",
       "9239   Significant Contributor     3.0      Avery Anderson  6-2  170.0  Sr   \n",
       "18738  Significant Contributor     0.0      Avery Anderson  6-2  170.0  Fr   \n",
       "21084  Significant Contributor     0.0      Avery Anderson  6-3  170.0  So   \n",
       "21261  Significant Contributor     3.0  Latrell Wrightsell  6-3  189.0  Fr   \n",
       "\n",
       "          g  min_pct  o_rtg  poss_pct  shots_pct  e_fg_pct  ts_pct  or_pct  \\\n",
       "1711   30.0     69.7   92.4      25.3       25.0      45.5    50.9     1.3   \n",
       "2893   30.0     67.8   94.3      16.5       17.3      42.3    47.9     1.2   \n",
       "6199   22.0     42.1   94.8      25.6       22.4      42.8    51.1     1.5   \n",
       "7830   28.0     74.2  104.2      26.4       30.9      49.7    53.4     1.3   \n",
       "8649   31.0     49.3  135.1      13.8       17.4      61.3    63.9     3.3   \n",
       "9239   34.0     55.2   96.9      21.8       20.4      44.0    49.2     1.1   \n",
       "18738  30.0     35.9   74.6      22.9       20.6      37.1    42.4     2.3   \n",
       "21084  27.0     67.2  101.2      20.4       20.4      51.4    57.1     1.8   \n",
       "21261  10.0     42.6   97.3      20.6       18.6      43.6    54.8     0.9   \n",
       "\n",
       "       dr_pct  a_rate  to_rate  blk_pct  stl_pct  f_cper40  f_dper40  ft_rate  \\\n",
       "1711     16.8    16.8     23.3      1.1      3.6       3.5       4.4     38.0   \n",
       "2893     12.3    12.3     18.8      0.3      1.9       2.0       2.9     27.3   \n",
       "6199     25.7    25.7     24.8      1.5      3.1       3.6       5.1     49.7   \n",
       "7830     17.4    17.4     13.7      0.3      2.6       2.6       3.9     23.6   \n",
       "8649      9.0     9.0     10.1      0.3      2.5       3.3       2.0     13.2   \n",
       "9239     25.3    25.3     23.9      1.4      3.6       4.5       3.3     31.5   \n",
       "18738    18.8    18.8     30.6      2.2      3.9       5.5       3.1     26.5   \n",
       "21084    12.5    12.5     23.1      1.1      2.7       4.1       3.7     38.1   \n",
       "21261    13.0    13.4     22.8      0.0      3.2       3.0       4.5     50.0   \n",
       "\n",
       "        ftm    fta  ft_pct  fgm_2  fga_2  fg_2_pct  fgm_3  fga_3  fg_3_pct  \\\n",
       "1711   88.0  115.0   0.765   87.0  198.0     0.439   34.0  105.0     0.324   \n",
       "2893   46.0   53.0   0.868   49.0  117.0     0.419   22.0   77.0     0.286   \n",
       "6199   79.0   96.0   0.823   66.0  132.0     0.500   11.0   61.0     0.180   \n",
       "7830   74.0   91.0   0.813   96.0  210.0     0.457   64.0  176.0     0.364   \n",
       "8649   27.0   27.0   0.999   23.0   52.0     0.442   68.0  152.0     0.447   \n",
       "9239   59.0   74.0   0.797   75.0  165.0     0.455   19.0   70.0     0.271   \n",
       "18738  28.0   35.0   0.800   46.0  106.0     0.434    2.0   26.0     0.077   \n",
       "21084  78.0   93.0   0.839   97.0  186.0     0.522   19.0   58.0     0.328   \n",
       "21261  34.0   35.0   0.971   17.0   44.0     0.386    9.0   26.0     0.346   \n",
       "\n",
       "        category  min_pct_rk  o_rtg_rk  poss_pct_rk  shots_pct_rk  \\\n",
       "1711   All Games         NaN       NaN        317.0         442.0   \n",
       "2893   All Games         NaN       NaN          NaN           NaN   \n",
       "6199   All Games         NaN       NaN        293.0           NaN   \n",
       "7830   All Games         NaN       NaN        227.0          49.0   \n",
       "8649   All Games         NaN       4.0          NaN           NaN   \n",
       "9239   All Games         NaN       NaN          NaN           NaN   \n",
       "18738  All Games         NaN       NaN          NaN           NaN   \n",
       "21084  All Games         NaN       NaN          NaN           NaN   \n",
       "21261  All Games         NaN       NaN          NaN           NaN   \n",
       "\n",
       "       e_fg_pct_rk  ts_pct_rk  or_pct_rk  dr_pct_rk  a_rate_rk  to_rate_rk  \\\n",
       "1711           NaN        NaN        NaN        NaN        NaN         NaN   \n",
       "2893           NaN        NaN        NaN        NaN        NaN         NaN   \n",
       "6199           NaN        NaN        NaN        NaN      172.0         NaN   \n",
       "7830           NaN        NaN        NaN        NaN        NaN       463.0   \n",
       "8649           NaN        NaN        NaN        NaN        NaN       161.0   \n",
       "9239           NaN        NaN        NaN        NaN      172.0         NaN   \n",
       "18738          NaN        NaN        NaN        NaN        NaN         NaN   \n",
       "21084          NaN      368.0        NaN        NaN        NaN         NaN   \n",
       "21261          NaN        NaN        NaN        NaN        NaN         NaN   \n",
       "\n",
       "       blk_pct_rk  stl_pct_rk  f_cper40_rk  f_dper40_rk  ft_rate_rk  \\\n",
       "1711          NaN        83.0          NaN        374.0       297.0   \n",
       "2893          NaN         NaN        203.0          NaN         NaN   \n",
       "6199          NaN       169.0          NaN        161.0         NaN   \n",
       "7830          NaN       384.0          NaN          NaN         NaN   \n",
       "8649          NaN       452.0          NaN          NaN         NaN   \n",
       "9239          NaN        78.0          NaN          NaN         NaN   \n",
       "18738         NaN         NaN          NaN          NaN         NaN   \n",
       "21084         NaN       299.0          NaN          NaN       324.0   \n",
       "21261         NaN       119.0          NaN        358.0         NaN   \n",
       "\n",
       "       ft_pct_rk  fg_2_pct_rk  fg_3_pct_rk     group_rank               team  \\\n",
       "1711       471.0          NaN          NaN  National Rank       Oklahoma St.   \n",
       "2893         NaN          NaN          NaN  National Rank  Cal St. Fullerton   \n",
       "6199       238.0          NaN          NaN  National Rank       Oklahoma St.   \n",
       "7830       277.0          NaN          NaN  National Rank  Cal St. Fullerton   \n",
       "8649         NaN          NaN          3.0  National Rank            Alabama   \n",
       "9239       376.0          NaN          NaN  National Rank                TCU   \n",
       "18738        NaN          NaN          NaN           None       Oklahoma St.   \n",
       "21084      136.0          NaN          NaN  National Rank       Oklahoma St.   \n",
       "21261        1.0          NaN          NaN  National Rank  Cal St. Fullerton   \n",
       "\n",
       "       year  player_id  diff_min_pct  diff_o_rtg  diff_poss_pct  \\\n",
       "1711   2022    45408.0           2.5        -8.8            4.9   \n",
       "2893   2022    49500.0          25.2        -3.0           -4.1   \n",
       "6199   2023    45408.0         -27.6         2.4            0.3   \n",
       "7830   2023    49500.0           6.4         9.9            9.9   \n",
       "8649   2024    49500.0         -24.9        30.9          -12.6   \n",
       "9239   2024    45408.0          13.1         2.1           -3.8   \n",
       "18738  2020    45408.0           NaN         NaN            NaN   \n",
       "21084  2021    45408.0          31.3        26.6           -2.5   \n",
       "21261  2021    49500.0           NaN         NaN            NaN   \n",
       "\n",
       "       diff_shots_pct  diff_e_fg_pct  diff_ts_pct  diff_or_pct  diff_dr_pct  \\\n",
       "1711              4.6           -5.9         -6.2         -0.5          4.3   \n",
       "2893             -1.3           -1.3         -6.9          0.3         -0.7   \n",
       "6199             -2.6           -2.7          0.2          0.2          8.9   \n",
       "7830             13.6            7.4          5.5          0.1          5.1   \n",
       "8649            -13.5           11.6         10.5          2.0         -8.4   \n",
       "9239             -2.0            1.2         -1.9         -0.4         -0.4   \n",
       "18738             NaN            NaN          NaN          NaN          NaN   \n",
       "21084            -0.2           14.3         14.7         -0.5         -6.3   \n",
       "21261             NaN            NaN          NaN          NaN          NaN   \n",
       "\n",
       "       diff_a_rate  diff_to_rate  diff_blk_pct  diff_stl_pct  diff_f_cper40  \\\n",
       "1711           4.3           0.2           0.0           0.9           -0.6   \n",
       "2893          -1.1          -4.0           0.3          -1.3           -1.0   \n",
       "6199           8.9           1.5           0.4          -0.5            0.1   \n",
       "7830           5.1          -5.1           0.0           0.7            0.6   \n",
       "8649          -8.4          -3.6           0.0          -0.1            0.7   \n",
       "9239          -0.4          -0.9          -0.1           0.5            0.9   \n",
       "18738          NaN           NaN           NaN           NaN            NaN   \n",
       "21084         -6.3          -7.5          -1.1          -1.2           -1.4   \n",
       "21261          NaN           NaN           NaN           NaN            NaN   \n",
       "\n",
       "       diff_f_dper40  diff_ft_rate  diff_ft_pct  diff_fg_2_pct  diff_fg_3_pct  \\\n",
       "1711             0.7          -0.1       -0.074         -0.083         -0.004   \n",
       "2893            -1.6         -22.7       -0.103          0.033         -0.060   \n",
       "6199             0.7          11.7        0.058          0.061         -0.144   \n",
       "7830             1.0          -3.7       -0.055          0.038          0.078   \n",
       "8649            -1.9         -10.4        0.186         -0.015          0.083   \n",
       "9239            -1.8         -18.2       -0.026         -0.045          0.091   \n",
       "18738            NaN           NaN          NaN            NaN            NaN   \n",
       "21084            0.6          11.6        0.039          0.088          0.251   \n",
       "21261            NaN           NaN          NaN            NaN            NaN   \n",
       "\n",
       "       transfer          prev_team  \n",
       "1711      False       Oklahoma St.  \n",
       "2893      False  Cal St. Fullerton  \n",
       "6199      False       Oklahoma St.  \n",
       "7830      False  Cal St. Fullerton  \n",
       "8649       True  Cal St. Fullerton  \n",
       "9239       True       Oklahoma St.  \n",
       "18738     False               None  \n",
       "21084     False       Oklahoma St.  \n",
       "21261     False               None  "
      ],
      "text/html": [
       "<div>\n",
       "<style scoped>\n",
       "    .dataframe tbody tr th:only-of-type {\n",
       "        vertical-align: middle;\n",
       "    }\n",
       "\n",
       "    .dataframe tbody tr th {\n",
       "        vertical-align: top;\n",
       "    }\n",
       "\n",
       "    .dataframe thead th {\n",
       "        text-align: right;\n",
       "    }\n",
       "</style>\n",
       "<table border=\"1\" class=\"dataframe\">\n",
       "  <thead>\n",
       "    <tr style=\"text-align: right;\">\n",
       "      <th></th>\n",
       "      <th>role</th>\n",
       "      <th>number</th>\n",
       "      <th>player</th>\n",
       "      <th>ht</th>\n",
       "      <th>wt</th>\n",
       "      <th>yr</th>\n",
       "      <th>g</th>\n",
       "      <th>min_pct</th>\n",
       "      <th>o_rtg</th>\n",
       "      <th>poss_pct</th>\n",
       "      <th>shots_pct</th>\n",
       "      <th>e_fg_pct</th>\n",
       "      <th>ts_pct</th>\n",
       "      <th>or_pct</th>\n",
       "      <th>dr_pct</th>\n",
       "      <th>a_rate</th>\n",
       "      <th>to_rate</th>\n",
       "      <th>blk_pct</th>\n",
       "      <th>stl_pct</th>\n",
       "      <th>f_cper40</th>\n",
       "      <th>f_dper40</th>\n",
       "      <th>ft_rate</th>\n",
       "      <th>ftm</th>\n",
       "      <th>fta</th>\n",
       "      <th>ft_pct</th>\n",
       "      <th>fgm_2</th>\n",
       "      <th>fga_2</th>\n",
       "      <th>fg_2_pct</th>\n",
       "      <th>fgm_3</th>\n",
       "      <th>fga_3</th>\n",
       "      <th>fg_3_pct</th>\n",
       "      <th>category</th>\n",
       "      <th>min_pct_rk</th>\n",
       "      <th>o_rtg_rk</th>\n",
       "      <th>poss_pct_rk</th>\n",
       "      <th>shots_pct_rk</th>\n",
       "      <th>e_fg_pct_rk</th>\n",
       "      <th>ts_pct_rk</th>\n",
       "      <th>or_pct_rk</th>\n",
       "      <th>dr_pct_rk</th>\n",
       "      <th>a_rate_rk</th>\n",
       "      <th>to_rate_rk</th>\n",
       "      <th>blk_pct_rk</th>\n",
       "      <th>stl_pct_rk</th>\n",
       "      <th>f_cper40_rk</th>\n",
       "      <th>f_dper40_rk</th>\n",
       "      <th>ft_rate_rk</th>\n",
       "      <th>ft_pct_rk</th>\n",
       "      <th>fg_2_pct_rk</th>\n",
       "      <th>fg_3_pct_rk</th>\n",
       "      <th>group_rank</th>\n",
       "      <th>team</th>\n",
       "      <th>year</th>\n",
       "      <th>player_id</th>\n",
       "      <th>diff_min_pct</th>\n",
       "      <th>diff_o_rtg</th>\n",
       "      <th>diff_poss_pct</th>\n",
       "      <th>diff_shots_pct</th>\n",
       "      <th>diff_e_fg_pct</th>\n",
       "      <th>diff_ts_pct</th>\n",
       "      <th>diff_or_pct</th>\n",
       "      <th>diff_dr_pct</th>\n",
       "      <th>diff_a_rate</th>\n",
       "      <th>diff_to_rate</th>\n",
       "      <th>diff_blk_pct</th>\n",
       "      <th>diff_stl_pct</th>\n",
       "      <th>diff_f_cper40</th>\n",
       "      <th>diff_f_dper40</th>\n",
       "      <th>diff_ft_rate</th>\n",
       "      <th>diff_ft_pct</th>\n",
       "      <th>diff_fg_2_pct</th>\n",
       "      <th>diff_fg_3_pct</th>\n",
       "      <th>transfer</th>\n",
       "      <th>prev_team</th>\n",
       "    </tr>\n",
       "  </thead>\n",
       "  <tbody>\n",
       "    <tr>\n",
       "      <th>1711</th>\n",
       "      <td>Major Contributor</td>\n",
       "      <td>0.0</td>\n",
       "      <td>Avery Anderson</td>\n",
       "      <td>6-3</td>\n",
       "      <td>170.0</td>\n",
       "      <td>Jr</td>\n",
       "      <td>30.0</td>\n",
       "      <td>69.7</td>\n",
       "      <td>92.4</td>\n",
       "      <td>25.3</td>\n",
       "      <td>25.0</td>\n",
       "      <td>45.5</td>\n",
       "      <td>50.9</td>\n",
       "      <td>1.3</td>\n",
       "      <td>16.8</td>\n",
       "      <td>16.8</td>\n",
       "      <td>23.3</td>\n",
       "      <td>1.1</td>\n",
       "      <td>3.6</td>\n",
       "      <td>3.5</td>\n",
       "      <td>4.4</td>\n",
       "      <td>38.0</td>\n",
       "      <td>88.0</td>\n",
       "      <td>115.0</td>\n",
       "      <td>0.765</td>\n",
       "      <td>87.0</td>\n",
       "      <td>198.0</td>\n",
       "      <td>0.439</td>\n",
       "      <td>34.0</td>\n",
       "      <td>105.0</td>\n",
       "      <td>0.324</td>\n",
       "      <td>All Games</td>\n",
       "      <td>NaN</td>\n",
       "      <td>NaN</td>\n",
       "      <td>317.0</td>\n",
       "      <td>442.0</td>\n",
       "      <td>NaN</td>\n",
       "      <td>NaN</td>\n",
       "      <td>NaN</td>\n",
       "      <td>NaN</td>\n",
       "      <td>NaN</td>\n",
       "      <td>NaN</td>\n",
       "      <td>NaN</td>\n",
       "      <td>83.0</td>\n",
       "      <td>NaN</td>\n",
       "      <td>374.0</td>\n",
       "      <td>297.0</td>\n",
       "      <td>471.0</td>\n",
       "      <td>NaN</td>\n",
       "      <td>NaN</td>\n",
       "      <td>National Rank</td>\n",
       "      <td>Oklahoma St.</td>\n",
       "      <td>2022</td>\n",
       "      <td>45408.0</td>\n",
       "      <td>2.5</td>\n",
       "      <td>-8.8</td>\n",
       "      <td>4.9</td>\n",
       "      <td>4.6</td>\n",
       "      <td>-5.9</td>\n",
       "      <td>-6.2</td>\n",
       "      <td>-0.5</td>\n",
       "      <td>4.3</td>\n",
       "      <td>4.3</td>\n",
       "      <td>0.2</td>\n",
       "      <td>0.0</td>\n",
       "      <td>0.9</td>\n",
       "      <td>-0.6</td>\n",
       "      <td>0.7</td>\n",
       "      <td>-0.1</td>\n",
       "      <td>-0.074</td>\n",
       "      <td>-0.083</td>\n",
       "      <td>-0.004</td>\n",
       "      <td>False</td>\n",
       "      <td>Oklahoma St.</td>\n",
       "    </tr>\n",
       "    <tr>\n",
       "      <th>2893</th>\n",
       "      <td>Role Player</td>\n",
       "      <td>3.0</td>\n",
       "      <td>Latrell Wrightsell</td>\n",
       "      <td>6-3</td>\n",
       "      <td>189.0</td>\n",
       "      <td>So</td>\n",
       "      <td>30.0</td>\n",
       "      <td>67.8</td>\n",
       "      <td>94.3</td>\n",
       "      <td>16.5</td>\n",
       "      <td>17.3</td>\n",
       "      <td>42.3</td>\n",
       "      <td>47.9</td>\n",
       "      <td>1.2</td>\n",
       "      <td>12.3</td>\n",
       "      <td>12.3</td>\n",
       "      <td>18.8</td>\n",
       "      <td>0.3</td>\n",
       "      <td>1.9</td>\n",
       "      <td>2.0</td>\n",
       "      <td>2.9</td>\n",
       "      <td>27.3</td>\n",
       "      <td>46.0</td>\n",
       "      <td>53.0</td>\n",
       "      <td>0.868</td>\n",
       "      <td>49.0</td>\n",
       "      <td>117.0</td>\n",
       "      <td>0.419</td>\n",
       "      <td>22.0</td>\n",
       "      <td>77.0</td>\n",
       "      <td>0.286</td>\n",
       "      <td>All Games</td>\n",
       "      <td>NaN</td>\n",
       "      <td>NaN</td>\n",
       "      <td>NaN</td>\n",
       "      <td>NaN</td>\n",
       "      <td>NaN</td>\n",
       "      <td>NaN</td>\n",
       "      <td>NaN</td>\n",
       "      <td>NaN</td>\n",
       "      <td>NaN</td>\n",
       "      <td>NaN</td>\n",
       "      <td>NaN</td>\n",
       "      <td>NaN</td>\n",
       "      <td>203.0</td>\n",
       "      <td>NaN</td>\n",
       "      <td>NaN</td>\n",
       "      <td>NaN</td>\n",
       "      <td>NaN</td>\n",
       "      <td>NaN</td>\n",
       "      <td>National Rank</td>\n",
       "      <td>Cal St. Fullerton</td>\n",
       "      <td>2022</td>\n",
       "      <td>49500.0</td>\n",
       "      <td>25.2</td>\n",
       "      <td>-3.0</td>\n",
       "      <td>-4.1</td>\n",
       "      <td>-1.3</td>\n",
       "      <td>-1.3</td>\n",
       "      <td>-6.9</td>\n",
       "      <td>0.3</td>\n",
       "      <td>-0.7</td>\n",
       "      <td>-1.1</td>\n",
       "      <td>-4.0</td>\n",
       "      <td>0.3</td>\n",
       "      <td>-1.3</td>\n",
       "      <td>-1.0</td>\n",
       "      <td>-1.6</td>\n",
       "      <td>-22.7</td>\n",
       "      <td>-0.103</td>\n",
       "      <td>0.033</td>\n",
       "      <td>-0.060</td>\n",
       "      <td>False</td>\n",
       "      <td>Cal St. Fullerton</td>\n",
       "    </tr>\n",
       "    <tr>\n",
       "      <th>6199</th>\n",
       "      <td>Major Contributor</td>\n",
       "      <td>0.0</td>\n",
       "      <td>Avery Anderson</td>\n",
       "      <td>6-3</td>\n",
       "      <td>158.0</td>\n",
       "      <td>Sr</td>\n",
       "      <td>22.0</td>\n",
       "      <td>42.1</td>\n",
       "      <td>94.8</td>\n",
       "      <td>25.6</td>\n",
       "      <td>22.4</td>\n",
       "      <td>42.8</td>\n",
       "      <td>51.1</td>\n",
       "      <td>1.5</td>\n",
       "      <td>25.7</td>\n",
       "      <td>25.7</td>\n",
       "      <td>24.8</td>\n",
       "      <td>1.5</td>\n",
       "      <td>3.1</td>\n",
       "      <td>3.6</td>\n",
       "      <td>5.1</td>\n",
       "      <td>49.7</td>\n",
       "      <td>79.0</td>\n",
       "      <td>96.0</td>\n",
       "      <td>0.823</td>\n",
       "      <td>66.0</td>\n",
       "      <td>132.0</td>\n",
       "      <td>0.500</td>\n",
       "      <td>11.0</td>\n",
       "      <td>61.0</td>\n",
       "      <td>0.180</td>\n",
       "      <td>All Games</td>\n",
       "      <td>NaN</td>\n",
       "      <td>NaN</td>\n",
       "      <td>293.0</td>\n",
       "      <td>NaN</td>\n",
       "      <td>NaN</td>\n",
       "      <td>NaN</td>\n",
       "      <td>NaN</td>\n",
       "      <td>NaN</td>\n",
       "      <td>172.0</td>\n",
       "      <td>NaN</td>\n",
       "      <td>NaN</td>\n",
       "      <td>169.0</td>\n",
       "      <td>NaN</td>\n",
       "      <td>161.0</td>\n",
       "      <td>NaN</td>\n",
       "      <td>238.0</td>\n",
       "      <td>NaN</td>\n",
       "      <td>NaN</td>\n",
       "      <td>National Rank</td>\n",
       "      <td>Oklahoma St.</td>\n",
       "      <td>2023</td>\n",
       "      <td>45408.0</td>\n",
       "      <td>-27.6</td>\n",
       "      <td>2.4</td>\n",
       "      <td>0.3</td>\n",
       "      <td>-2.6</td>\n",
       "      <td>-2.7</td>\n",
       "      <td>0.2</td>\n",
       "      <td>0.2</td>\n",
       "      <td>8.9</td>\n",
       "      <td>8.9</td>\n",
       "      <td>1.5</td>\n",
       "      <td>0.4</td>\n",
       "      <td>-0.5</td>\n",
       "      <td>0.1</td>\n",
       "      <td>0.7</td>\n",
       "      <td>11.7</td>\n",
       "      <td>0.058</td>\n",
       "      <td>0.061</td>\n",
       "      <td>-0.144</td>\n",
       "      <td>False</td>\n",
       "      <td>Oklahoma St.</td>\n",
       "    </tr>\n",
       "    <tr>\n",
       "      <th>7830</th>\n",
       "      <td>Major Contributor</td>\n",
       "      <td>3.0</td>\n",
       "      <td>Latrell Wrightsell</td>\n",
       "      <td>6-3</td>\n",
       "      <td>189.0</td>\n",
       "      <td>Jr</td>\n",
       "      <td>28.0</td>\n",
       "      <td>74.2</td>\n",
       "      <td>104.2</td>\n",
       "      <td>26.4</td>\n",
       "      <td>30.9</td>\n",
       "      <td>49.7</td>\n",
       "      <td>53.4</td>\n",
       "      <td>1.3</td>\n",
       "      <td>17.4</td>\n",
       "      <td>17.4</td>\n",
       "      <td>13.7</td>\n",
       "      <td>0.3</td>\n",
       "      <td>2.6</td>\n",
       "      <td>2.6</td>\n",
       "      <td>3.9</td>\n",
       "      <td>23.6</td>\n",
       "      <td>74.0</td>\n",
       "      <td>91.0</td>\n",
       "      <td>0.813</td>\n",
       "      <td>96.0</td>\n",
       "      <td>210.0</td>\n",
       "      <td>0.457</td>\n",
       "      <td>64.0</td>\n",
       "      <td>176.0</td>\n",
       "      <td>0.364</td>\n",
       "      <td>All Games</td>\n",
       "      <td>NaN</td>\n",
       "      <td>NaN</td>\n",
       "      <td>227.0</td>\n",
       "      <td>49.0</td>\n",
       "      <td>NaN</td>\n",
       "      <td>NaN</td>\n",
       "      <td>NaN</td>\n",
       "      <td>NaN</td>\n",
       "      <td>NaN</td>\n",
       "      <td>463.0</td>\n",
       "      <td>NaN</td>\n",
       "      <td>384.0</td>\n",
       "      <td>NaN</td>\n",
       "      <td>NaN</td>\n",
       "      <td>NaN</td>\n",
       "      <td>277.0</td>\n",
       "      <td>NaN</td>\n",
       "      <td>NaN</td>\n",
       "      <td>National Rank</td>\n",
       "      <td>Cal St. Fullerton</td>\n",
       "      <td>2023</td>\n",
       "      <td>49500.0</td>\n",
       "      <td>6.4</td>\n",
       "      <td>9.9</td>\n",
       "      <td>9.9</td>\n",
       "      <td>13.6</td>\n",
       "      <td>7.4</td>\n",
       "      <td>5.5</td>\n",
       "      <td>0.1</td>\n",
       "      <td>5.1</td>\n",
       "      <td>5.1</td>\n",
       "      <td>-5.1</td>\n",
       "      <td>0.0</td>\n",
       "      <td>0.7</td>\n",
       "      <td>0.6</td>\n",
       "      <td>1.0</td>\n",
       "      <td>-3.7</td>\n",
       "      <td>-0.055</td>\n",
       "      <td>0.038</td>\n",
       "      <td>0.078</td>\n",
       "      <td>False</td>\n",
       "      <td>Cal St. Fullerton</td>\n",
       "    </tr>\n",
       "    <tr>\n",
       "      <th>8649</th>\n",
       "      <td>Limited Role</td>\n",
       "      <td>12.0</td>\n",
       "      <td>Latrell Wrightsell</td>\n",
       "      <td>6-3</td>\n",
       "      <td>190.0</td>\n",
       "      <td>Sr</td>\n",
       "      <td>31.0</td>\n",
       "      <td>49.3</td>\n",
       "      <td>135.1</td>\n",
       "      <td>13.8</td>\n",
       "      <td>17.4</td>\n",
       "      <td>61.3</td>\n",
       "      <td>63.9</td>\n",
       "      <td>3.3</td>\n",
       "      <td>9.0</td>\n",
       "      <td>9.0</td>\n",
       "      <td>10.1</td>\n",
       "      <td>0.3</td>\n",
       "      <td>2.5</td>\n",
       "      <td>3.3</td>\n",
       "      <td>2.0</td>\n",
       "      <td>13.2</td>\n",
       "      <td>27.0</td>\n",
       "      <td>27.0</td>\n",
       "      <td>0.999</td>\n",
       "      <td>23.0</td>\n",
       "      <td>52.0</td>\n",
       "      <td>0.442</td>\n",
       "      <td>68.0</td>\n",
       "      <td>152.0</td>\n",
       "      <td>0.447</td>\n",
       "      <td>All Games</td>\n",
       "      <td>NaN</td>\n",
       "      <td>4.0</td>\n",
       "      <td>NaN</td>\n",
       "      <td>NaN</td>\n",
       "      <td>NaN</td>\n",
       "      <td>NaN</td>\n",
       "      <td>NaN</td>\n",
       "      <td>NaN</td>\n",
       "      <td>NaN</td>\n",
       "      <td>161.0</td>\n",
       "      <td>NaN</td>\n",
       "      <td>452.0</td>\n",
       "      <td>NaN</td>\n",
       "      <td>NaN</td>\n",
       "      <td>NaN</td>\n",
       "      <td>NaN</td>\n",
       "      <td>NaN</td>\n",
       "      <td>3.0</td>\n",
       "      <td>National Rank</td>\n",
       "      <td>Alabama</td>\n",
       "      <td>2024</td>\n",
       "      <td>49500.0</td>\n",
       "      <td>-24.9</td>\n",
       "      <td>30.9</td>\n",
       "      <td>-12.6</td>\n",
       "      <td>-13.5</td>\n",
       "      <td>11.6</td>\n",
       "      <td>10.5</td>\n",
       "      <td>2.0</td>\n",
       "      <td>-8.4</td>\n",
       "      <td>-8.4</td>\n",
       "      <td>-3.6</td>\n",
       "      <td>0.0</td>\n",
       "      <td>-0.1</td>\n",
       "      <td>0.7</td>\n",
       "      <td>-1.9</td>\n",
       "      <td>-10.4</td>\n",
       "      <td>0.186</td>\n",
       "      <td>-0.015</td>\n",
       "      <td>0.083</td>\n",
       "      <td>True</td>\n",
       "      <td>Cal St. Fullerton</td>\n",
       "    </tr>\n",
       "    <tr>\n",
       "      <th>9239</th>\n",
       "      <td>Significant Contributor</td>\n",
       "      <td>3.0</td>\n",
       "      <td>Avery Anderson</td>\n",
       "      <td>6-2</td>\n",
       "      <td>170.0</td>\n",
       "      <td>Sr</td>\n",
       "      <td>34.0</td>\n",
       "      <td>55.2</td>\n",
       "      <td>96.9</td>\n",
       "      <td>21.8</td>\n",
       "      <td>20.4</td>\n",
       "      <td>44.0</td>\n",
       "      <td>49.2</td>\n",
       "      <td>1.1</td>\n",
       "      <td>25.3</td>\n",
       "      <td>25.3</td>\n",
       "      <td>23.9</td>\n",
       "      <td>1.4</td>\n",
       "      <td>3.6</td>\n",
       "      <td>4.5</td>\n",
       "      <td>3.3</td>\n",
       "      <td>31.5</td>\n",
       "      <td>59.0</td>\n",
       "      <td>74.0</td>\n",
       "      <td>0.797</td>\n",
       "      <td>75.0</td>\n",
       "      <td>165.0</td>\n",
       "      <td>0.455</td>\n",
       "      <td>19.0</td>\n",
       "      <td>70.0</td>\n",
       "      <td>0.271</td>\n",
       "      <td>All Games</td>\n",
       "      <td>NaN</td>\n",
       "      <td>NaN</td>\n",
       "      <td>NaN</td>\n",
       "      <td>NaN</td>\n",
       "      <td>NaN</td>\n",
       "      <td>NaN</td>\n",
       "      <td>NaN</td>\n",
       "      <td>NaN</td>\n",
       "      <td>172.0</td>\n",
       "      <td>NaN</td>\n",
       "      <td>NaN</td>\n",
       "      <td>78.0</td>\n",
       "      <td>NaN</td>\n",
       "      <td>NaN</td>\n",
       "      <td>NaN</td>\n",
       "      <td>376.0</td>\n",
       "      <td>NaN</td>\n",
       "      <td>NaN</td>\n",
       "      <td>National Rank</td>\n",
       "      <td>TCU</td>\n",
       "      <td>2024</td>\n",
       "      <td>45408.0</td>\n",
       "      <td>13.1</td>\n",
       "      <td>2.1</td>\n",
       "      <td>-3.8</td>\n",
       "      <td>-2.0</td>\n",
       "      <td>1.2</td>\n",
       "      <td>-1.9</td>\n",
       "      <td>-0.4</td>\n",
       "      <td>-0.4</td>\n",
       "      <td>-0.4</td>\n",
       "      <td>-0.9</td>\n",
       "      <td>-0.1</td>\n",
       "      <td>0.5</td>\n",
       "      <td>0.9</td>\n",
       "      <td>-1.8</td>\n",
       "      <td>-18.2</td>\n",
       "      <td>-0.026</td>\n",
       "      <td>-0.045</td>\n",
       "      <td>0.091</td>\n",
       "      <td>True</td>\n",
       "      <td>Oklahoma St.</td>\n",
       "    </tr>\n",
       "    <tr>\n",
       "      <th>18738</th>\n",
       "      <td>Significant Contributor</td>\n",
       "      <td>0.0</td>\n",
       "      <td>Avery Anderson</td>\n",
       "      <td>6-2</td>\n",
       "      <td>170.0</td>\n",
       "      <td>Fr</td>\n",
       "      <td>30.0</td>\n",
       "      <td>35.9</td>\n",
       "      <td>74.6</td>\n",
       "      <td>22.9</td>\n",
       "      <td>20.6</td>\n",
       "      <td>37.1</td>\n",
       "      <td>42.4</td>\n",
       "      <td>2.3</td>\n",
       "      <td>18.8</td>\n",
       "      <td>18.8</td>\n",
       "      <td>30.6</td>\n",
       "      <td>2.2</td>\n",
       "      <td>3.9</td>\n",
       "      <td>5.5</td>\n",
       "      <td>3.1</td>\n",
       "      <td>26.5</td>\n",
       "      <td>28.0</td>\n",
       "      <td>35.0</td>\n",
       "      <td>0.800</td>\n",
       "      <td>46.0</td>\n",
       "      <td>106.0</td>\n",
       "      <td>0.434</td>\n",
       "      <td>2.0</td>\n",
       "      <td>26.0</td>\n",
       "      <td>0.077</td>\n",
       "      <td>All Games</td>\n",
       "      <td>NaN</td>\n",
       "      <td>NaN</td>\n",
       "      <td>NaN</td>\n",
       "      <td>NaN</td>\n",
       "      <td>NaN</td>\n",
       "      <td>NaN</td>\n",
       "      <td>NaN</td>\n",
       "      <td>NaN</td>\n",
       "      <td>NaN</td>\n",
       "      <td>NaN</td>\n",
       "      <td>NaN</td>\n",
       "      <td>NaN</td>\n",
       "      <td>NaN</td>\n",
       "      <td>NaN</td>\n",
       "      <td>NaN</td>\n",
       "      <td>NaN</td>\n",
       "      <td>NaN</td>\n",
       "      <td>NaN</td>\n",
       "      <td>None</td>\n",
       "      <td>Oklahoma St.</td>\n",
       "      <td>2020</td>\n",
       "      <td>45408.0</td>\n",
       "      <td>NaN</td>\n",
       "      <td>NaN</td>\n",
       "      <td>NaN</td>\n",
       "      <td>NaN</td>\n",
       "      <td>NaN</td>\n",
       "      <td>NaN</td>\n",
       "      <td>NaN</td>\n",
       "      <td>NaN</td>\n",
       "      <td>NaN</td>\n",
       "      <td>NaN</td>\n",
       "      <td>NaN</td>\n",
       "      <td>NaN</td>\n",
       "      <td>NaN</td>\n",
       "      <td>NaN</td>\n",
       "      <td>NaN</td>\n",
       "      <td>NaN</td>\n",
       "      <td>NaN</td>\n",
       "      <td>NaN</td>\n",
       "      <td>False</td>\n",
       "      <td>None</td>\n",
       "    </tr>\n",
       "    <tr>\n",
       "      <th>21084</th>\n",
       "      <td>Significant Contributor</td>\n",
       "      <td>0.0</td>\n",
       "      <td>Avery Anderson</td>\n",
       "      <td>6-3</td>\n",
       "      <td>170.0</td>\n",
       "      <td>So</td>\n",
       "      <td>27.0</td>\n",
       "      <td>67.2</td>\n",
       "      <td>101.2</td>\n",
       "      <td>20.4</td>\n",
       "      <td>20.4</td>\n",
       "      <td>51.4</td>\n",
       "      <td>57.1</td>\n",
       "      <td>1.8</td>\n",
       "      <td>12.5</td>\n",
       "      <td>12.5</td>\n",
       "      <td>23.1</td>\n",
       "      <td>1.1</td>\n",
       "      <td>2.7</td>\n",
       "      <td>4.1</td>\n",
       "      <td>3.7</td>\n",
       "      <td>38.1</td>\n",
       "      <td>78.0</td>\n",
       "      <td>93.0</td>\n",
       "      <td>0.839</td>\n",
       "      <td>97.0</td>\n",
       "      <td>186.0</td>\n",
       "      <td>0.522</td>\n",
       "      <td>19.0</td>\n",
       "      <td>58.0</td>\n",
       "      <td>0.328</td>\n",
       "      <td>All Games</td>\n",
       "      <td>NaN</td>\n",
       "      <td>NaN</td>\n",
       "      <td>NaN</td>\n",
       "      <td>NaN</td>\n",
       "      <td>NaN</td>\n",
       "      <td>368.0</td>\n",
       "      <td>NaN</td>\n",
       "      <td>NaN</td>\n",
       "      <td>NaN</td>\n",
       "      <td>NaN</td>\n",
       "      <td>NaN</td>\n",
       "      <td>299.0</td>\n",
       "      <td>NaN</td>\n",
       "      <td>NaN</td>\n",
       "      <td>324.0</td>\n",
       "      <td>136.0</td>\n",
       "      <td>NaN</td>\n",
       "      <td>NaN</td>\n",
       "      <td>National Rank</td>\n",
       "      <td>Oklahoma St.</td>\n",
       "      <td>2021</td>\n",
       "      <td>45408.0</td>\n",
       "      <td>31.3</td>\n",
       "      <td>26.6</td>\n",
       "      <td>-2.5</td>\n",
       "      <td>-0.2</td>\n",
       "      <td>14.3</td>\n",
       "      <td>14.7</td>\n",
       "      <td>-0.5</td>\n",
       "      <td>-6.3</td>\n",
       "      <td>-6.3</td>\n",
       "      <td>-7.5</td>\n",
       "      <td>-1.1</td>\n",
       "      <td>-1.2</td>\n",
       "      <td>-1.4</td>\n",
       "      <td>0.6</td>\n",
       "      <td>11.6</td>\n",
       "      <td>0.039</td>\n",
       "      <td>0.088</td>\n",
       "      <td>0.251</td>\n",
       "      <td>False</td>\n",
       "      <td>Oklahoma St.</td>\n",
       "    </tr>\n",
       "    <tr>\n",
       "      <th>21261</th>\n",
       "      <td>Significant Contributor</td>\n",
       "      <td>3.0</td>\n",
       "      <td>Latrell Wrightsell</td>\n",
       "      <td>6-3</td>\n",
       "      <td>189.0</td>\n",
       "      <td>Fr</td>\n",
       "      <td>10.0</td>\n",
       "      <td>42.6</td>\n",
       "      <td>97.3</td>\n",
       "      <td>20.6</td>\n",
       "      <td>18.6</td>\n",
       "      <td>43.6</td>\n",
       "      <td>54.8</td>\n",
       "      <td>0.9</td>\n",
       "      <td>13.0</td>\n",
       "      <td>13.4</td>\n",
       "      <td>22.8</td>\n",
       "      <td>0.0</td>\n",
       "      <td>3.2</td>\n",
       "      <td>3.0</td>\n",
       "      <td>4.5</td>\n",
       "      <td>50.0</td>\n",
       "      <td>34.0</td>\n",
       "      <td>35.0</td>\n",
       "      <td>0.971</td>\n",
       "      <td>17.0</td>\n",
       "      <td>44.0</td>\n",
       "      <td>0.386</td>\n",
       "      <td>9.0</td>\n",
       "      <td>26.0</td>\n",
       "      <td>0.346</td>\n",
       "      <td>All Games</td>\n",
       "      <td>NaN</td>\n",
       "      <td>NaN</td>\n",
       "      <td>NaN</td>\n",
       "      <td>NaN</td>\n",
       "      <td>NaN</td>\n",
       "      <td>NaN</td>\n",
       "      <td>NaN</td>\n",
       "      <td>NaN</td>\n",
       "      <td>NaN</td>\n",
       "      <td>NaN</td>\n",
       "      <td>NaN</td>\n",
       "      <td>119.0</td>\n",
       "      <td>NaN</td>\n",
       "      <td>358.0</td>\n",
       "      <td>NaN</td>\n",
       "      <td>1.0</td>\n",
       "      <td>NaN</td>\n",
       "      <td>NaN</td>\n",
       "      <td>National Rank</td>\n",
       "      <td>Cal St. Fullerton</td>\n",
       "      <td>2021</td>\n",
       "      <td>49500.0</td>\n",
       "      <td>NaN</td>\n",
       "      <td>NaN</td>\n",
       "      <td>NaN</td>\n",
       "      <td>NaN</td>\n",
       "      <td>NaN</td>\n",
       "      <td>NaN</td>\n",
       "      <td>NaN</td>\n",
       "      <td>NaN</td>\n",
       "      <td>NaN</td>\n",
       "      <td>NaN</td>\n",
       "      <td>NaN</td>\n",
       "      <td>NaN</td>\n",
       "      <td>NaN</td>\n",
       "      <td>NaN</td>\n",
       "      <td>NaN</td>\n",
       "      <td>NaN</td>\n",
       "      <td>NaN</td>\n",
       "      <td>NaN</td>\n",
       "      <td>False</td>\n",
       "      <td>None</td>\n",
       "    </tr>\n",
       "  </tbody>\n",
       "</table>\n",
       "</div>"
      ]
     },
     "execution_count": 24,
     "metadata": {},
     "output_type": "execute_result"
    }
   ],
   "execution_count": 24
  },
  {
   "cell_type": "code",
   "id": "db409e42fd371068",
   "metadata": {
    "ExecuteTime": {
     "end_time": "2025-08-01T09:37:54.693296Z",
     "start_time": "2025-08-01T09:37:54.689366Z"
    }
   },
   "source": [
    "df['year'].unique()"
   ],
   "outputs": [
    {
     "data": {
      "text/plain": [
       "array([2022, 2023, 2024, 2019, 2020, 2021])"
      ]
     },
     "execution_count": 4,
     "metadata": {},
     "output_type": "execute_result"
    }
   ],
   "execution_count": 4
  },
  {
   "cell_type": "code",
   "id": "c612429864ac4cd9",
   "metadata": {
    "ExecuteTime": {
     "end_time": "2025-08-01T09:37:55.441994Z",
     "start_time": "2025-08-01T09:37:55.438631Z"
    }
   },
   "source": [
    "df['player_id'].nunique()"
   ],
   "outputs": [
    {
     "data": {
      "text/plain": [
       "10991"
      ]
     },
     "execution_count": 5,
     "metadata": {},
     "output_type": "execute_result"
    }
   ],
   "execution_count": 5
  },
  {
   "cell_type": "markdown",
   "id": "219d08951a710a19",
   "metadata": {},
   "source": [
    "# Step 2: Clean DataFrame"
   ]
  },
  {
   "cell_type": "code",
   "id": "86275a7bd483d2bc",
   "metadata": {
    "ExecuteTime": {
     "end_time": "2025-08-01T09:37:57.626983Z",
     "start_time": "2025-08-01T09:37:57.604614Z"
    }
   },
   "source": [
    "from player_dev_clean_df import clean_df\n",
    "\n",
    "df_train, df_2024_transfers, df_2024_no_transfers, valid_players = clean_df(df)\n",
    "\n",
    "print(df_train.shape, df_2024_transfers.shape, df_2024_no_transfers.shape)"
   ],
   "outputs": [
    {
     "name": "stdout",
     "output_type": "stream",
     "text": [
      "(2433, 74) (218, 74) (278, 74)\n"
     ]
    }
   ],
   "execution_count": 6
  },
  {
   "cell_type": "markdown",
   "id": "d68c376e0a4d8d2a",
   "metadata": {},
   "source": [
    "# Step 3: Feature Selection, Engineering & Scaling"
   ]
  },
  {
   "cell_type": "code",
   "id": "5b36d58e",
   "metadata": {
    "ExecuteTime": {
     "end_time": "2025-08-01T09:38:00.504062Z",
     "start_time": "2025-08-01T09:37:59.933633Z"
    }
   },
   "source": [
    "import eng_vars as ev\n",
    "train_data_scaled = ev.split_scale(df_train)\n",
    "scaler_x = train_data_scaled['scaler_x']\n"
   ],
   "outputs": [],
   "execution_count": 7
  },
  {
   "cell_type": "markdown",
   "id": "8ef542d07377893e",
   "metadata": {},
   "source": "# Step 4: Train Ensemble Model (Stacking Regressor)"
  },
  {
   "cell_type": "code",
   "id": "2db00443a9a0846e",
   "metadata": {
    "ExecuteTime": {
     "end_time": "2025-08-01T09:38:02.471692Z",
     "start_time": "2025-08-01T09:38:02.279572Z"
    }
   },
   "source": [
    "from player_dev_ml_models import ml_stack_model_w_grid_search\n",
    "\n",
    "#best_stack_model = ml_stack_model_w_grid_search(train_data_scaled[\"X_train\"], train_data_scaled[\"Y_train\"])\n",
    "\n",
    "''' Model was run and saved to the pd_fe file on 7/21/25 by JRS '''\n"
   ],
   "outputs": [
    {
     "data": {
      "text/plain": [
       "' Model was run and saved to the pd_fe file on 7/21/25 by JRS '"
      ]
     },
     "execution_count": 8,
     "metadata": {},
     "output_type": "execute_result"
    }
   ],
   "execution_count": 8
  },
  {
   "metadata": {
    "ExecuteTime": {
     "end_time": "2025-08-01T09:38:03.513782Z",
     "start_time": "2025-08-01T09:38:03.482699Z"
    }
   },
   "cell_type": "code",
   "source": [
    "# Load the Pickle file of the model \n",
    "\n",
    "best_stack_model = joblib.load('best_stack_model.pkl')\n",
    "\n",
    "best_stack_model"
   ],
   "id": "7a803b89b2a60383",
   "outputs": [
    {
     "data": {
      "text/plain": [
       "StackingRegressor(cv=5,\n",
       "                  estimators=[('rf',\n",
       "                               RandomForestRegressor(max_depth=10,\n",
       "                                                     n_estimators=50,\n",
       "                                                     random_state=42)),\n",
       "                              ('gb',\n",
       "                               HistGradientBoostingRegressor(max_iter=200,\n",
       "                                                             random_state=42))],\n",
       "                  final_estimator=GradientBoostingRegressor(random_state=42),\n",
       "                  passthrough=True)"
      ],
      "text/html": [
       "<style>#sk-container-id-1 {\n",
       "  /* Definition of color scheme common for light and dark mode */\n",
       "  --sklearn-color-text: black;\n",
       "  --sklearn-color-line: gray;\n",
       "  /* Definition of color scheme for unfitted estimators */\n",
       "  --sklearn-color-unfitted-level-0: #fff5e6;\n",
       "  --sklearn-color-unfitted-level-1: #f6e4d2;\n",
       "  --sklearn-color-unfitted-level-2: #ffe0b3;\n",
       "  --sklearn-color-unfitted-level-3: chocolate;\n",
       "  /* Definition of color scheme for fitted estimators */\n",
       "  --sklearn-color-fitted-level-0: #f0f8ff;\n",
       "  --sklearn-color-fitted-level-1: #d4ebff;\n",
       "  --sklearn-color-fitted-level-2: #b3dbfd;\n",
       "  --sklearn-color-fitted-level-3: cornflowerblue;\n",
       "\n",
       "  /* Specific color for light theme */\n",
       "  --sklearn-color-text-on-default-background: var(--sg-text-color, var(--theme-code-foreground, var(--jp-content-font-color1, black)));\n",
       "  --sklearn-color-background: var(--sg-background-color, var(--theme-background, var(--jp-layout-color0, white)));\n",
       "  --sklearn-color-border-box: var(--sg-text-color, var(--theme-code-foreground, var(--jp-content-font-color1, black)));\n",
       "  --sklearn-color-icon: #696969;\n",
       "\n",
       "  @media (prefers-color-scheme: dark) {\n",
       "    /* Redefinition of color scheme for dark theme */\n",
       "    --sklearn-color-text-on-default-background: var(--sg-text-color, var(--theme-code-foreground, var(--jp-content-font-color1, white)));\n",
       "    --sklearn-color-background: var(--sg-background-color, var(--theme-background, var(--jp-layout-color0, #111)));\n",
       "    --sklearn-color-border-box: var(--sg-text-color, var(--theme-code-foreground, var(--jp-content-font-color1, white)));\n",
       "    --sklearn-color-icon: #878787;\n",
       "  }\n",
       "}\n",
       "\n",
       "#sk-container-id-1 {\n",
       "  color: var(--sklearn-color-text);\n",
       "}\n",
       "\n",
       "#sk-container-id-1 pre {\n",
       "  padding: 0;\n",
       "}\n",
       "\n",
       "#sk-container-id-1 input.sk-hidden--visually {\n",
       "  border: 0;\n",
       "  clip: rect(1px 1px 1px 1px);\n",
       "  clip: rect(1px, 1px, 1px, 1px);\n",
       "  height: 1px;\n",
       "  margin: -1px;\n",
       "  overflow: hidden;\n",
       "  padding: 0;\n",
       "  position: absolute;\n",
       "  width: 1px;\n",
       "}\n",
       "\n",
       "#sk-container-id-1 div.sk-dashed-wrapped {\n",
       "  border: 1px dashed var(--sklearn-color-line);\n",
       "  margin: 0 0.4em 0.5em 0.4em;\n",
       "  box-sizing: border-box;\n",
       "  padding-bottom: 0.4em;\n",
       "  background-color: var(--sklearn-color-background);\n",
       "}\n",
       "\n",
       "#sk-container-id-1 div.sk-container {\n",
       "  /* jupyter's `normalize.less` sets `[hidden] { display: none; }`\n",
       "     but bootstrap.min.css set `[hidden] { display: none !important; }`\n",
       "     so we also need the `!important` here to be able to override the\n",
       "     default hidden behavior on the sphinx rendered scikit-learn.org.\n",
       "     See: https://github.com/scikit-learn/scikit-learn/issues/21755 */\n",
       "  display: inline-block !important;\n",
       "  position: relative;\n",
       "}\n",
       "\n",
       "#sk-container-id-1 div.sk-text-repr-fallback {\n",
       "  display: none;\n",
       "}\n",
       "\n",
       "div.sk-parallel-item,\n",
       "div.sk-serial,\n",
       "div.sk-item {\n",
       "  /* draw centered vertical line to link estimators */\n",
       "  background-image: linear-gradient(var(--sklearn-color-text-on-default-background), var(--sklearn-color-text-on-default-background));\n",
       "  background-size: 2px 100%;\n",
       "  background-repeat: no-repeat;\n",
       "  background-position: center center;\n",
       "}\n",
       "\n",
       "/* Parallel-specific style estimator block */\n",
       "\n",
       "#sk-container-id-1 div.sk-parallel-item::after {\n",
       "  content: \"\";\n",
       "  width: 100%;\n",
       "  border-bottom: 2px solid var(--sklearn-color-text-on-default-background);\n",
       "  flex-grow: 1;\n",
       "}\n",
       "\n",
       "#sk-container-id-1 div.sk-parallel {\n",
       "  display: flex;\n",
       "  align-items: stretch;\n",
       "  justify-content: center;\n",
       "  background-color: var(--sklearn-color-background);\n",
       "  position: relative;\n",
       "}\n",
       "\n",
       "#sk-container-id-1 div.sk-parallel-item {\n",
       "  display: flex;\n",
       "  flex-direction: column;\n",
       "}\n",
       "\n",
       "#sk-container-id-1 div.sk-parallel-item:first-child::after {\n",
       "  align-self: flex-end;\n",
       "  width: 50%;\n",
       "}\n",
       "\n",
       "#sk-container-id-1 div.sk-parallel-item:last-child::after {\n",
       "  align-self: flex-start;\n",
       "  width: 50%;\n",
       "}\n",
       "\n",
       "#sk-container-id-1 div.sk-parallel-item:only-child::after {\n",
       "  width: 0;\n",
       "}\n",
       "\n",
       "/* Serial-specific style estimator block */\n",
       "\n",
       "#sk-container-id-1 div.sk-serial {\n",
       "  display: flex;\n",
       "  flex-direction: column;\n",
       "  align-items: center;\n",
       "  background-color: var(--sklearn-color-background);\n",
       "  padding-right: 1em;\n",
       "  padding-left: 1em;\n",
       "}\n",
       "\n",
       "\n",
       "/* Toggleable style: style used for estimator/Pipeline/ColumnTransformer box that is\n",
       "clickable and can be expanded/collapsed.\n",
       "- Pipeline and ColumnTransformer use this feature and define the default style\n",
       "- Estimators will overwrite some part of the style using the `sk-estimator` class\n",
       "*/\n",
       "\n",
       "/* Pipeline and ColumnTransformer style (default) */\n",
       "\n",
       "#sk-container-id-1 div.sk-toggleable {\n",
       "  /* Default theme specific background. It is overwritten whether we have a\n",
       "  specific estimator or a Pipeline/ColumnTransformer */\n",
       "  background-color: var(--sklearn-color-background);\n",
       "}\n",
       "\n",
       "/* Toggleable label */\n",
       "#sk-container-id-1 label.sk-toggleable__label {\n",
       "  cursor: pointer;\n",
       "  display: block;\n",
       "  width: 100%;\n",
       "  margin-bottom: 0;\n",
       "  padding: 0.5em;\n",
       "  box-sizing: border-box;\n",
       "  text-align: center;\n",
       "}\n",
       "\n",
       "#sk-container-id-1 label.sk-toggleable__label-arrow:before {\n",
       "  /* Arrow on the left of the label */\n",
       "  content: \"▸\";\n",
       "  float: left;\n",
       "  margin-right: 0.25em;\n",
       "  color: var(--sklearn-color-icon);\n",
       "}\n",
       "\n",
       "#sk-container-id-1 label.sk-toggleable__label-arrow:hover:before {\n",
       "  color: var(--sklearn-color-text);\n",
       "}\n",
       "\n",
       "/* Toggleable content - dropdown */\n",
       "\n",
       "#sk-container-id-1 div.sk-toggleable__content {\n",
       "  max-height: 0;\n",
       "  max-width: 0;\n",
       "  overflow: hidden;\n",
       "  text-align: left;\n",
       "  /* unfitted */\n",
       "  background-color: var(--sklearn-color-unfitted-level-0);\n",
       "}\n",
       "\n",
       "#sk-container-id-1 div.sk-toggleable__content.fitted {\n",
       "  /* fitted */\n",
       "  background-color: var(--sklearn-color-fitted-level-0);\n",
       "}\n",
       "\n",
       "#sk-container-id-1 div.sk-toggleable__content pre {\n",
       "  margin: 0.2em;\n",
       "  border-radius: 0.25em;\n",
       "  color: var(--sklearn-color-text);\n",
       "  /* unfitted */\n",
       "  background-color: var(--sklearn-color-unfitted-level-0);\n",
       "}\n",
       "\n",
       "#sk-container-id-1 div.sk-toggleable__content.fitted pre {\n",
       "  /* unfitted */\n",
       "  background-color: var(--sklearn-color-fitted-level-0);\n",
       "}\n",
       "\n",
       "#sk-container-id-1 input.sk-toggleable__control:checked~div.sk-toggleable__content {\n",
       "  /* Expand drop-down */\n",
       "  max-height: 200px;\n",
       "  max-width: 100%;\n",
       "  overflow: auto;\n",
       "}\n",
       "\n",
       "#sk-container-id-1 input.sk-toggleable__control:checked~label.sk-toggleable__label-arrow:before {\n",
       "  content: \"▾\";\n",
       "}\n",
       "\n",
       "/* Pipeline/ColumnTransformer-specific style */\n",
       "\n",
       "#sk-container-id-1 div.sk-label input.sk-toggleable__control:checked~label.sk-toggleable__label {\n",
       "  color: var(--sklearn-color-text);\n",
       "  background-color: var(--sklearn-color-unfitted-level-2);\n",
       "}\n",
       "\n",
       "#sk-container-id-1 div.sk-label.fitted input.sk-toggleable__control:checked~label.sk-toggleable__label {\n",
       "  background-color: var(--sklearn-color-fitted-level-2);\n",
       "}\n",
       "\n",
       "/* Estimator-specific style */\n",
       "\n",
       "/* Colorize estimator box */\n",
       "#sk-container-id-1 div.sk-estimator input.sk-toggleable__control:checked~label.sk-toggleable__label {\n",
       "  /* unfitted */\n",
       "  background-color: var(--sklearn-color-unfitted-level-2);\n",
       "}\n",
       "\n",
       "#sk-container-id-1 div.sk-estimator.fitted input.sk-toggleable__control:checked~label.sk-toggleable__label {\n",
       "  /* fitted */\n",
       "  background-color: var(--sklearn-color-fitted-level-2);\n",
       "}\n",
       "\n",
       "#sk-container-id-1 div.sk-label label.sk-toggleable__label,\n",
       "#sk-container-id-1 div.sk-label label {\n",
       "  /* The background is the default theme color */\n",
       "  color: var(--sklearn-color-text-on-default-background);\n",
       "}\n",
       "\n",
       "/* On hover, darken the color of the background */\n",
       "#sk-container-id-1 div.sk-label:hover label.sk-toggleable__label {\n",
       "  color: var(--sklearn-color-text);\n",
       "  background-color: var(--sklearn-color-unfitted-level-2);\n",
       "}\n",
       "\n",
       "/* Label box, darken color on hover, fitted */\n",
       "#sk-container-id-1 div.sk-label.fitted:hover label.sk-toggleable__label.fitted {\n",
       "  color: var(--sklearn-color-text);\n",
       "  background-color: var(--sklearn-color-fitted-level-2);\n",
       "}\n",
       "\n",
       "/* Estimator label */\n",
       "\n",
       "#sk-container-id-1 div.sk-label label {\n",
       "  font-family: monospace;\n",
       "  font-weight: bold;\n",
       "  display: inline-block;\n",
       "  line-height: 1.2em;\n",
       "}\n",
       "\n",
       "#sk-container-id-1 div.sk-label-container {\n",
       "  text-align: center;\n",
       "}\n",
       "\n",
       "/* Estimator-specific */\n",
       "#sk-container-id-1 div.sk-estimator {\n",
       "  font-family: monospace;\n",
       "  border: 1px dotted var(--sklearn-color-border-box);\n",
       "  border-radius: 0.25em;\n",
       "  box-sizing: border-box;\n",
       "  margin-bottom: 0.5em;\n",
       "  /* unfitted */\n",
       "  background-color: var(--sklearn-color-unfitted-level-0);\n",
       "}\n",
       "\n",
       "#sk-container-id-1 div.sk-estimator.fitted {\n",
       "  /* fitted */\n",
       "  background-color: var(--sklearn-color-fitted-level-0);\n",
       "}\n",
       "\n",
       "/* on hover */\n",
       "#sk-container-id-1 div.sk-estimator:hover {\n",
       "  /* unfitted */\n",
       "  background-color: var(--sklearn-color-unfitted-level-2);\n",
       "}\n",
       "\n",
       "#sk-container-id-1 div.sk-estimator.fitted:hover {\n",
       "  /* fitted */\n",
       "  background-color: var(--sklearn-color-fitted-level-2);\n",
       "}\n",
       "\n",
       "/* Specification for estimator info (e.g. \"i\" and \"?\") */\n",
       "\n",
       "/* Common style for \"i\" and \"?\" */\n",
       "\n",
       ".sk-estimator-doc-link,\n",
       "a:link.sk-estimator-doc-link,\n",
       "a:visited.sk-estimator-doc-link {\n",
       "  float: right;\n",
       "  font-size: smaller;\n",
       "  line-height: 1em;\n",
       "  font-family: monospace;\n",
       "  background-color: var(--sklearn-color-background);\n",
       "  border-radius: 1em;\n",
       "  height: 1em;\n",
       "  width: 1em;\n",
       "  text-decoration: none !important;\n",
       "  margin-left: 1ex;\n",
       "  /* unfitted */\n",
       "  border: var(--sklearn-color-unfitted-level-1) 1pt solid;\n",
       "  color: var(--sklearn-color-unfitted-level-1);\n",
       "}\n",
       "\n",
       ".sk-estimator-doc-link.fitted,\n",
       "a:link.sk-estimator-doc-link.fitted,\n",
       "a:visited.sk-estimator-doc-link.fitted {\n",
       "  /* fitted */\n",
       "  border: var(--sklearn-color-fitted-level-1) 1pt solid;\n",
       "  color: var(--sklearn-color-fitted-level-1);\n",
       "}\n",
       "\n",
       "/* On hover */\n",
       "div.sk-estimator:hover .sk-estimator-doc-link:hover,\n",
       ".sk-estimator-doc-link:hover,\n",
       "div.sk-label-container:hover .sk-estimator-doc-link:hover,\n",
       ".sk-estimator-doc-link:hover {\n",
       "  /* unfitted */\n",
       "  background-color: var(--sklearn-color-unfitted-level-3);\n",
       "  color: var(--sklearn-color-background);\n",
       "  text-decoration: none;\n",
       "}\n",
       "\n",
       "div.sk-estimator.fitted:hover .sk-estimator-doc-link.fitted:hover,\n",
       ".sk-estimator-doc-link.fitted:hover,\n",
       "div.sk-label-container:hover .sk-estimator-doc-link.fitted:hover,\n",
       ".sk-estimator-doc-link.fitted:hover {\n",
       "  /* fitted */\n",
       "  background-color: var(--sklearn-color-fitted-level-3);\n",
       "  color: var(--sklearn-color-background);\n",
       "  text-decoration: none;\n",
       "}\n",
       "\n",
       "/* Span, style for the box shown on hovering the info icon */\n",
       ".sk-estimator-doc-link span {\n",
       "  display: none;\n",
       "  z-index: 9999;\n",
       "  position: relative;\n",
       "  font-weight: normal;\n",
       "  right: .2ex;\n",
       "  padding: .5ex;\n",
       "  margin: .5ex;\n",
       "  width: min-content;\n",
       "  min-width: 20ex;\n",
       "  max-width: 50ex;\n",
       "  color: var(--sklearn-color-text);\n",
       "  box-shadow: 2pt 2pt 4pt #999;\n",
       "  /* unfitted */\n",
       "  background: var(--sklearn-color-unfitted-level-0);\n",
       "  border: .5pt solid var(--sklearn-color-unfitted-level-3);\n",
       "}\n",
       "\n",
       ".sk-estimator-doc-link.fitted span {\n",
       "  /* fitted */\n",
       "  background: var(--sklearn-color-fitted-level-0);\n",
       "  border: var(--sklearn-color-fitted-level-3);\n",
       "}\n",
       "\n",
       ".sk-estimator-doc-link:hover span {\n",
       "  display: block;\n",
       "}\n",
       "\n",
       "/* \"?\"-specific style due to the `<a>` HTML tag */\n",
       "\n",
       "#sk-container-id-1 a.estimator_doc_link {\n",
       "  float: right;\n",
       "  font-size: 1rem;\n",
       "  line-height: 1em;\n",
       "  font-family: monospace;\n",
       "  background-color: var(--sklearn-color-background);\n",
       "  border-radius: 1rem;\n",
       "  height: 1rem;\n",
       "  width: 1rem;\n",
       "  text-decoration: none;\n",
       "  /* unfitted */\n",
       "  color: var(--sklearn-color-unfitted-level-1);\n",
       "  border: var(--sklearn-color-unfitted-level-1) 1pt solid;\n",
       "}\n",
       "\n",
       "#sk-container-id-1 a.estimator_doc_link.fitted {\n",
       "  /* fitted */\n",
       "  border: var(--sklearn-color-fitted-level-1) 1pt solid;\n",
       "  color: var(--sklearn-color-fitted-level-1);\n",
       "}\n",
       "\n",
       "/* On hover */\n",
       "#sk-container-id-1 a.estimator_doc_link:hover {\n",
       "  /* unfitted */\n",
       "  background-color: var(--sklearn-color-unfitted-level-3);\n",
       "  color: var(--sklearn-color-background);\n",
       "  text-decoration: none;\n",
       "}\n",
       "\n",
       "#sk-container-id-1 a.estimator_doc_link.fitted:hover {\n",
       "  /* fitted */\n",
       "  background-color: var(--sklearn-color-fitted-level-3);\n",
       "}\n",
       "</style><div id=\"sk-container-id-1\" class=\"sk-top-container\"><div class=\"sk-text-repr-fallback\"><pre>StackingRegressor(cv=5,\n",
       "                  estimators=[(&#x27;rf&#x27;,\n",
       "                               RandomForestRegressor(max_depth=10,\n",
       "                                                     n_estimators=50,\n",
       "                                                     random_state=42)),\n",
       "                              (&#x27;gb&#x27;,\n",
       "                               HistGradientBoostingRegressor(max_iter=200,\n",
       "                                                             random_state=42))],\n",
       "                  final_estimator=GradientBoostingRegressor(random_state=42),\n",
       "                  passthrough=True)</pre><b>In a Jupyter environment, please rerun this cell to show the HTML representation or trust the notebook. <br />On GitHub, the HTML representation is unable to render, please try loading this page with nbviewer.org.</b></div><div class=\"sk-container\" hidden><div class=\"sk-item sk-dashed-wrapped\"><div class=\"sk-label-container\"><div class=\"sk-label fitted sk-toggleable\"><input class=\"sk-toggleable__control sk-hidden--visually\" id=\"sk-estimator-id-1\" type=\"checkbox\" ><label for=\"sk-estimator-id-1\" class=\"sk-toggleable__label fitted sk-toggleable__label-arrow fitted\">&nbsp;&nbsp;StackingRegressor<a class=\"sk-estimator-doc-link fitted\" rel=\"noreferrer\" target=\"_blank\" href=\"https://scikit-learn.org/1.5/modules/generated/sklearn.ensemble.StackingRegressor.html\">?<span>Documentation for StackingRegressor</span></a><span class=\"sk-estimator-doc-link fitted\">i<span>Fitted</span></span></label><div class=\"sk-toggleable__content fitted\"><pre>StackingRegressor(cv=5,\n",
       "                  estimators=[(&#x27;rf&#x27;,\n",
       "                               RandomForestRegressor(max_depth=10,\n",
       "                                                     n_estimators=50,\n",
       "                                                     random_state=42)),\n",
       "                              (&#x27;gb&#x27;,\n",
       "                               HistGradientBoostingRegressor(max_iter=200,\n",
       "                                                             random_state=42))],\n",
       "                  final_estimator=GradientBoostingRegressor(random_state=42),\n",
       "                  passthrough=True)</pre></div> </div></div><div class=\"sk-serial\"><div class=\"sk-item\"><div class=\"sk-parallel\"><div class=\"sk-parallel-item\"><div class=\"sk-item\"><div class=\"sk-label-container\"><div class=\"sk-label fitted sk-toggleable\"><label>rf</label></div></div><div class=\"sk-serial\"><div class=\"sk-item\"><div class=\"sk-estimator fitted sk-toggleable\"><input class=\"sk-toggleable__control sk-hidden--visually\" id=\"sk-estimator-id-2\" type=\"checkbox\" ><label for=\"sk-estimator-id-2\" class=\"sk-toggleable__label fitted sk-toggleable__label-arrow fitted\">&nbsp;RandomForestRegressor<a class=\"sk-estimator-doc-link fitted\" rel=\"noreferrer\" target=\"_blank\" href=\"https://scikit-learn.org/1.5/modules/generated/sklearn.ensemble.RandomForestRegressor.html\">?<span>Documentation for RandomForestRegressor</span></a></label><div class=\"sk-toggleable__content fitted\"><pre>RandomForestRegressor(max_depth=10, n_estimators=50, random_state=42)</pre></div> </div></div></div></div></div><div class=\"sk-parallel-item\"><div class=\"sk-item\"><div class=\"sk-label-container\"><div class=\"sk-label fitted sk-toggleable\"><label>gb</label></div></div><div class=\"sk-serial\"><div class=\"sk-item\"><div class=\"sk-estimator fitted sk-toggleable\"><input class=\"sk-toggleable__control sk-hidden--visually\" id=\"sk-estimator-id-3\" type=\"checkbox\" ><label for=\"sk-estimator-id-3\" class=\"sk-toggleable__label fitted sk-toggleable__label-arrow fitted\">&nbsp;HistGradientBoostingRegressor<a class=\"sk-estimator-doc-link fitted\" rel=\"noreferrer\" target=\"_blank\" href=\"https://scikit-learn.org/1.5/modules/generated/sklearn.ensemble.HistGradientBoostingRegressor.html\">?<span>Documentation for HistGradientBoostingRegressor</span></a></label><div class=\"sk-toggleable__content fitted\"><pre>HistGradientBoostingRegressor(max_iter=200, random_state=42)</pre></div> </div></div></div></div></div></div></div><div class=\"sk-item\"><div class=\"sk-parallel\"><div class=\"sk-parallel-item\"><div class=\"sk-item\"><div class=\"sk-label-container\"><div class=\"sk-label fitted sk-toggleable\"><label>final_estimator</label></div></div><div class=\"sk-serial\"><div class=\"sk-item\"><div class=\"sk-estimator fitted sk-toggleable\"><input class=\"sk-toggleable__control sk-hidden--visually\" id=\"sk-estimator-id-4\" type=\"checkbox\" ><label for=\"sk-estimator-id-4\" class=\"sk-toggleable__label fitted sk-toggleable__label-arrow fitted\">&nbsp;GradientBoostingRegressor<a class=\"sk-estimator-doc-link fitted\" rel=\"noreferrer\" target=\"_blank\" href=\"https://scikit-learn.org/1.5/modules/generated/sklearn.ensemble.GradientBoostingRegressor.html\">?<span>Documentation for GradientBoostingRegressor</span></a></label><div class=\"sk-toggleable__content fitted\"><pre>GradientBoostingRegressor(random_state=42)</pre></div> </div></div></div></div></div></div></div></div></div></div></div>"
      ]
     },
     "execution_count": 9,
     "metadata": {},
     "output_type": "execute_result"
    }
   ],
   "execution_count": 9
  },
  {
   "cell_type": "markdown",
   "id": "815ef4c382b840a9",
   "metadata": {},
   "source": [
    "# Step 5: Model Results"
   ]
  },
  {
   "cell_type": "code",
   "id": "cdef0f40e98d05df",
   "metadata": {
    "ExecuteTime": {
     "end_time": "2025-08-01T09:56:17.651457Z",
     "start_time": "2025-08-01T09:56:17.599513Z"
    }
   },
   "source": [
    "from p_dev_mdl_rslts import *\n",
    "\n",
    "summary_2024_transfers = model_vs_actual(df_2024_transfers, scaler_x, best_stack_model)\n",
    "summary_2024_no_transfers = model_vs_actual(df_2024_no_transfers, scaler_x, best_stack_model)\n"
   ],
   "outputs": [],
   "execution_count": 16
  },
  {
   "metadata": {},
   "cell_type": "markdown",
   "source": "### Prediction vs actual of 4th year for players who played all four seasons at one school. ",
   "id": "5295c3ce77ef4d5"
  },
  {
   "metadata": {
    "ExecuteTime": {
     "end_time": "2025-08-01T09:56:20.824618Z",
     "start_time": "2025-08-01T09:56:20.630812Z"
    }
   },
   "cell_type": "code",
   "source": [
    "# Results to test the models predicted values for players who stayed 4 years at one school. \n",
    "# Model trained on 3 years and then predicts year 4 vs actual for year 4 at that school\n",
    "top0, bottom0 = model_results(summary_2024_no_transfers)"
   ],
   "id": "e777079e94f18363",
   "outputs": [
    {
     "name": "stdout",
     "output_type": "stream",
     "text": [
      "Mean Squared Error: 0.10\n",
      "R² Score: 0.806\n"
     ]
    },
    {
     "data": {
      "text/plain": [
       "<Figure size 800x600 with 1 Axes>"
      ],
      "image/png": "[encoded data removed]"
     },
     "metadata": {},
     "output_type": "display_data"
    },
    {
     "data": {
      "text/plain": [
       "<Figure size 800x500 with 1 Axes>"
      ],
      "image/png": "[encoded data removed]"
     },
     "metadata": {},
     "output_type": "display_data"
    }
   ],
   "execution_count": 17
  },
  {
   "cell_type": "code",
   "id": "3f988ae483a426c7",
   "metadata": {
    "ExecuteTime": {
     "end_time": "2025-08-01T09:36:05.206284Z",
     "start_time": "2025-08-01T09:36:05.200708Z"
    }
   },
   "source": [
    "top0"
   ],
   "outputs": [
    {
     "data": {
      "text/plain": [
       "               player  Actual Composite Score (2024)  Predicted  \\\n",
       "256   Harouna Sissoko                      -1.429460  -1.815433   \n",
       "70   Bryson Childress                      -1.244712  -1.408407   \n",
       "148      Mason Gillis                       0.756499   0.649062   \n",
       "205       Max Fiedler                       1.903022   1.815308   \n",
       "99        Avery Felts                       0.147457   0.092073   \n",
       "\n",
       "     Estimated Difference              role  role_encoded  \n",
       "256              0.385973       Benchwarmer             0  \n",
       "70               0.163695       Benchwarmer             0  \n",
       "148              0.107438      Limited Role             2  \n",
       "205              0.087714       Role Player             5  \n",
       "99               0.055384  Nearly Invisible             4  "
      ],
      "text/html": [
       "<div>\n",
       "<style scoped>\n",
       "    .dataframe tbody tr th:only-of-type {\n",
       "        vertical-align: middle;\n",
       "    }\n",
       "\n",
       "    .dataframe tbody tr th {\n",
       "        vertical-align: top;\n",
       "    }\n",
       "\n",
       "    .dataframe thead th {\n",
       "        text-align: right;\n",
       "    }\n",
       "</style>\n",
       "<table border=\"1\" class=\"dataframe\">\n",
       "  <thead>\n",
       "    <tr style=\"text-align: right;\">\n",
       "      <th></th>\n",
       "      <th>player</th>\n",
       "      <th>Actual Composite Score (2024)</th>\n",
       "      <th>Predicted</th>\n",
       "      <th>Estimated Difference</th>\n",
       "      <th>role</th>\n",
       "      <th>role_encoded</th>\n",
       "    </tr>\n",
       "  </thead>\n",
       "  <tbody>\n",
       "    <tr>\n",
       "      <th>256</th>\n",
       "      <td>Harouna Sissoko</td>\n",
       "      <td>-1.429460</td>\n",
       "      <td>-1.815433</td>\n",
       "      <td>0.385973</td>\n",
       "      <td>Benchwarmer</td>\n",
       "      <td>0</td>\n",
       "    </tr>\n",
       "    <tr>\n",
       "      <th>70</th>\n",
       "      <td>Bryson Childress</td>\n",
       "      <td>-1.244712</td>\n",
       "      <td>-1.408407</td>\n",
       "      <td>0.163695</td>\n",
       "      <td>Benchwarmer</td>\n",
       "      <td>0</td>\n",
       "    </tr>\n",
       "    <tr>\n",
       "      <th>148</th>\n",
       "      <td>Mason Gillis</td>\n",
       "      <td>0.756499</td>\n",
       "      <td>0.649062</td>\n",
       "      <td>0.107438</td>\n",
       "      <td>Limited Role</td>\n",
       "      <td>2</td>\n",
       "    </tr>\n",
       "    <tr>\n",
       "      <th>205</th>\n",
       "      <td>Max Fiedler</td>\n",
       "      <td>1.903022</td>\n",
       "      <td>1.815308</td>\n",
       "      <td>0.087714</td>\n",
       "      <td>Role Player</td>\n",
       "      <td>5</td>\n",
       "    </tr>\n",
       "    <tr>\n",
       "      <th>99</th>\n",
       "      <td>Avery Felts</td>\n",
       "      <td>0.147457</td>\n",
       "      <td>0.092073</td>\n",
       "      <td>0.055384</td>\n",
       "      <td>Nearly Invisible</td>\n",
       "      <td>4</td>\n",
       "    </tr>\n",
       "  </tbody>\n",
       "</table>\n",
       "</div>"
      ]
     },
     "execution_count": 12,
     "metadata": {},
     "output_type": "execute_result"
    }
   ],
   "execution_count": 12
  },
  {
   "cell_type": "code",
   "id": "cfae1b9aa92f0de",
   "metadata": {
    "ExecuteTime": {
     "end_time": "2025-08-01T09:36:05.845974Z",
     "start_time": "2025-08-01T09:36:05.840042Z"
    }
   },
   "source": [
    "bottom0"
   ],
   "outputs": [
    {
     "data": {
      "text/plain": [
       "                player  Actual Composite Score (2024)  Predicted  \\\n",
       "239     Quoiren Waldon                      -3.284698  -2.233377   \n",
       "55       Dylan Branson                      -0.961680  -0.254749   \n",
       "216        Isaiah Hill                       1.047328   1.744775   \n",
       "209        Golden Dike                       0.314810   0.944365   \n",
       "131  Josh Pierre-Louis                       0.426031   1.019745   \n",
       "\n",
       "     Estimated Difference                     role  role_encoded  \n",
       "239             -1.051320         Nearly Invisible             4  \n",
       "55              -0.706931              Role Player             5  \n",
       "216             -0.697447  Significant Contributor             6  \n",
       "209             -0.629554  Significant Contributor             6  \n",
       "131             -0.593714  Significant Contributor             6  "
      ],
      "text/html": [
       "<div>\n",
       "<style scoped>\n",
       "    .dataframe tbody tr th:only-of-type {\n",
       "        vertical-align: middle;\n",
       "    }\n",
       "\n",
       "    .dataframe tbody tr th {\n",
       "        vertical-align: top;\n",
       "    }\n",
       "\n",
       "    .dataframe thead th {\n",
       "        text-align: right;\n",
       "    }\n",
       "</style>\n",
       "<table border=\"1\" class=\"dataframe\">\n",
       "  <thead>\n",
       "    <tr style=\"text-align: right;\">\n",
       "      <th></th>\n",
       "      <th>player</th>\n",
       "      <th>Actual Composite Score (2024)</th>\n",
       "      <th>Predicted</th>\n",
       "      <th>Estimated Difference</th>\n",
       "      <th>role</th>\n",
       "      <th>role_encoded</th>\n",
       "    </tr>\n",
       "  </thead>\n",
       "  <tbody>\n",
       "    <tr>\n",
       "      <th>239</th>\n",
       "      <td>Quoiren Waldon</td>\n",
       "      <td>-3.284698</td>\n",
       "      <td>-2.233377</td>\n",
       "      <td>-1.051320</td>\n",
       "      <td>Nearly Invisible</td>\n",
       "      <td>4</td>\n",
       "    </tr>\n",
       "    <tr>\n",
       "      <th>55</th>\n",
       "      <td>Dylan Branson</td>\n",
       "      <td>-0.961680</td>\n",
       "      <td>-0.254749</td>\n",
       "      <td>-0.706931</td>\n",
       "      <td>Role Player</td>\n",
       "      <td>5</td>\n",
       "    </tr>\n",
       "    <tr>\n",
       "      <th>216</th>\n",
       "      <td>Isaiah Hill</td>\n",
       "      <td>1.047328</td>\n",
       "      <td>1.744775</td>\n",
       "      <td>-0.697447</td>\n",
       "      <td>Significant Contributor</td>\n",
       "      <td>6</td>\n",
       "    </tr>\n",
       "    <tr>\n",
       "      <th>209</th>\n",
       "      <td>Golden Dike</td>\n",
       "      <td>0.314810</td>\n",
       "      <td>0.944365</td>\n",
       "      <td>-0.629554</td>\n",
       "      <td>Significant Contributor</td>\n",
       "      <td>6</td>\n",
       "    </tr>\n",
       "    <tr>\n",
       "      <th>131</th>\n",
       "      <td>Josh Pierre-Louis</td>\n",
       "      <td>0.426031</td>\n",
       "      <td>1.019745</td>\n",
       "      <td>-0.593714</td>\n",
       "      <td>Significant Contributor</td>\n",
       "      <td>6</td>\n",
       "    </tr>\n",
       "  </tbody>\n",
       "</table>\n",
       "</div>"
      ]
     },
     "execution_count": 13,
     "metadata": {},
     "output_type": "execute_result"
    }
   ],
   "execution_count": 13
  },
  {
   "metadata": {},
   "cell_type": "markdown",
   "source": "### Prediction vs actual of 4th year for players who played three seasons at one school before transferring for year 4. ",
   "id": "6e07ebc653de4d60"
  },
  {
   "metadata": {
    "ExecuteTime": {
     "end_time": "2025-08-01T09:36:08.580177Z",
     "start_time": "2025-08-01T09:36:08.481412Z"
    }
   },
   "cell_type": "code",
   "source": [
    "# Results to test the models predicted values for players who stayed 3 years at one school before transferring. \n",
    "# Model trained on 3 years and then predicted year 4 as if the player stayed at same school vs actual for year 4 at different school\n",
    "top1, bottom1 = model_results(summary_2024_transfers)"
   ],
   "id": "5b0e029f4a54b8b9",
   "outputs": [
    {
     "name": "stdout",
     "output_type": "stream",
     "text": [
      "Mean Squared Error: 0.05\n",
      "R² Score: 0.899\n"
     ]
    },
    {
     "data": {
      "text/plain": [
       "<Figure size 800x500 with 1 Axes>"
      ],
      "image/png": "[encoded data removed]"
     },
     "metadata": {},
     "output_type": "display_data"
    }
   ],
   "execution_count": 14
  },
  {
   "cell_type": "code",
   "id": "378eb9583f45b67a",
   "metadata": {
    "ExecuteTime": {
     "end_time": "2025-08-01T09:36:09.597359Z",
     "start_time": "2025-08-01T09:36:09.591974Z"
    }
   },
   "source": [
    "top1"
   ],
   "outputs": [
    {
     "data": {
      "text/plain": [
       "             player  Actual Composite Score (2024)  Predicted  \\\n",
       "13  Julian Rishwain                       1.011888   0.544750   \n",
       "50      Jared Bynum                       0.884574   0.486457   \n",
       "12      Zyon Pullin                       1.571381   1.320278   \n",
       "32      Nate Martin                       1.234266   0.985834   \n",
       "58     Joe Anderson                       1.318988   1.145152   \n",
       "\n",
       "    Estimated Difference                     role  role_encoded  \n",
       "13              0.467138              Benchwarmer             0  \n",
       "50              0.398117  Significant Contributor             6  \n",
       "12              0.251102  Significant Contributor             6  \n",
       "32              0.248432              Role Player             5  \n",
       "58              0.173836             Limited Role             2  "
      ],
      "text/html": [
       "<div>\n",
       "<style scoped>\n",
       "    .dataframe tbody tr th:only-of-type {\n",
       "        vertical-align: middle;\n",
       "    }\n",
       "\n",
       "    .dataframe tbody tr th {\n",
       "        vertical-align: top;\n",
       "    }\n",
       "\n",
       "    .dataframe thead th {\n",
       "        text-align: right;\n",
       "    }\n",
       "</style>\n",
       "<table border=\"1\" class=\"dataframe\">\n",
       "  <thead>\n",
       "    <tr style=\"text-align: right;\">\n",
       "      <th></th>\n",
       "      <th>player</th>\n",
       "      <th>Actual Composite Score (2024)</th>\n",
       "      <th>Predicted</th>\n",
       "      <th>Estimated Difference</th>\n",
       "      <th>role</th>\n",
       "      <th>role_encoded</th>\n",
       "    </tr>\n",
       "  </thead>\n",
       "  <tbody>\n",
       "    <tr>\n",
       "      <th>13</th>\n",
       "      <td>Julian Rishwain</td>\n",
       "      <td>1.011888</td>\n",
       "      <td>0.544750</td>\n",
       "      <td>0.467138</td>\n",
       "      <td>Benchwarmer</td>\n",
       "      <td>0</td>\n",
       "    </tr>\n",
       "    <tr>\n",
       "      <th>50</th>\n",
       "      <td>Jared Bynum</td>\n",
       "      <td>0.884574</td>\n",
       "      <td>0.486457</td>\n",
       "      <td>0.398117</td>\n",
       "      <td>Significant Contributor</td>\n",
       "      <td>6</td>\n",
       "    </tr>\n",
       "    <tr>\n",
       "      <th>12</th>\n",
       "      <td>Zyon Pullin</td>\n",
       "      <td>1.571381</td>\n",
       "      <td>1.320278</td>\n",
       "      <td>0.251102</td>\n",
       "      <td>Significant Contributor</td>\n",
       "      <td>6</td>\n",
       "    </tr>\n",
       "    <tr>\n",
       "      <th>32</th>\n",
       "      <td>Nate Martin</td>\n",
       "      <td>1.234266</td>\n",
       "      <td>0.985834</td>\n",
       "      <td>0.248432</td>\n",
       "      <td>Role Player</td>\n",
       "      <td>5</td>\n",
       "    </tr>\n",
       "    <tr>\n",
       "      <th>58</th>\n",
       "      <td>Joe Anderson</td>\n",
       "      <td>1.318988</td>\n",
       "      <td>1.145152</td>\n",
       "      <td>0.173836</td>\n",
       "      <td>Limited Role</td>\n",
       "      <td>2</td>\n",
       "    </tr>\n",
       "  </tbody>\n",
       "</table>\n",
       "</div>"
      ]
     },
     "execution_count": 15,
     "metadata": {},
     "output_type": "execute_result"
    }
   ],
   "execution_count": 15
  },
  {
   "cell_type": "code",
   "id": "467626ef1eb0ee6b",
   "metadata": {
    "ExecuteTime": {
     "end_time": "2025-08-01T09:36:10.197965Z",
     "start_time": "2025-08-01T09:36:10.192837Z"
    }
   },
   "source": [
    "bottom1"
   ],
   "outputs": [
    {
     "data": {
      "text/plain": [
       "               player  Actual Composite Score (2024)  Predicted  \\\n",
       "88       Evan Johnson                      -1.786404  -1.154275   \n",
       "135  Terrell Williams                      -1.929569  -1.310784   \n",
       "112     Jeremiah Oden                      -1.165407  -0.681525   \n",
       "200          Tre Wood                      -1.396853  -0.943514   \n",
       "69      Anthony Crump                      -0.784138  -0.332691   \n",
       "\n",
       "     Estimated Difference                     role  role_encoded  \n",
       "88              -0.632128              Benchwarmer             0  \n",
       "135             -0.618786              Role Player             5  \n",
       "112             -0.483881              Role Player             5  \n",
       "200             -0.453339  Significant Contributor             6  \n",
       "69              -0.451447              Role Player             5  "
      ],
      "text/html": [
       "<div>\n",
       "<style scoped>\n",
       "    .dataframe tbody tr th:only-of-type {\n",
       "        vertical-align: middle;\n",
       "    }\n",
       "\n",
       "    .dataframe tbody tr th {\n",
       "        vertical-align: top;\n",
       "    }\n",
       "\n",
       "    .dataframe thead th {\n",
       "        text-align: right;\n",
       "    }\n",
       "</style>\n",
       "<table border=\"1\" class=\"dataframe\">\n",
       "  <thead>\n",
       "    <tr style=\"text-align: right;\">\n",
       "      <th></th>\n",
       "      <th>player</th>\n",
       "      <th>Actual Composite Score (2024)</th>\n",
       "      <th>Predicted</th>\n",
       "      <th>Estimated Difference</th>\n",
       "      <th>role</th>\n",
       "      <th>role_encoded</th>\n",
       "    </tr>\n",
       "  </thead>\n",
       "  <tbody>\n",
       "    <tr>\n",
       "      <th>88</th>\n",
       "      <td>Evan Johnson</td>\n",
       "      <td>-1.786404</td>\n",
       "      <td>-1.154275</td>\n",
       "      <td>-0.632128</td>\n",
       "      <td>Benchwarmer</td>\n",
       "      <td>0</td>\n",
       "    </tr>\n",
       "    <tr>\n",
       "      <th>135</th>\n",
       "      <td>Terrell Williams</td>\n",
       "      <td>-1.929569</td>\n",
       "      <td>-1.310784</td>\n",
       "      <td>-0.618786</td>\n",
       "      <td>Role Player</td>\n",
       "      <td>5</td>\n",
       "    </tr>\n",
       "    <tr>\n",
       "      <th>112</th>\n",
       "      <td>Jeremiah Oden</td>\n",
       "      <td>-1.165407</td>\n",
       "      <td>-0.681525</td>\n",
       "      <td>-0.483881</td>\n",
       "      <td>Role Player</td>\n",
       "      <td>5</td>\n",
       "    </tr>\n",
       "    <tr>\n",
       "      <th>200</th>\n",
       "      <td>Tre Wood</td>\n",
       "      <td>-1.396853</td>\n",
       "      <td>-0.943514</td>\n",
       "      <td>-0.453339</td>\n",
       "      <td>Significant Contributor</td>\n",
       "      <td>6</td>\n",
       "    </tr>\n",
       "    <tr>\n",
       "      <th>69</th>\n",
       "      <td>Anthony Crump</td>\n",
       "      <td>-0.784138</td>\n",
       "      <td>-0.332691</td>\n",
       "      <td>-0.451447</td>\n",
       "      <td>Role Player</td>\n",
       "      <td>5</td>\n",
       "    </tr>\n",
       "  </tbody>\n",
       "</table>\n",
       "</div>"
      ]
     },
     "execution_count": 16,
     "metadata": {},
     "output_type": "execute_result"
    }
   ],
   "execution_count": 16
  },
  {
   "cell_type": "code",
   "id": "fe5e05f3",
   "metadata": {
    "ExecuteTime": {
     "end_time": "2025-08-01T09:36:12.423099Z",
     "start_time": "2025-08-01T09:36:12.420252Z"
    }
   },
   "source": [
    "# Model 1: Players who stayed\n",
    "avg_diff_model1 = summary_2024_no_transfers[\"Estimated Difference\"].mean()\n",
    "\n",
    "# Model 2: Transfers (actual vs predicted if stayed)\n",
    "avg_diff_model2 = summary_2024_transfers[\"Estimated Difference\"].mean()\n",
    "\n",
    "print(f\"Average diff (Model 1 - no transfers): {avg_diff_model1:.4f}\")\n",
    "print(f\"Average diff (Model 2 - transfers): {avg_diff_model2:.4f}\")"
   ],
   "outputs": [
    {
     "name": "stdout",
     "output_type": "stream",
     "text": [
      "Average diff (Model 1 - no transfers): -0.2801\n",
      "Average diff (Model 2 - transfers): -0.1585\n"
     ]
    }
   ],
   "execution_count": 17
  },
  {
   "cell_type": "markdown",
   "id": "88ecbac7",
   "metadata": {},
   "source": [
    "On average, players who stayed at their original school for four years performed 0.28 points below what our model predicted based on their first three years.\n",
    "Players who transferred after three years also underperformed expectations, but by a smaller margin of 0.16 points.\n",
    "Players are not neccessarily worse, just their growth between their third to fourth year is less than in prior years (this makes sense, fourth year players are not expected to make the same jump in their game as other players).\n",
    "This suggests that while both groups saw less growth than predicted in year 4, transferring may mitigate that shortfall. In other words, transferring might offer a performance advantage — not by guaranteeing improvement, but by helping players avoid the stagnation or slower growth they may have experienced if they had stayed.\n",
    "These findings provide preliminary evidence that transferring can be beneficial for maintaining or improving a player’s developmental trajectory in year 4."
   ]
  },
  {
   "metadata": {
    "ExecuteTime": {
     "end_time": "2025-07-31T22:50:44.581972Z",
     "start_time": "2025-07-31T22:50:44.570816Z"
    }
   },
   "cell_type": "code",
   "source": [
    "def get_2024_team(summary_df, original_df):\n",
    "    # Filter original_df for 2024 entries\n",
    "    df_24 = original_df[original_df['year'] == 2024]\n",
    "    \n",
    "    # Select only player and team columns\n",
    "    df_24_team = df_24[['player', 'team']].drop_duplicates()\n",
    "\n",
    "    # Merge on player to get team\n",
    "    merged_df = summary_df.merge(df_24_team, on = 'player', how = 'left')\n",
    "\n",
    "    return merged_df\n",
    "\n",
    "player_team_2024 = get_2024_team(summary_2024_transfers, df)\n",
    "\n",
    "player_team_2024.head()"
   ],
   "id": "86c9a84d35b2a052",
   "outputs": [
    {
     "data": {
      "text/plain": [
       "            player  Actual Composite Score (2024)  Predicted  \\\n",
       "0    Rodney Howard                      -0.125654   0.088050   \n",
       "1   Brandon Newman                      -0.319469  -0.133702   \n",
       "2  Khydarius Smith                      -0.669608  -0.403061   \n",
       "3    Garrett Hicks                       0.284952   0.267976   \n",
       "4     Zach Loveday                      -0.449286  -0.282612   \n",
       "\n",
       "   Estimated Difference              team  \n",
       "0             -0.213703  Western Kentucky  \n",
       "1             -0.185768  Western Kentucky  \n",
       "2             -0.266547              UMBC  \n",
       "3              0.016976           Samford  \n",
       "4             -0.166674           Samford  "
      ],
      "text/html": [
       "<div>\n",
       "<style scoped>\n",
       "    .dataframe tbody tr th:only-of-type {\n",
       "        vertical-align: middle;\n",
       "    }\n",
       "\n",
       "    .dataframe tbody tr th {\n",
       "        vertical-align: top;\n",
       "    }\n",
       "\n",
       "    .dataframe thead th {\n",
       "        text-align: right;\n",
       "    }\n",
       "</style>\n",
       "<table border=\"1\" class=\"dataframe\">\n",
       "  <thead>\n",
       "    <tr style=\"text-align: right;\">\n",
       "      <th></th>\n",
       "      <th>player</th>\n",
       "      <th>Actual Composite Score (2024)</th>\n",
       "      <th>Predicted</th>\n",
       "      <th>Estimated Difference</th>\n",
       "      <th>team</th>\n",
       "    </tr>\n",
       "  </thead>\n",
       "  <tbody>\n",
       "    <tr>\n",
       "      <th>0</th>\n",
       "      <td>Rodney Howard</td>\n",
       "      <td>-0.125654</td>\n",
       "      <td>0.088050</td>\n",
       "      <td>-0.213703</td>\n",
       "      <td>Western Kentucky</td>\n",
       "    </tr>\n",
       "    <tr>\n",
       "      <th>1</th>\n",
       "      <td>Brandon Newman</td>\n",
       "      <td>-0.319469</td>\n",
       "      <td>-0.133702</td>\n",
       "      <td>-0.185768</td>\n",
       "      <td>Western Kentucky</td>\n",
       "    </tr>\n",
       "    <tr>\n",
       "      <th>2</th>\n",
       "      <td>Khydarius Smith</td>\n",
       "      <td>-0.669608</td>\n",
       "      <td>-0.403061</td>\n",
       "      <td>-0.266547</td>\n",
       "      <td>UMBC</td>\n",
       "    </tr>\n",
       "    <tr>\n",
       "      <th>3</th>\n",
       "      <td>Garrett Hicks</td>\n",
       "      <td>0.284952</td>\n",
       "      <td>0.267976</td>\n",
       "      <td>0.016976</td>\n",
       "      <td>Samford</td>\n",
       "    </tr>\n",
       "    <tr>\n",
       "      <th>4</th>\n",
       "      <td>Zach Loveday</td>\n",
       "      <td>-0.449286</td>\n",
       "      <td>-0.282612</td>\n",
       "      <td>-0.166674</td>\n",
       "      <td>Samford</td>\n",
       "    </tr>\n",
       "  </tbody>\n",
       "</table>\n",
       "</div>"
      ]
     },
     "execution_count": 19,
     "metadata": {},
     "output_type": "execute_result"
    }
   ],
   "execution_count": 19
  },
  {
   "metadata": {
    "ExecuteTime": {
     "end_time": "2025-07-31T22:50:45.657804Z",
     "start_time": "2025-07-31T22:50:45.653202Z"
    }
   },
   "cell_type": "code",
   "source": [
    "team_effect_sum = player_team_2024.groupby('team')['Estimated Difference'].sum().sort_values(ascending = False)\n",
    "\n",
    "# Display the top 5 teams\n",
    "top_5_teams = team_effect_sum.head(5)\n",
    "\n",
    "print(\"Top 5 teams by net estimated transfer impact:\")\n",
    "for team, impact in top_5_teams.items():\n",
    "    print(f\"{team}: {impact:.2f}\")"
   ],
   "id": "93934b6f3874b9ad",
   "outputs": [
    {
     "name": "stdout",
     "output_type": "stream",
     "text": [
      "Top 5 teams by net estimated transfer impact:\n",
      "Florida: 0.60\n",
      "Stanford: 0.40\n",
      "Marshall: 0.25\n",
      "Alabama: 0.21\n",
      "Denver: 0.14\n"
     ]
    }
   ],
   "execution_count": 20
  },
  {
   "metadata": {
    "ExecuteTime": {
     "end_time": "2025-07-30T09:55:21.296739Z",
     "start_time": "2025-07-30T09:55:21.292520Z"
    }
   },
   "cell_type": "code",
   "source": [
    "team_effect_sum = player_team_2024.groupby('team')['Estimated Difference'].sum().sort_values(ascending=True)\n",
    "\n",
    "# Display the bottom 5 teams\n",
    "bottom_5_teams = team_effect_sum.head(5)\n",
    "\n",
    "print(\"Bottom 5 teams by net estimated transfer impact:\")\n",
    "for team, impact in bottom_5_teams.items():\n",
    "    print(f\"{team}: {impact:.2f}\")"
   ],
   "id": "e025415915bc080e",
   "outputs": [
    {
     "name": "stdout",
     "output_type": "stream",
     "text": [
      "Bottom 5 teams by net estimated transfer impact:\n",
      "Iona: -1.05\n",
      "Butler: -0.88\n",
      "UNC Asheville: -0.84\n",
      "Richmond: -0.74\n",
      "Villanova: -0.70\n"
     ]
    }
   ],
   "execution_count": 20
  },
  {
   "metadata": {
    "ExecuteTime": {
     "end_time": "2025-07-31T22:50:47.274930Z",
     "start_time": "2025-07-31T22:50:47.269374Z"
    }
   },
   "cell_type": "code",
   "source": "player_team_2024[player_team_2024['team'] == 'Alabama']",
   "id": "d4fd105b9b159ecc",
   "outputs": [
    {
     "data": {
      "text/plain": [
       "               player  Actual Composite Score (2024)  Predicted  \\\n",
       "7        Grant Nelson                       0.699665   0.632932   \n",
       "8  Latrell Wrightsell                       0.746754   0.607929   \n",
       "\n",
       "   Estimated Difference     team  \n",
       "7              0.066733  Alabama  \n",
       "8              0.138826  Alabama  "
      ],
      "text/html": [
       "<div>\n",
       "<style scoped>\n",
       "    .dataframe tbody tr th:only-of-type {\n",
       "        vertical-align: middle;\n",
       "    }\n",
       "\n",
       "    .dataframe tbody tr th {\n",
       "        vertical-align: top;\n",
       "    }\n",
       "\n",
       "    .dataframe thead th {\n",
       "        text-align: right;\n",
       "    }\n",
       "</style>\n",
       "<table border=\"1\" class=\"dataframe\">\n",
       "  <thead>\n",
       "    <tr style=\"text-align: right;\">\n",
       "      <th></th>\n",
       "      <th>player</th>\n",
       "      <th>Actual Composite Score (2024)</th>\n",
       "      <th>Predicted</th>\n",
       "      <th>Estimated Difference</th>\n",
       "      <th>team</th>\n",
       "    </tr>\n",
       "  </thead>\n",
       "  <tbody>\n",
       "    <tr>\n",
       "      <th>7</th>\n",
       "      <td>Grant Nelson</td>\n",
       "      <td>0.699665</td>\n",
       "      <td>0.632932</td>\n",
       "      <td>0.066733</td>\n",
       "      <td>Alabama</td>\n",
       "    </tr>\n",
       "    <tr>\n",
       "      <th>8</th>\n",
       "      <td>Latrell Wrightsell</td>\n",
       "      <td>0.746754</td>\n",
       "      <td>0.607929</td>\n",
       "      <td>0.138826</td>\n",
       "      <td>Alabama</td>\n",
       "    </tr>\n",
       "  </tbody>\n",
       "</table>\n",
       "</div>"
      ]
     },
     "execution_count": 21,
     "metadata": {},
     "output_type": "execute_result"
    }
   ],
   "execution_count": 21
  },
  {
   "metadata": {
    "ExecuteTime": {
     "end_time": "2025-07-31T22:50:48.802043Z",
     "start_time": "2025-07-31T22:50:48.795718Z"
    }
   },
   "cell_type": "code",
   "source": "player_team_2024[player_team_2024['team'] == 'TCU']",
   "id": "344503e7cdd70acd",
   "outputs": [
    {
     "data": {
      "text/plain": [
       "            player  Actual Composite Score (2024)  Predicted  \\\n",
       "43  Avery Anderson                       0.442651   0.617218   \n",
       "44   Essam Mostafa                       0.255546   0.208435   \n",
       "\n",
       "    Estimated Difference team  \n",
       "43             -0.174567  TCU  \n",
       "44              0.047111  TCU  "
      ],
      "text/html": [
       "<div>\n",
       "<style scoped>\n",
       "    .dataframe tbody tr th:only-of-type {\n",
       "        vertical-align: middle;\n",
       "    }\n",
       "\n",
       "    .dataframe tbody tr th {\n",
       "        vertical-align: top;\n",
       "    }\n",
       "\n",
       "    .dataframe thead th {\n",
       "        text-align: right;\n",
       "    }\n",
       "</style>\n",
       "<table border=\"1\" class=\"dataframe\">\n",
       "  <thead>\n",
       "    <tr style=\"text-align: right;\">\n",
       "      <th></th>\n",
       "      <th>player</th>\n",
       "      <th>Actual Composite Score (2024)</th>\n",
       "      <th>Predicted</th>\n",
       "      <th>Estimated Difference</th>\n",
       "      <th>team</th>\n",
       "    </tr>\n",
       "  </thead>\n",
       "  <tbody>\n",
       "    <tr>\n",
       "      <th>43</th>\n",
       "      <td>Avery Anderson</td>\n",
       "      <td>0.442651</td>\n",
       "      <td>0.617218</td>\n",
       "      <td>-0.174567</td>\n",
       "      <td>TCU</td>\n",
       "    </tr>\n",
       "    <tr>\n",
       "      <th>44</th>\n",
       "      <td>Essam Mostafa</td>\n",
       "      <td>0.255546</td>\n",
       "      <td>0.208435</td>\n",
       "      <td>0.047111</td>\n",
       "      <td>TCU</td>\n",
       "    </tr>\n",
       "  </tbody>\n",
       "</table>\n",
       "</div>"
      ]
     },
     "execution_count": 22,
     "metadata": {},
     "output_type": "execute_result"
    }
   ],
   "execution_count": 22
  },
  {
   "metadata": {
    "ExecuteTime": {
     "end_time": "2025-07-31T22:50:50.253725Z",
     "start_time": "2025-07-31T22:50:50.247703Z"
    }
   },
   "cell_type": "code",
   "source": "player_team_2024[player_team_2024['team'] == 'Iona']",
   "id": "db1bba918d6ebc4c",
   "outputs": [
    {
     "data": {
      "text/plain": [
       "               player  Actual Composite Score (2024)  Predicted  \\\n",
       "135        Joel Brown                       0.872878   1.236532   \n",
       "136  Terrell Williams                      -1.929569  -1.310784   \n",
       "137       Wheza Panzo                       0.248973   0.318711   \n",
       "\n",
       "     Estimated Difference  team  \n",
       "135             -0.363654  Iona  \n",
       "136             -0.618786  Iona  \n",
       "137             -0.069739  Iona  "
      ],
      "text/html": [
       "<div>\n",
       "<style scoped>\n",
       "    .dataframe tbody tr th:only-of-type {\n",
       "        vertical-align: middle;\n",
       "    }\n",
       "\n",
       "    .dataframe tbody tr th {\n",
       "        vertical-align: top;\n",
       "    }\n",
       "\n",
       "    .dataframe thead th {\n",
       "        text-align: right;\n",
       "    }\n",
       "</style>\n",
       "<table border=\"1\" class=\"dataframe\">\n",
       "  <thead>\n",
       "    <tr style=\"text-align: right;\">\n",
       "      <th></th>\n",
       "      <th>player</th>\n",
       "      <th>Actual Composite Score (2024)</th>\n",
       "      <th>Predicted</th>\n",
       "      <th>Estimated Difference</th>\n",
       "      <th>team</th>\n",
       "    </tr>\n",
       "  </thead>\n",
       "  <tbody>\n",
       "    <tr>\n",
       "      <th>135</th>\n",
       "      <td>Joel Brown</td>\n",
       "      <td>0.872878</td>\n",
       "      <td>1.236532</td>\n",
       "      <td>-0.363654</td>\n",
       "      <td>Iona</td>\n",
       "    </tr>\n",
       "    <tr>\n",
       "      <th>136</th>\n",
       "      <td>Terrell Williams</td>\n",
       "      <td>-1.929569</td>\n",
       "      <td>-1.310784</td>\n",
       "      <td>-0.618786</td>\n",
       "      <td>Iona</td>\n",
       "    </tr>\n",
       "    <tr>\n",
       "      <th>137</th>\n",
       "      <td>Wheza Panzo</td>\n",
       "      <td>0.248973</td>\n",
       "      <td>0.318711</td>\n",
       "      <td>-0.069739</td>\n",
       "      <td>Iona</td>\n",
       "    </tr>\n",
       "  </tbody>\n",
       "</table>\n",
       "</div>"
      ]
     },
     "execution_count": 23,
     "metadata": {},
     "output_type": "execute_result"
    }
   ],
   "execution_count": 23
  },
  {
   "metadata": {
    "ExecuteTime": {
     "end_time": "2025-07-31T22:50:51.689409Z",
     "start_time": "2025-07-31T22:50:51.686598Z"
    }
   },
   "cell_type": "code",
   "source": [
    "# Change the name to any player for a radar plot of the top 10 features\n",
    "\n",
    "player_name_for_plot = \"Latrell Wrightsell\""
   ],
   "id": "40ecedd5b23a102f",
   "outputs": [],
   "execution_count": 24
  },
  {
   "metadata": {
    "ExecuteTime": {
     "end_time": "2025-07-31T22:50:54.063535Z",
     "start_time": "2025-07-31T22:50:53.289571Z"
    }
   },
   "cell_type": "code",
   "source": [
    "get_full_feature_names(best_stack_model, df, ev.model_vars)\n",
    "\n",
    "plot_player_radar(player_name_for_plot, \n",
    "                  pd.concat([pd.DataFrame(ev.model_vars(df)[1], columns = get_full_feature_names(best_stack_model, df, ev.model_vars)), \n",
    "                             pd.DataFrame({'player': ev.model_vars(df)[2]})], axis = 1), \n",
    "                  best_stack_model, \n",
    "                  get_full_feature_names(best_stack_model, df, ev.model_vars), \n",
    "                  top_n = 10).show()"
   ],
   "id": "6a4541f874bd56d2",
   "outputs": [
    {
     "data": {
      "application/vnd.plotly.v1+json": {
       "data": [
        {
         "fill": "toself",
         "line": {
          "color": "blue"
         },
         "name": "Latrell Wrightsell",
         "r": [
          -0.04561821798033718,
          -0.34947445898920565,
          0.16283245677261873,
          0.174479119715485,
          -1.005467806069796,
          -0.4036959588338047,
          -0.5763803496784371,
          -0.1997590774748577,
          -0.6986612241945686,
          0.9348818068985959,
          -0.04561821798033718
         ],
         "theta": [
          "to_rate",
          "ts_pct",
          "a_rate",
          "dr_pct",
          "or_pct",
          "poss_pct",
          "e_fg_pct",
          "shots_pct",
          "blk_pct",
          "min_pct",
          "to_rate"
         ],
         "type": "scatterpolar"
        },
        {
         "fill": "toself",
         "line": {
          "color": "gray",
          "dash": "dot"
         },
         "name": "Average Player",
         "r": [
          3.152129119779104E-16,
          9.657890079214766E-16,
          -2.430849065942142E-16,
          1.7259455582436295E-16,
          -1.17483917949752E-16,
          -3.137176621130954E-16,
          8.722290878087649E-17,
          2.2086976574553378E-16,
          6.806947003634117E-17,
          1.9167679219438328E-16,
          3.152129119779104E-16
         ],
         "theta": [
          "to_rate",
          "ts_pct",
          "a_rate",
          "dr_pct",
          "or_pct",
          "poss_pct",
          "e_fg_pct",
          "shots_pct",
          "blk_pct",
          "min_pct",
          "to_rate"
         ],
         "type": "scatterpolar"
        }
       ],
       "layout": {
        "template": {
         "data": {
          "histogram2dcontour": [
           {
            "type": "histogram2dcontour",
            "colorbar": {
             "outlinewidth": 0,
             "ticks": ""
            },
            "colorscale": [
             [
              0.0,
              "#0d0887"
             ],
             [
              0.1111111111111111,
              "#46039f"
             ],
             [
              0.2222222222222222,
              "#7201a8"
             ],
             [
              0.3333333333333333,
              "#9c179e"
             ],
             [
              0.4444444444444444,
              "#bd3786"
             ],
             [
              0.5555555555555556,
              "#d8576b"
             ],
             [
              0.6666666666666666,
              "#ed7953"
             ],
             [
              0.7777777777777778,
              "#fb9f3a"
             ],
             [
              0.8888888888888888,
              "#fdca26"
             ],
             [
              1.0,
              "#f0f921"
             ]
            ]
           }
          ],
          "choropleth": [
           {
            "type": "choropleth",
            "colorbar": {
             "outlinewidth": 0,
             "ticks": ""
            }
           }
          ],
          "histogram2d": [
           {
            "type": "histogram2d",
            "colorbar": {
             "outlinewidth": 0,
             "ticks": ""
            },
            "colorscale": [
             [
              0.0,
              "#0d0887"
             ],
             [
              0.1111111111111111,
              "#46039f"
             ],
             [
              0.2222222222222222,
              "#7201a8"
             ],
             [
              0.3333333333333333,
              "#9c179e"
             ],
             [
              0.4444444444444444,
              "#bd3786"
             ],
             [
              0.5555555555555556,
              "#d8576b"
             ],
             [
              0.6666666666666666,
              "#ed7953"
             ],
             [
              0.7777777777777778,
              "#fb9f3a"
             ],
             [
              0.8888888888888888,
              "#fdca26"
             ],
             [
              1.0,
              "#f0f921"
             ]
            ]
           }
          ],
          "heatmap": [
           {
            "type": "heatmap",
            "colorbar": {
             "outlinewidth": 0,
             "ticks": ""
            },
            "colorscale": [
             [
              0.0,
              "#0d0887"
             ],
             [
              0.1111111111111111,
              "#46039f"
             ],
             [
              0.2222222222222222,
              "#7201a8"
             ],
             [
              0.3333333333333333,
              "#9c179e"
             ],
             [
              0.4444444444444444,
              "#bd3786"
             ],
             [
              0.5555555555555556,
              "#d8576b"
             ],
             [
              0.6666666666666666,
              "#ed7953"
             ],
             [
              0.7777777777777778,
              "#fb9f3a"
             ],
             [
              0.8888888888888888,
              "#fdca26"
             ],
             [
              1.0,
              "#f0f921"
             ]
            ]
           }
          ],
          "contourcarpet": [
           {
            "type": "contourcarpet",
            "colorbar": {
             "outlinewidth": 0,
             "ticks": ""
            }
           }
          ],
          "contour": [
           {
            "type": "contour",
            "colorbar": {
             "outlinewidth": 0,
             "ticks": ""
            },
            "colorscale": [
             [
              0.0,
              "#0d0887"
             ],
             [
              0.1111111111111111,
              "#46039f"
             ],
             [
              0.2222222222222222,
              "#7201a8"
             ],
             [
              0.3333333333333333,
              "#9c179e"
             ],
             [
              0.4444444444444444,
              "#bd3786"
             ],
             [
              0.5555555555555556,
              "#d8576b"
             ],
             [
              0.6666666666666666,
              "#ed7953"
             ],
             [
              0.7777777777777778,
              "#fb9f3a"
             ],
             [
              0.8888888888888888,
              "#fdca26"
             ],
             [
              1.0,
              "#f0f921"
             ]
            ]
           }
          ],
          "surface": [
           {
            "type": "surface",
            "colorbar": {
             "outlinewidth": 0,
             "ticks": ""
            },
            "colorscale": [
             [
              0.0,
              "#0d0887"
             ],
             [
              0.1111111111111111,
              "#46039f"
             ],
             [
              0.2222222222222222,
              "#7201a8"
             ],
             [
              0.3333333333333333,
              "#9c179e"
             ],
             [
              0.4444444444444444,
              "#bd3786"
             ],
             [
              0.5555555555555556,
              "#d8576b"
             ],
             [
              0.6666666666666666,
              "#ed7953"
             ],
             [
              0.7777777777777778,
              "#fb9f3a"
             ],
             [
              0.8888888888888888,
              "#fdca26"
             ],
             [
              1.0,
              "#f0f921"
             ]
            ]
           }
          ],
          "mesh3d": [
           {
            "type": "mesh3d",
            "colorbar": {
             "outlinewidth": 0,
             "ticks": ""
            }
           }
          ],
          "scatter": [
           {
            "fillpattern": {
             "fillmode": "overlay",
             "size": 10,
             "solidity": 0.2
            },
            "type": "scatter"
           }
          ],
          "parcoords": [
           {
            "type": "parcoords",
            "line": {
             "colorbar": {
              "outlinewidth": 0,
              "ticks": ""
             }
            }
           }
          ],
          "scatterpolargl": [
           {
            "type": "scatterpolargl",
            "marker": {
             "colorbar": {
              "outlinewidth": 0,
              "ticks": ""
             }
            }
           }
          ],
          "bar": [
           {
            "error_x": {
             "color": "#2a3f5f"
            },
            "error_y": {
             "color": "#2a3f5f"
            },
            "marker": {
             "line": {
              "color": "#E5ECF6",
              "width": 0.5
             },
             "pattern": {
              "fillmode": "overlay",
              "size": 10,
              "solidity": 0.2
             }
            },
            "type": "bar"
           }
          ],
          "scattergeo": [
           {
            "type": "scattergeo",
            "marker": {
             "colorbar": {
              "outlinewidth": 0,
              "ticks": ""
             }
            }
           }
          ],
          "scatterpolar": [
           {
            "type": "scatterpolar",
            "marker": {
             "colorbar": {
              "outlinewidth": 0,
              "ticks": ""
             }
            }
           }
          ],
          "histogram": [
           {
            "marker": {
             "pattern": {
              "fillmode": "overlay",
              "size": 10,
              "solidity": 0.2
             }
            },
            "type": "histogram"
           }
          ],
          "scattergl": [
           {
            "type": "scattergl",
            "marker": {
             "colorbar": {
              "outlinewidth": 0,
              "ticks": ""
             }
            }
           }
          ],
          "scatter3d": [
           {
            "type": "scatter3d",
            "line": {
             "colorbar": {
              "outlinewidth": 0,
              "ticks": ""
             }
            },
            "marker": {
             "colorbar": {
              "outlinewidth": 0,
              "ticks": ""
             }
            }
           }
          ],
          "scattermap": [
           {
            "type": "scattermap",
            "marker": {
             "colorbar": {
              "outlinewidth": 0,
              "ticks": ""
             }
            }
           }
          ],
          "scattermapbox": [
           {
            "type": "scattermapbox",
            "marker": {
             "colorbar": {
              "outlinewidth": 0,
              "ticks": ""
             }
            }
           }
          ],
          "scatterternary": [
           {
            "type": "scatterternary",
            "marker": {
             "colorbar": {
              "outlinewidth": 0,
              "ticks": ""
             }
            }
           }
          ],
          "scattercarpet": [
           {
            "type": "scattercarpet",
            "marker": {
             "colorbar": {
              "outlinewidth": 0,
              "ticks": ""
             }
            }
           }
          ],
          "carpet": [
           {
            "aaxis": {
             "endlinecolor": "#2a3f5f",
             "gridcolor": "white",
             "linecolor": "white",
             "minorgridcolor": "white",
             "startlinecolor": "#2a3f5f"
            },
            "baxis": {
             "endlinecolor": "#2a3f5f",
             "gridcolor": "white",
             "linecolor": "white",
             "minorgridcolor": "white",
             "startlinecolor": "#2a3f5f"
            },
            "type": "carpet"
           }
          ],
          "table": [
           {
            "cells": {
             "fill": {
              "color": "#EBF0F8"
             },
             "line": {
              "color": "white"
             }
            },
            "header": {
             "fill": {
              "color": "#C8D4E3"
             },
             "line": {
              "color": "white"
             }
            },
            "type": "table"
           }
          ],
          "barpolar": [
           {
            "marker": {
             "line": {
              "color": "#E5ECF6",
              "width": 0.5
             },
             "pattern": {
              "fillmode": "overlay",
              "size": 10,
              "solidity": 0.2
             }
            },
            "type": "barpolar"
           }
          ],
          "pie": [
           {
            "automargin": true,
            "type": "pie"
           }
          ]
         },
         "layout": {
          "autotypenumbers": "strict",
          "colorway": [
           "#636efa",
           "#EF553B",
           "#00cc96",
           "#ab63fa",
           "#FFA15A",
           "#19d3f3",
           "#FF6692",
           "#B6E880",
           "#FF97FF",
           "#FECB52"
          ],
          "font": {
           "color": "#2a3f5f"
          },
          "hovermode": "closest",
          "hoverlabel": {
           "align": "left"
          },
          "paper_bgcolor": "white",
          "plot_bgcolor": "#E5ECF6",
          "polar": {
           "bgcolor": "#E5ECF6",
           "angularaxis": {
            "gridcolor": "white",
            "linecolor": "white",
            "ticks": ""
           },
           "radialaxis": {
            "gridcolor": "white",
            "linecolor": "white",
            "ticks": ""
           }
          },
          "ternary": {
           "bgcolor": "#E5ECF6",
           "aaxis": {
            "gridcolor": "white",
            "linecolor": "white",
            "ticks": ""
           },
           "baxis": {
            "gridcolor": "white",
            "linecolor": "white",
            "ticks": ""
           },
           "caxis": {
            "gridcolor": "white",
            "linecolor": "white",
            "ticks": ""
           }
          },
          "coloraxis": {
           "colorbar": {
            "outlinewidth": 0,
            "ticks": ""
           }
          },
          "colorscale": {
           "sequential": [
            [
             0.0,
             "#0d0887"
            ],
            [
             0.1111111111111111,
             "#46039f"
            ],
            [
             0.2222222222222222,
             "#7201a8"
            ],
            [
             0.3333333333333333,
             "#9c179e"
            ],
            [
             0.4444444444444444,
             "#bd3786"
            ],
            [
             0.5555555555555556,
             "#d8576b"
            ],
            [
             0.6666666666666666,
             "#ed7953"
            ],
            [
             0.7777777777777778,
             "#fb9f3a"
            ],
            [
             0.8888888888888888,
             "#fdca26"
            ],
            [
             1.0,
             "#f0f921"
            ]
           ],
           "sequentialminus": [
            [
             0.0,
             "#0d0887"
            ],
            [
             0.1111111111111111,
             "#46039f"
            ],
            [
             0.2222222222222222,
             "#7201a8"
            ],
            [
             0.3333333333333333,
             "#9c179e"
            ],
            [
             0.4444444444444444,
             "#bd3786"
            ],
            [
             0.5555555555555556,
             "#d8576b"
            ],
            [
             0.6666666666666666,
             "#ed7953"
            ],
            [
             0.7777777777777778,
             "#fb9f3a"
            ],
            [
             0.8888888888888888,
             "#fdca26"
            ],
            [
             1.0,
             "#f0f921"
            ]
           ],
           "diverging": [
            [
             0,
             "#8e0152"
            ],
            [
             0.1,
             "#c51b7d"
            ],
            [
             0.2,
             "#de77ae"
            ],
            [
             0.3,
             "#f1b6da"
            ],
            [
             0.4,
             "#fde0ef"
            ],
            [
             0.5,
             "#f7f7f7"
            ],
            [
             0.6,
             "#e6f5d0"
            ],
            [
             0.7,
             "#b8e186"
            ],
            [
             0.8,
             "#7fbc41"
            ],
            [
             0.9,
             "#4d9221"
            ],
            [
             1,
             "#276419"
            ]
           ]
          },
          "xaxis": {
           "gridcolor": "white",
           "linecolor": "white",
           "ticks": "",
           "title": {
            "standoff": 15
           },
           "zerolinecolor": "white",
           "automargin": true,
           "zerolinewidth": 2
          },
          "yaxis": {
           "gridcolor": "white",
           "linecolor": "white",
           "ticks": "",
           "title": {
            "standoff": 15
           },
           "zerolinecolor": "white",
           "automargin": true,
           "zerolinewidth": 2
          },
          "scene": {
           "xaxis": {
            "backgroundcolor": "#E5ECF6",
            "gridcolor": "white",
            "linecolor": "white",
            "showbackground": true,
            "ticks": "",
            "zerolinecolor": "white",
            "gridwidth": 2
           },
           "yaxis": {
            "backgroundcolor": "#E5ECF6",
            "gridcolor": "white",
            "linecolor": "white",
            "showbackground": true,
            "ticks": "",
            "zerolinecolor": "white",
            "gridwidth": 2
           },
           "zaxis": {
            "backgroundcolor": "#E5ECF6",
            "gridcolor": "white",
            "linecolor": "white",
            "showbackground": true,
            "ticks": "",
            "zerolinecolor": "white",
            "gridwidth": 2
           }
          },
          "shapedefaults": {
           "line": {
            "color": "#2a3f5f"
           }
          },
          "annotationdefaults": {
           "arrowcolor": "#2a3f5f",
           "arrowhead": 0,
           "arrowwidth": 1
          },
          "geo": {
           "bgcolor": "white",
           "landcolor": "#E5ECF6",
           "subunitcolor": "white",
           "showland": true,
           "showlakes": true,
           "lakecolor": "white"
          },
          "title": {
           "x": 0.05
          },
          "mapbox": {
           "style": "light"
          }
         }
        },
        "polar": {
         "radialaxis": {
          "visible": true,
          "showticklabels": false,
          "ticks": "",
          "showline": false,
          "showgrid": true
         },
         "angularaxis": {
          "tickfont": {
           "size": 11
          },
          "rotation": 90,
          "direction": "clockwise",
          "showline": true,
          "linecolor": "lightgray",
          "linewidth": 1,
          "gridcolor": "lightgray",
          "gridwidth": 0.5
         }
        },
        "margin": {
         "l": 45,
         "r": 45,
         "t": 45,
         "b": 45
        },
        "showlegend": true,
        "width": 700,
        "height": 600,
        "title": {
         "text": "Top 10 Feature Profile for Latrell Wrightsell"
        }
       },
       "config": {
        "plotlyServerURL": "https://plot.ly"
       }
      }
     },
     "metadata": {},
     "output_type": "display_data"
    }
   ],
   "execution_count": 25
  }
 ],
 "metadata": {
  "kernelspec": {
   "display_name": ".venv",
   "language": "python",
   "name": "python3"
  },
  "language_info": {
   "codemirror_mode": {
    "name": "ipython",
    "version": 3
   },
   "file_extension": ".py",
   "mimetype": "text/x-python",
   "name": "python",
   "nbconvert_exporter": "python",
   "pygments_lexer": "ipython3",
   "version": "3.10.9"
  }
 },
 "nbformat": 4,
 "nbformat_minor": 5
}
