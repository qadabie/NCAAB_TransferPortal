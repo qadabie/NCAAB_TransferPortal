{
 "cells": [
  {
   "cell_type": "code",
   "id": "initial_id",
   "metadata": {
    "collapsed": true,
    "ExecuteTime": {
     "end_time": "2025-07-10T10:08:58.288379Z",
     "start_time": "2025-07-10T10:08:57.915917Z"
    }
   },
   "source": "import pandas as pd",
   "outputs": [],
   "execution_count": 1
  },
  {
   "cell_type": "markdown",
   "id": "665ae0fbc40c5feb",
   "metadata": {},
   "source": [
    "# Step 1: Load Data"
   ]
  },
  {
   "cell_type": "code",
   "id": "c3cd6c736f495534",
   "metadata": {
    "ExecuteTime": {
     "end_time": "2025-07-10T10:09:10.436065Z",
     "start_time": "2025-07-10T10:09:00.477659Z"
    }
   },
   "source": [
    "from db_connect import get_connection\n",
    "\n",
    "table_name = input(\"Enter the table name: \").strip()\n",
    "\n",
    "# This portion of the project is using the player_table\n",
    "\n",
    "engine = get_connection()\n",
    "df = pd.read_sql(f\"SELECT * FROM {table_name};\", con = engine)\n",
    " "
   ],
   "outputs": [],
   "execution_count": 2
  },
  {
   "cell_type": "code",
   "id": "a75251cefb0be9bf",
   "metadata": {
    "ExecuteTime": {
     "end_time": "2025-07-10T10:09:12.013677Z",
     "start_time": "2025-07-10T10:09:12.000309Z"
    }
   },
   "source": [
    "df.head()"
   ],
   "outputs": [
    {
     "data": {
      "text/plain": [
       "                      role  number             player   ht     wt  yr     g  \\\n",
       "0        Major Contributor     2.0  Julian Champagnie  6-8  215.0  Jr  31.0   \n",
       "1  Significant Contributor     0.0     Posh Alexander  6-0  200.0  So  29.0   \n",
       "2  Significant Contributor     5.0   Dylan Addae-Wusu  6-4  235.0  So  32.0   \n",
       "3              Role Player    23.0      Montez Mathis  6-4  210.0  Sr  32.0   \n",
       "4              Role Player     1.0      Aaron Wheeler  6-9  205.0  Sr  31.0   \n",
       "\n",
       "   min_pct  o_rtg  poss_pct  ...  diff_blk_pct  diff_stl_pct  diff_f_cper40  \\\n",
       "0     82.5  105.4      25.5  ...           0.3           0.7           -0.3   \n",
       "1     71.8  113.4      23.2  ...           0.5          -0.6           -0.8   \n",
       "2     61.0  101.5      20.3  ...           0.3           0.6           -1.7   \n",
       "3     60.5   98.3      18.5  ...          -0.7           0.5           -0.8   \n",
       "4     53.0  110.1      19.7  ...           1.4          -0.7            0.1   \n",
       "\n",
       "   diff_f_dper40  diff_ft_rate  diff_ft_pct  diff_fg_2_pct  diff_fg_3_pct  \\\n",
       "0           -0.6          -8.6       -0.106         -0.014         -0.043   \n",
       "1            1.3          13.8        0.016          0.052         -0.082   \n",
       "2            0.1          -3.0       -0.011         -0.098          0.110   \n",
       "3           -0.9          -2.4        0.049          0.038         -0.033   \n",
       "4            0.8          -0.8        0.083         -0.051          0.119   \n",
       "\n",
       "   transfer   prev_team  \n",
       "0     False  St. John's  \n",
       "1     False  St. John's  \n",
       "2     False  St. John's  \n",
       "3      True     Rutgers  \n",
       "4      True      Purdue  \n",
       "\n",
       "[5 rows x 74 columns]"
      ],
      "text/html": [
       "<div>\n",
       "<style scoped>\n",
       "    .dataframe tbody tr th:only-of-type {\n",
       "        vertical-align: middle;\n",
       "    }\n",
       "\n",
       "    .dataframe tbody tr th {\n",
       "        vertical-align: top;\n",
       "    }\n",
       "\n",
       "    .dataframe thead th {\n",
       "        text-align: right;\n",
       "    }\n",
       "</style>\n",
       "<table border=\"1\" class=\"dataframe\">\n",
       "  <thead>\n",
       "    <tr style=\"text-align: right;\">\n",
       "      <th></th>\n",
       "      <th>role</th>\n",
       "      <th>number</th>\n",
       "      <th>player</th>\n",
       "      <th>ht</th>\n",
       "      <th>wt</th>\n",
       "      <th>yr</th>\n",
       "      <th>g</th>\n",
       "      <th>min_pct</th>\n",
       "      <th>o_rtg</th>\n",
       "      <th>poss_pct</th>\n",
       "      <th>...</th>\n",
       "      <th>diff_blk_pct</th>\n",
       "      <th>diff_stl_pct</th>\n",
       "      <th>diff_f_cper40</th>\n",
       "      <th>diff_f_dper40</th>\n",
       "      <th>diff_ft_rate</th>\n",
       "      <th>diff_ft_pct</th>\n",
       "      <th>diff_fg_2_pct</th>\n",
       "      <th>diff_fg_3_pct</th>\n",
       "      <th>transfer</th>\n",
       "      <th>prev_team</th>\n",
       "    </tr>\n",
       "  </thead>\n",
       "  <tbody>\n",
       "    <tr>\n",
       "      <th>0</th>\n",
       "      <td>Major Contributor</td>\n",
       "      <td>2.0</td>\n",
       "      <td>Julian Champagnie</td>\n",
       "      <td>6-8</td>\n",
       "      <td>215.0</td>\n",
       "      <td>Jr</td>\n",
       "      <td>31.0</td>\n",
       "      <td>82.5</td>\n",
       "      <td>105.4</td>\n",
       "      <td>25.5</td>\n",
       "      <td>...</td>\n",
       "      <td>0.3</td>\n",
       "      <td>0.7</td>\n",
       "      <td>-0.3</td>\n",
       "      <td>-0.6</td>\n",
       "      <td>-8.6</td>\n",
       "      <td>-0.106</td>\n",
       "      <td>-0.014</td>\n",
       "      <td>-0.043</td>\n",
       "      <td>False</td>\n",
       "      <td>St. John's</td>\n",
       "    </tr>\n",
       "    <tr>\n",
       "      <th>1</th>\n",
       "      <td>Significant Contributor</td>\n",
       "      <td>0.0</td>\n",
       "      <td>Posh Alexander</td>\n",
       "      <td>6-0</td>\n",
       "      <td>200.0</td>\n",
       "      <td>So</td>\n",
       "      <td>29.0</td>\n",
       "      <td>71.8</td>\n",
       "      <td>113.4</td>\n",
       "      <td>23.2</td>\n",
       "      <td>...</td>\n",
       "      <td>0.5</td>\n",
       "      <td>-0.6</td>\n",
       "      <td>-0.8</td>\n",
       "      <td>1.3</td>\n",
       "      <td>13.8</td>\n",
       "      <td>0.016</td>\n",
       "      <td>0.052</td>\n",
       "      <td>-0.082</td>\n",
       "      <td>False</td>\n",
       "      <td>St. John's</td>\n",
       "    </tr>\n",
       "    <tr>\n",
       "      <th>2</th>\n",
       "      <td>Significant Contributor</td>\n",
       "      <td>5.0</td>\n",
       "      <td>Dylan Addae-Wusu</td>\n",
       "      <td>6-4</td>\n",
       "      <td>235.0</td>\n",
       "      <td>So</td>\n",
       "      <td>32.0</td>\n",
       "      <td>61.0</td>\n",
       "      <td>101.5</td>\n",
       "      <td>20.3</td>\n",
       "      <td>...</td>\n",
       "      <td>0.3</td>\n",
       "      <td>0.6</td>\n",
       "      <td>-1.7</td>\n",
       "      <td>0.1</td>\n",
       "      <td>-3.0</td>\n",
       "      <td>-0.011</td>\n",
       "      <td>-0.098</td>\n",
       "      <td>0.110</td>\n",
       "      <td>False</td>\n",
       "      <td>St. John's</td>\n",
       "    </tr>\n",
       "    <tr>\n",
       "      <th>3</th>\n",
       "      <td>Role Player</td>\n",
       "      <td>23.0</td>\n",
       "      <td>Montez Mathis</td>\n",
       "      <td>6-4</td>\n",
       "      <td>210.0</td>\n",
       "      <td>Sr</td>\n",
       "      <td>32.0</td>\n",
       "      <td>60.5</td>\n",
       "      <td>98.3</td>\n",
       "      <td>18.5</td>\n",
       "      <td>...</td>\n",
       "      <td>-0.7</td>\n",
       "      <td>0.5</td>\n",
       "      <td>-0.8</td>\n",
       "      <td>-0.9</td>\n",
       "      <td>-2.4</td>\n",
       "      <td>0.049</td>\n",
       "      <td>0.038</td>\n",
       "      <td>-0.033</td>\n",
       "      <td>True</td>\n",
       "      <td>Rutgers</td>\n",
       "    </tr>\n",
       "    <tr>\n",
       "      <th>4</th>\n",
       "      <td>Role Player</td>\n",
       "      <td>1.0</td>\n",
       "      <td>Aaron Wheeler</td>\n",
       "      <td>6-9</td>\n",
       "      <td>205.0</td>\n",
       "      <td>Sr</td>\n",
       "      <td>31.0</td>\n",
       "      <td>53.0</td>\n",
       "      <td>110.1</td>\n",
       "      <td>19.7</td>\n",
       "      <td>...</td>\n",
       "      <td>1.4</td>\n",
       "      <td>-0.7</td>\n",
       "      <td>0.1</td>\n",
       "      <td>0.8</td>\n",
       "      <td>-0.8</td>\n",
       "      <td>0.083</td>\n",
       "      <td>-0.051</td>\n",
       "      <td>0.119</td>\n",
       "      <td>True</td>\n",
       "      <td>Purdue</td>\n",
       "    </tr>\n",
       "  </tbody>\n",
       "</table>\n",
       "<p>5 rows × 74 columns</p>\n",
       "</div>"
      ]
     },
     "execution_count": 3,
     "metadata": {},
     "output_type": "execute_result"
    }
   ],
   "execution_count": 3
  },
  {
   "cell_type": "code",
   "id": "db409e42fd371068",
   "metadata": {
    "ExecuteTime": {
     "end_time": "2025-07-10T10:09:14.297444Z",
     "start_time": "2025-07-10T10:09:14.292930Z"
    }
   },
   "source": [
    "df['year'].unique()"
   ],
   "outputs": [
    {
     "data": {
      "text/plain": [
       "array([2022, 2023, 2024, 2019, 2020, 2021])"
      ]
     },
     "execution_count": 4,
     "metadata": {},
     "output_type": "execute_result"
    }
   ],
   "execution_count": 4
  },
  {
   "cell_type": "code",
   "id": "c612429864ac4cd9",
   "metadata": {
    "ExecuteTime": {
     "end_time": "2025-07-10T10:09:15.112543Z",
     "start_time": "2025-07-10T10:09:15.109244Z"
    }
   },
   "source": [
    "df['player_id'].nunique()"
   ],
   "outputs": [
    {
     "data": {
      "text/plain": [
       "10991"
      ]
     },
     "execution_count": 5,
     "metadata": {},
     "output_type": "execute_result"
    }
   ],
   "execution_count": 5
  },
  {
   "cell_type": "markdown",
   "id": "219d08951a710a19",
   "metadata": {},
   "source": [
    "# Step 2: Clean DataFrame"
   ]
  },
  {
   "cell_type": "code",
   "id": "86275a7bd483d2bc",
   "metadata": {
    "ExecuteTime": {
     "end_time": "2025-07-10T10:09:17.223815Z",
     "start_time": "2025-07-10T10:09:17.201677Z"
    }
   },
   "source": [
    "from player_dev_clean_df import clean_df\n",
    "\n",
    "df_train, df_2024_transfers, df_2024_no_transfers, valid_players = clean_df(df)\n",
    "\n",
    "print(df_train.shape, df_2024_transfers.shape, df_2024_no_transfers.shape)"
   ],
   "outputs": [
    {
     "name": "stdout",
     "output_type": "stream",
     "text": [
      "(2433, 74) (218, 74) (278, 74)\n"
     ]
    }
   ],
   "execution_count": 6
  },
  {
   "cell_type": "markdown",
   "id": "d68c376e0a4d8d2a",
   "metadata": {},
   "source": "# Step 3: Feature Selection, Engineering & Scaling"
  },
  {
   "cell_type": "code",
   "id": "5b36d58e",
   "metadata": {
    "ExecuteTime": {
     "end_time": "2025-07-10T10:09:22.816825Z",
     "start_time": "2025-07-10T10:09:22.253741Z"
    }
   },
   "source": [
    "from transfer_vars import split_scale\n",
    "\n",
    "train_data_scaled = split_scale(df_train)\n",
    "\n",
    "scaler_x = train_data_scaled[\"scaler_x\"]"
   ],
   "outputs": [],
   "execution_count": 7
  },
  {
   "cell_type": "markdown",
   "id": "8ef542d07377893e",
   "metadata": {},
   "source": [
    "# Step 4: Stack Models"
   ]
  },
  {
   "cell_type": "code",
   "id": "2db00443a9a0846e",
   "metadata": {
    "ExecuteTime": {
     "end_time": "2025-07-10T10:10:23.428092Z",
     "start_time": "2025-07-10T10:09:26.843587Z"
    }
   },
   "source": [
    "from player_dev_ml_models import ml_stack_model_w_grid_search\n",
    "\n",
    "best_stack_model = ml_stack_model_w_grid_search(train_data_scaled[\"X_train\"], train_data_scaled[\"Y_train\"])"
   ],
   "outputs": [
    {
     "name": "stdout",
     "output_type": "stream",
     "text": [
      "Fitting 5 folds for each of 16 candidates, totalling 80 fits\n",
      "Best parameters: {'final_estimator__n_estimators': 100, 'gb__max_iter': 200, 'rf__max_depth': 10, 'rf__n_estimators': 100}\n"
     ]
    }
   ],
   "execution_count": 8
  },
  {
   "cell_type": "code",
   "id": "bd8d12819967d824",
   "metadata": {
    "ExecuteTime": {
     "end_time": "2025-07-10T10:10:58.929890Z",
     "start_time": "2025-07-10T10:10:45.865635Z"
    }
   },
   "source": [
    "best_stack_model.fit(train_data_scaled[\"X_train\"], train_data_scaled[\"Y_train\"])"
   ],
   "outputs": [
    {
     "data": {
      "text/plain": [
       "StackingRegressor(cv=5,\n",
       "                  estimators=[('rf',\n",
       "                               RandomForestRegressor(max_depth=10,\n",
       "                                                     random_state=42)),\n",
       "                              ('gb',\n",
       "                               HistGradientBoostingRegressor(max_iter=200,\n",
       "                                                             random_state=42))],\n",
       "                  final_estimator=GradientBoostingRegressor(random_state=42),\n",
       "                  passthrough=True)"
      ],
      "text/html": [
       "<style>#sk-container-id-1 {\n",
       "  /* Definition of color scheme common for light and dark mode */\n",
       "  --sklearn-color-text: black;\n",
       "  --sklearn-color-line: gray;\n",
       "  /* Definition of color scheme for unfitted estimators */\n",
       "  --sklearn-color-unfitted-level-0: #fff5e6;\n",
       "  --sklearn-color-unfitted-level-1: #f6e4d2;\n",
       "  --sklearn-color-unfitted-level-2: #ffe0b3;\n",
       "  --sklearn-color-unfitted-level-3: chocolate;\n",
       "  /* Definition of color scheme for fitted estimators */\n",
       "  --sklearn-color-fitted-level-0: #f0f8ff;\n",
       "  --sklearn-color-fitted-level-1: #d4ebff;\n",
       "  --sklearn-color-fitted-level-2: #b3dbfd;\n",
       "  --sklearn-color-fitted-level-3: cornflowerblue;\n",
       "\n",
       "  /* Specific color for light theme */\n",
       "  --sklearn-color-text-on-default-background: var(--sg-text-color, var(--theme-code-foreground, var(--jp-content-font-color1, black)));\n",
       "  --sklearn-color-background: var(--sg-background-color, var(--theme-background, var(--jp-layout-color0, white)));\n",
       "  --sklearn-color-border-box: var(--sg-text-color, var(--theme-code-foreground, var(--jp-content-font-color1, black)));\n",
       "  --sklearn-color-icon: #696969;\n",
       "\n",
       "  @media (prefers-color-scheme: dark) {\n",
       "    /* Redefinition of color scheme for dark theme */\n",
       "    --sklearn-color-text-on-default-background: var(--sg-text-color, var(--theme-code-foreground, var(--jp-content-font-color1, white)));\n",
       "    --sklearn-color-background: var(--sg-background-color, var(--theme-background, var(--jp-layout-color0, #111)));\n",
       "    --sklearn-color-border-box: var(--sg-text-color, var(--theme-code-foreground, var(--jp-content-font-color1, white)));\n",
       "    --sklearn-color-icon: #878787;\n",
       "  }\n",
       "}\n",
       "\n",
       "#sk-container-id-1 {\n",
       "  color: var(--sklearn-color-text);\n",
       "}\n",
       "\n",
       "#sk-container-id-1 pre {\n",
       "  padding: 0;\n",
       "}\n",
       "\n",
       "#sk-container-id-1 input.sk-hidden--visually {\n",
       "  border: 0;\n",
       "  clip: rect(1px 1px 1px 1px);\n",
       "  clip: rect(1px, 1px, 1px, 1px);\n",
       "  height: 1px;\n",
       "  margin: -1px;\n",
       "  overflow: hidden;\n",
       "  padding: 0;\n",
       "  position: absolute;\n",
       "  width: 1px;\n",
       "}\n",
       "\n",
       "#sk-container-id-1 div.sk-dashed-wrapped {\n",
       "  border: 1px dashed var(--sklearn-color-line);\n",
       "  margin: 0 0.4em 0.5em 0.4em;\n",
       "  box-sizing: border-box;\n",
       "  padding-bottom: 0.4em;\n",
       "  background-color: var(--sklearn-color-background);\n",
       "}\n",
       "\n",
       "#sk-container-id-1 div.sk-container {\n",
       "  /* jupyter's `normalize.less` sets `[hidden] { display: none; }`\n",
       "     but bootstrap.min.css set `[hidden] { display: none !important; }`\n",
       "     so we also need the `!important` here to be able to override the\n",
       "     default hidden behavior on the sphinx rendered scikit-learn.org.\n",
       "     See: https://github.com/scikit-learn/scikit-learn/issues/21755 */\n",
       "  display: inline-block !important;\n",
       "  position: relative;\n",
       "}\n",
       "\n",
       "#sk-container-id-1 div.sk-text-repr-fallback {\n",
       "  display: none;\n",
       "}\n",
       "\n",
       "div.sk-parallel-item,\n",
       "div.sk-serial,\n",
       "div.sk-item {\n",
       "  /* draw centered vertical line to link estimators */\n",
       "  background-image: linear-gradient(var(--sklearn-color-text-on-default-background), var(--sklearn-color-text-on-default-background));\n",
       "  background-size: 2px 100%;\n",
       "  background-repeat: no-repeat;\n",
       "  background-position: center center;\n",
       "}\n",
       "\n",
       "/* Parallel-specific style estimator block */\n",
       "\n",
       "#sk-container-id-1 div.sk-parallel-item::after {\n",
       "  content: \"\";\n",
       "  width: 100%;\n",
       "  border-bottom: 2px solid var(--sklearn-color-text-on-default-background);\n",
       "  flex-grow: 1;\n",
       "}\n",
       "\n",
       "#sk-container-id-1 div.sk-parallel {\n",
       "  display: flex;\n",
       "  align-items: stretch;\n",
       "  justify-content: center;\n",
       "  background-color: var(--sklearn-color-background);\n",
       "  position: relative;\n",
       "}\n",
       "\n",
       "#sk-container-id-1 div.sk-parallel-item {\n",
       "  display: flex;\n",
       "  flex-direction: column;\n",
       "}\n",
       "\n",
       "#sk-container-id-1 div.sk-parallel-item:first-child::after {\n",
       "  align-self: flex-end;\n",
       "  width: 50%;\n",
       "}\n",
       "\n",
       "#sk-container-id-1 div.sk-parallel-item:last-child::after {\n",
       "  align-self: flex-start;\n",
       "  width: 50%;\n",
       "}\n",
       "\n",
       "#sk-container-id-1 div.sk-parallel-item:only-child::after {\n",
       "  width: 0;\n",
       "}\n",
       "\n",
       "/* Serial-specific style estimator block */\n",
       "\n",
       "#sk-container-id-1 div.sk-serial {\n",
       "  display: flex;\n",
       "  flex-direction: column;\n",
       "  align-items: center;\n",
       "  background-color: var(--sklearn-color-background);\n",
       "  padding-right: 1em;\n",
       "  padding-left: 1em;\n",
       "}\n",
       "\n",
       "\n",
       "/* Toggleable style: style used for estimator/Pipeline/ColumnTransformer box that is\n",
       "clickable and can be expanded/collapsed.\n",
       "- Pipeline and ColumnTransformer use this feature and define the default style\n",
       "- Estimators will overwrite some part of the style using the `sk-estimator` class\n",
       "*/\n",
       "\n",
       "/* Pipeline and ColumnTransformer style (default) */\n",
       "\n",
       "#sk-container-id-1 div.sk-toggleable {\n",
       "  /* Default theme specific background. It is overwritten whether we have a\n",
       "  specific estimator or a Pipeline/ColumnTransformer */\n",
       "  background-color: var(--sklearn-color-background);\n",
       "}\n",
       "\n",
       "/* Toggleable label */\n",
       "#sk-container-id-1 label.sk-toggleable__label {\n",
       "  cursor: pointer;\n",
       "  display: block;\n",
       "  width: 100%;\n",
       "  margin-bottom: 0;\n",
       "  padding: 0.5em;\n",
       "  box-sizing: border-box;\n",
       "  text-align: center;\n",
       "}\n",
       "\n",
       "#sk-container-id-1 label.sk-toggleable__label-arrow:before {\n",
       "  /* Arrow on the left of the label */\n",
       "  content: \"▸\";\n",
       "  float: left;\n",
       "  margin-right: 0.25em;\n",
       "  color: var(--sklearn-color-icon);\n",
       "}\n",
       "\n",
       "#sk-container-id-1 label.sk-toggleable__label-arrow:hover:before {\n",
       "  color: var(--sklearn-color-text);\n",
       "}\n",
       "\n",
       "/* Toggleable content - dropdown */\n",
       "\n",
       "#sk-container-id-1 div.sk-toggleable__content {\n",
       "  max-height: 0;\n",
       "  max-width: 0;\n",
       "  overflow: hidden;\n",
       "  text-align: left;\n",
       "  /* unfitted */\n",
       "  background-color: var(--sklearn-color-unfitted-level-0);\n",
       "}\n",
       "\n",
       "#sk-container-id-1 div.sk-toggleable__content.fitted {\n",
       "  /* fitted */\n",
       "  background-color: var(--sklearn-color-fitted-level-0);\n",
       "}\n",
       "\n",
       "#sk-container-id-1 div.sk-toggleable__content pre {\n",
       "  margin: 0.2em;\n",
       "  border-radius: 0.25em;\n",
       "  color: var(--sklearn-color-text);\n",
       "  /* unfitted */\n",
       "  background-color: var(--sklearn-color-unfitted-level-0);\n",
       "}\n",
       "\n",
       "#sk-container-id-1 div.sk-toggleable__content.fitted pre {\n",
       "  /* unfitted */\n",
       "  background-color: var(--sklearn-color-fitted-level-0);\n",
       "}\n",
       "\n",
       "#sk-container-id-1 input.sk-toggleable__control:checked~div.sk-toggleable__content {\n",
       "  /* Expand drop-down */\n",
       "  max-height: 200px;\n",
       "  max-width: 100%;\n",
       "  overflow: auto;\n",
       "}\n",
       "\n",
       "#sk-container-id-1 input.sk-toggleable__control:checked~label.sk-toggleable__label-arrow:before {\n",
       "  content: \"▾\";\n",
       "}\n",
       "\n",
       "/* Pipeline/ColumnTransformer-specific style */\n",
       "\n",
       "#sk-container-id-1 div.sk-label input.sk-toggleable__control:checked~label.sk-toggleable__label {\n",
       "  color: var(--sklearn-color-text);\n",
       "  background-color: var(--sklearn-color-unfitted-level-2);\n",
       "}\n",
       "\n",
       "#sk-container-id-1 div.sk-label.fitted input.sk-toggleable__control:checked~label.sk-toggleable__label {\n",
       "  background-color: var(--sklearn-color-fitted-level-2);\n",
       "}\n",
       "\n",
       "/* Estimator-specific style */\n",
       "\n",
       "/* Colorize estimator box */\n",
       "#sk-container-id-1 div.sk-estimator input.sk-toggleable__control:checked~label.sk-toggleable__label {\n",
       "  /* unfitted */\n",
       "  background-color: var(--sklearn-color-unfitted-level-2);\n",
       "}\n",
       "\n",
       "#sk-container-id-1 div.sk-estimator.fitted input.sk-toggleable__control:checked~label.sk-toggleable__label {\n",
       "  /* fitted */\n",
       "  background-color: var(--sklearn-color-fitted-level-2);\n",
       "}\n",
       "\n",
       "#sk-container-id-1 div.sk-label label.sk-toggleable__label,\n",
       "#sk-container-id-1 div.sk-label label {\n",
       "  /* The background is the default theme color */\n",
       "  color: var(--sklearn-color-text-on-default-background);\n",
       "}\n",
       "\n",
       "/* On hover, darken the color of the background */\n",
       "#sk-container-id-1 div.sk-label:hover label.sk-toggleable__label {\n",
       "  color: var(--sklearn-color-text);\n",
       "  background-color: var(--sklearn-color-unfitted-level-2);\n",
       "}\n",
       "\n",
       "/* Label box, darken color on hover, fitted */\n",
       "#sk-container-id-1 div.sk-label.fitted:hover label.sk-toggleable__label.fitted {\n",
       "  color: var(--sklearn-color-text);\n",
       "  background-color: var(--sklearn-color-fitted-level-2);\n",
       "}\n",
       "\n",
       "/* Estimator label */\n",
       "\n",
       "#sk-container-id-1 div.sk-label label {\n",
       "  font-family: monospace;\n",
       "  font-weight: bold;\n",
       "  display: inline-block;\n",
       "  line-height: 1.2em;\n",
       "}\n",
       "\n",
       "#sk-container-id-1 div.sk-label-container {\n",
       "  text-align: center;\n",
       "}\n",
       "\n",
       "/* Estimator-specific */\n",
       "#sk-container-id-1 div.sk-estimator {\n",
       "  font-family: monospace;\n",
       "  border: 1px dotted var(--sklearn-color-border-box);\n",
       "  border-radius: 0.25em;\n",
       "  box-sizing: border-box;\n",
       "  margin-bottom: 0.5em;\n",
       "  /* unfitted */\n",
       "  background-color: var(--sklearn-color-unfitted-level-0);\n",
       "}\n",
       "\n",
       "#sk-container-id-1 div.sk-estimator.fitted {\n",
       "  /* fitted */\n",
       "  background-color: var(--sklearn-color-fitted-level-0);\n",
       "}\n",
       "\n",
       "/* on hover */\n",
       "#sk-container-id-1 div.sk-estimator:hover {\n",
       "  /* unfitted */\n",
       "  background-color: var(--sklearn-color-unfitted-level-2);\n",
       "}\n",
       "\n",
       "#sk-container-id-1 div.sk-estimator.fitted:hover {\n",
       "  /* fitted */\n",
       "  background-color: var(--sklearn-color-fitted-level-2);\n",
       "}\n",
       "\n",
       "/* Specification for estimator info (e.g. \"i\" and \"?\") */\n",
       "\n",
       "/* Common style for \"i\" and \"?\" */\n",
       "\n",
       ".sk-estimator-doc-link,\n",
       "a:link.sk-estimator-doc-link,\n",
       "a:visited.sk-estimator-doc-link {\n",
       "  float: right;\n",
       "  font-size: smaller;\n",
       "  line-height: 1em;\n",
       "  font-family: monospace;\n",
       "  background-color: var(--sklearn-color-background);\n",
       "  border-radius: 1em;\n",
       "  height: 1em;\n",
       "  width: 1em;\n",
       "  text-decoration: none !important;\n",
       "  margin-left: 1ex;\n",
       "  /* unfitted */\n",
       "  border: var(--sklearn-color-unfitted-level-1) 1pt solid;\n",
       "  color: var(--sklearn-color-unfitted-level-1);\n",
       "}\n",
       "\n",
       ".sk-estimator-doc-link.fitted,\n",
       "a:link.sk-estimator-doc-link.fitted,\n",
       "a:visited.sk-estimator-doc-link.fitted {\n",
       "  /* fitted */\n",
       "  border: var(--sklearn-color-fitted-level-1) 1pt solid;\n",
       "  color: var(--sklearn-color-fitted-level-1);\n",
       "}\n",
       "\n",
       "/* On hover */\n",
       "div.sk-estimator:hover .sk-estimator-doc-link:hover,\n",
       ".sk-estimator-doc-link:hover,\n",
       "div.sk-label-container:hover .sk-estimator-doc-link:hover,\n",
       ".sk-estimator-doc-link:hover {\n",
       "  /* unfitted */\n",
       "  background-color: var(--sklearn-color-unfitted-level-3);\n",
       "  color: var(--sklearn-color-background);\n",
       "  text-decoration: none;\n",
       "}\n",
       "\n",
       "div.sk-estimator.fitted:hover .sk-estimator-doc-link.fitted:hover,\n",
       ".sk-estimator-doc-link.fitted:hover,\n",
       "div.sk-label-container:hover .sk-estimator-doc-link.fitted:hover,\n",
       ".sk-estimator-doc-link.fitted:hover {\n",
       "  /* fitted */\n",
       "  background-color: var(--sklearn-color-fitted-level-3);\n",
       "  color: var(--sklearn-color-background);\n",
       "  text-decoration: none;\n",
       "}\n",
       "\n",
       "/* Span, style for the box shown on hovering the info icon */\n",
       ".sk-estimator-doc-link span {\n",
       "  display: none;\n",
       "  z-index: 9999;\n",
       "  position: relative;\n",
       "  font-weight: normal;\n",
       "  right: .2ex;\n",
       "  padding: .5ex;\n",
       "  margin: .5ex;\n",
       "  width: min-content;\n",
       "  min-width: 20ex;\n",
       "  max-width: 50ex;\n",
       "  color: var(--sklearn-color-text);\n",
       "  box-shadow: 2pt 2pt 4pt #999;\n",
       "  /* unfitted */\n",
       "  background: var(--sklearn-color-unfitted-level-0);\n",
       "  border: .5pt solid var(--sklearn-color-unfitted-level-3);\n",
       "}\n",
       "\n",
       ".sk-estimator-doc-link.fitted span {\n",
       "  /* fitted */\n",
       "  background: var(--sklearn-color-fitted-level-0);\n",
       "  border: var(--sklearn-color-fitted-level-3);\n",
       "}\n",
       "\n",
       ".sk-estimator-doc-link:hover span {\n",
       "  display: block;\n",
       "}\n",
       "\n",
       "/* \"?\"-specific style due to the `<a>` HTML tag */\n",
       "\n",
       "#sk-container-id-1 a.estimator_doc_link {\n",
       "  float: right;\n",
       "  font-size: 1rem;\n",
       "  line-height: 1em;\n",
       "  font-family: monospace;\n",
       "  background-color: var(--sklearn-color-background);\n",
       "  border-radius: 1rem;\n",
       "  height: 1rem;\n",
       "  width: 1rem;\n",
       "  text-decoration: none;\n",
       "  /* unfitted */\n",
       "  color: var(--sklearn-color-unfitted-level-1);\n",
       "  border: var(--sklearn-color-unfitted-level-1) 1pt solid;\n",
       "}\n",
       "\n",
       "#sk-container-id-1 a.estimator_doc_link.fitted {\n",
       "  /* fitted */\n",
       "  border: var(--sklearn-color-fitted-level-1) 1pt solid;\n",
       "  color: var(--sklearn-color-fitted-level-1);\n",
       "}\n",
       "\n",
       "/* On hover */\n",
       "#sk-container-id-1 a.estimator_doc_link:hover {\n",
       "  /* unfitted */\n",
       "  background-color: var(--sklearn-color-unfitted-level-3);\n",
       "  color: var(--sklearn-color-background);\n",
       "  text-decoration: none;\n",
       "}\n",
       "\n",
       "#sk-container-id-1 a.estimator_doc_link.fitted:hover {\n",
       "  /* fitted */\n",
       "  background-color: var(--sklearn-color-fitted-level-3);\n",
       "}\n",
       "</style><div id=\"sk-container-id-1\" class=\"sk-top-container\"><div class=\"sk-text-repr-fallback\"><pre>StackingRegressor(cv=5,\n",
       "                  estimators=[(&#x27;rf&#x27;,\n",
       "                               RandomForestRegressor(max_depth=10,\n",
       "                                                     random_state=42)),\n",
       "                              (&#x27;gb&#x27;,\n",
       "                               HistGradientBoostingRegressor(max_iter=200,\n",
       "                                                             random_state=42))],\n",
       "                  final_estimator=GradientBoostingRegressor(random_state=42),\n",
       "                  passthrough=True)</pre><b>In a Jupyter environment, please rerun this cell to show the HTML representation or trust the notebook. <br />On GitHub, the HTML representation is unable to render, please try loading this page with nbviewer.org.</b></div><div class=\"sk-container\" hidden><div class=\"sk-item sk-dashed-wrapped\"><div class=\"sk-label-container\"><div class=\"sk-label fitted sk-toggleable\"><input class=\"sk-toggleable__control sk-hidden--visually\" id=\"sk-estimator-id-1\" type=\"checkbox\" ><label for=\"sk-estimator-id-1\" class=\"sk-toggleable__label fitted sk-toggleable__label-arrow fitted\">&nbsp;&nbsp;StackingRegressor<a class=\"sk-estimator-doc-link fitted\" rel=\"noreferrer\" target=\"_blank\" href=\"https://scikit-learn.org/1.5/modules/generated/sklearn.ensemble.StackingRegressor.html\">?<span>Documentation for StackingRegressor</span></a><span class=\"sk-estimator-doc-link fitted\">i<span>Fitted</span></span></label><div class=\"sk-toggleable__content fitted\"><pre>StackingRegressor(cv=5,\n",
       "                  estimators=[(&#x27;rf&#x27;,\n",
       "                               RandomForestRegressor(max_depth=10,\n",
       "                                                     random_state=42)),\n",
       "                              (&#x27;gb&#x27;,\n",
       "                               HistGradientBoostingRegressor(max_iter=200,\n",
       "                                                             random_state=42))],\n",
       "                  final_estimator=GradientBoostingRegressor(random_state=42),\n",
       "                  passthrough=True)</pre></div> </div></div><div class=\"sk-serial\"><div class=\"sk-item\"><div class=\"sk-parallel\"><div class=\"sk-parallel-item\"><div class=\"sk-item\"><div class=\"sk-label-container\"><div class=\"sk-label fitted sk-toggleable\"><label>rf</label></div></div><div class=\"sk-serial\"><div class=\"sk-item\"><div class=\"sk-estimator fitted sk-toggleable\"><input class=\"sk-toggleable__control sk-hidden--visually\" id=\"sk-estimator-id-2\" type=\"checkbox\" ><label for=\"sk-estimator-id-2\" class=\"sk-toggleable__label fitted sk-toggleable__label-arrow fitted\">&nbsp;RandomForestRegressor<a class=\"sk-estimator-doc-link fitted\" rel=\"noreferrer\" target=\"_blank\" href=\"https://scikit-learn.org/1.5/modules/generated/sklearn.ensemble.RandomForestRegressor.html\">?<span>Documentation for RandomForestRegressor</span></a></label><div class=\"sk-toggleable__content fitted\"><pre>RandomForestRegressor(max_depth=10, random_state=42)</pre></div> </div></div></div></div></div><div class=\"sk-parallel-item\"><div class=\"sk-item\"><div class=\"sk-label-container\"><div class=\"sk-label fitted sk-toggleable\"><label>gb</label></div></div><div class=\"sk-serial\"><div class=\"sk-item\"><div class=\"sk-estimator fitted sk-toggleable\"><input class=\"sk-toggleable__control sk-hidden--visually\" id=\"sk-estimator-id-3\" type=\"checkbox\" ><label for=\"sk-estimator-id-3\" class=\"sk-toggleable__label fitted sk-toggleable__label-arrow fitted\">&nbsp;HistGradientBoostingRegressor<a class=\"sk-estimator-doc-link fitted\" rel=\"noreferrer\" target=\"_blank\" href=\"https://scikit-learn.org/1.5/modules/generated/sklearn.ensemble.HistGradientBoostingRegressor.html\">?<span>Documentation for HistGradientBoostingRegressor</span></a></label><div class=\"sk-toggleable__content fitted\"><pre>HistGradientBoostingRegressor(max_iter=200, random_state=42)</pre></div> </div></div></div></div></div></div></div><div class=\"sk-item\"><div class=\"sk-parallel\"><div class=\"sk-parallel-item\"><div class=\"sk-item\"><div class=\"sk-label-container\"><div class=\"sk-label fitted sk-toggleable\"><label>final_estimator</label></div></div><div class=\"sk-serial\"><div class=\"sk-item\"><div class=\"sk-estimator fitted sk-toggleable\"><input class=\"sk-toggleable__control sk-hidden--visually\" id=\"sk-estimator-id-4\" type=\"checkbox\" ><label for=\"sk-estimator-id-4\" class=\"sk-toggleable__label fitted sk-toggleable__label-arrow fitted\">&nbsp;GradientBoostingRegressor<a class=\"sk-estimator-doc-link fitted\" rel=\"noreferrer\" target=\"_blank\" href=\"https://scikit-learn.org/1.5/modules/generated/sklearn.ensemble.GradientBoostingRegressor.html\">?<span>Documentation for GradientBoostingRegressor</span></a></label><div class=\"sk-toggleable__content fitted\"><pre>GradientBoostingRegressor(random_state=42)</pre></div> </div></div></div></div></div></div></div></div></div></div></div>"
      ]
     },
     "execution_count": 9,
     "metadata": {},
     "output_type": "execute_result"
    }
   ],
   "execution_count": 9
  },
  {
   "cell_type": "markdown",
   "id": "815ef4c382b840a9",
   "metadata": {},
   "source": [
    "# Step 5: Model Results"
   ]
  },
  {
   "cell_type": "code",
   "id": "cdef0f40e98d05df",
   "metadata": {
    "ExecuteTime": {
     "end_time": "2025-07-10T10:11:01.966283Z",
     "start_time": "2025-07-10T10:11:01.607925Z"
    }
   },
   "source": [
    "from player_dev_model_results import model_vs_actual, model_results\n",
    "\n",
    "summary_2024_transfers = model_vs_actual(df_2024_transfers, scaler_x, best_stack_model)\n",
    "summary_2024_no_transfers = model_vs_actual(df_2024_no_transfers, scaler_x, best_stack_model)\n"
   ],
   "outputs": [],
   "execution_count": 10
  },
  {
   "cell_type": "code",
   "id": "e777079e94f18363",
   "metadata": {
    "ExecuteTime": {
     "end_time": "2025-07-10T10:11:04.019247Z",
     "start_time": "2025-07-10T10:11:03.683691Z"
    }
   },
   "source": [
    "# Results to test the models predicted values for players who stayed 4 years at one school. \n",
    "# Model trained on 3 years and then predicts year 4 vs actual for year 4 at that school\n",
    "top0, bottom0 = model_results(summary_2024_no_transfers)"
   ],
   "outputs": [
    {
     "name": "stdout",
     "output_type": "stream",
     "text": [
      "Mean Squared Error: 11.50\n",
      "R² Score: 0.926\n"
     ]
    },
    {
     "data": {
      "text/plain": [
       "<Figure size 800x600 with 1 Axes>"
      ],
      "image/png": "[encoded data removed]"
     },
     "metadata": {},
     "output_type": "display_data"
    },
    {
     "data": {
      "text/plain": [
       "<Figure size 800x500 with 1 Axes>"
      ],
      "image/png": "[encoded data removed]"
     },
     "metadata": {},
     "output_type": "display_data"
    }
   ],
   "execution_count": 11
  },
  {
   "cell_type": "code",
   "id": "3f988ae483a426c7",
   "metadata": {
    "ExecuteTime": {
     "end_time": "2025-07-10T10:11:08.267341Z",
     "start_time": "2025-07-10T10:11:08.262239Z"
    }
   },
   "source": [
    "top0"
   ],
   "outputs": [
    {
     "data": {
      "text/plain": [
       "                player  Actual Offensive Rating (2024)   Predicted  \\\n",
       "149       Ethan Morton                           101.7   85.039242   \n",
       "101      Nate Ferguson                           146.3  133.289210   \n",
       "261  Chris Arcidiacono                            63.1   50.368518   \n",
       "21      Ellis Magnuson                           117.3  105.171963   \n",
       "256    Harouna Sissoko                            94.1   84.141284   \n",
       "\n",
       "     Estimated Difference  \n",
       "149             16.660758  \n",
       "101             13.010790  \n",
       "261             12.731482  \n",
       "21              12.128037  \n",
       "256              9.958716  "
      ],
      "text/html": [
       "<div>\n",
       "<style scoped>\n",
       "    .dataframe tbody tr th:only-of-type {\n",
       "        vertical-align: middle;\n",
       "    }\n",
       "\n",
       "    .dataframe tbody tr th {\n",
       "        vertical-align: top;\n",
       "    }\n",
       "\n",
       "    .dataframe thead th {\n",
       "        text-align: right;\n",
       "    }\n",
       "</style>\n",
       "<table border=\"1\" class=\"dataframe\">\n",
       "  <thead>\n",
       "    <tr style=\"text-align: right;\">\n",
       "      <th></th>\n",
       "      <th>player</th>\n",
       "      <th>Actual Offensive Rating (2024)</th>\n",
       "      <th>Predicted</th>\n",
       "      <th>Estimated Difference</th>\n",
       "    </tr>\n",
       "  </thead>\n",
       "  <tbody>\n",
       "    <tr>\n",
       "      <th>149</th>\n",
       "      <td>Ethan Morton</td>\n",
       "      <td>101.7</td>\n",
       "      <td>85.039242</td>\n",
       "      <td>16.660758</td>\n",
       "    </tr>\n",
       "    <tr>\n",
       "      <th>101</th>\n",
       "      <td>Nate Ferguson</td>\n",
       "      <td>146.3</td>\n",
       "      <td>133.289210</td>\n",
       "      <td>13.010790</td>\n",
       "    </tr>\n",
       "    <tr>\n",
       "      <th>261</th>\n",
       "      <td>Chris Arcidiacono</td>\n",
       "      <td>63.1</td>\n",
       "      <td>50.368518</td>\n",
       "      <td>12.731482</td>\n",
       "    </tr>\n",
       "    <tr>\n",
       "      <th>21</th>\n",
       "      <td>Ellis Magnuson</td>\n",
       "      <td>117.3</td>\n",
       "      <td>105.171963</td>\n",
       "      <td>12.128037</td>\n",
       "    </tr>\n",
       "    <tr>\n",
       "      <th>256</th>\n",
       "      <td>Harouna Sissoko</td>\n",
       "      <td>94.1</td>\n",
       "      <td>84.141284</td>\n",
       "      <td>9.958716</td>\n",
       "    </tr>\n",
       "  </tbody>\n",
       "</table>\n",
       "</div>"
      ]
     },
     "execution_count": 12,
     "metadata": {},
     "output_type": "execute_result"
    }
   ],
   "execution_count": 12
  },
  {
   "cell_type": "code",
   "id": "cfae1b9aa92f0de",
   "metadata": {
    "ExecuteTime": {
     "end_time": "2025-07-10T10:11:09.540409Z",
     "start_time": "2025-07-10T10:11:09.535081Z"
    }
   },
   "source": [
    "bottom0"
   ],
   "outputs": [
    {
     "data": {
      "text/plain": [
       "             player  Actual Offensive Rating (2024)   Predicted  \\\n",
       "239  Quoiren Waldon                            34.4   47.779813   \n",
       "198    Isaiah Gross                            71.9   80.238478   \n",
       "237   Zahad Munford                            55.9   62.739210   \n",
       "55    Dylan Branson                            82.1   88.816293   \n",
       "77        Gage Bobe                           106.1  112.232731   \n",
       "\n",
       "     Estimated Difference  \n",
       "239            -13.379813  \n",
       "198             -8.338478  \n",
       "237             -6.839210  \n",
       "55              -6.716293  \n",
       "77              -6.132731  "
      ],
      "text/html": [
       "<div>\n",
       "<style scoped>\n",
       "    .dataframe tbody tr th:only-of-type {\n",
       "        vertical-align: middle;\n",
       "    }\n",
       "\n",
       "    .dataframe tbody tr th {\n",
       "        vertical-align: top;\n",
       "    }\n",
       "\n",
       "    .dataframe thead th {\n",
       "        text-align: right;\n",
       "    }\n",
       "</style>\n",
       "<table border=\"1\" class=\"dataframe\">\n",
       "  <thead>\n",
       "    <tr style=\"text-align: right;\">\n",
       "      <th></th>\n",
       "      <th>player</th>\n",
       "      <th>Actual Offensive Rating (2024)</th>\n",
       "      <th>Predicted</th>\n",
       "      <th>Estimated Difference</th>\n",
       "    </tr>\n",
       "  </thead>\n",
       "  <tbody>\n",
       "    <tr>\n",
       "      <th>239</th>\n",
       "      <td>Quoiren Waldon</td>\n",
       "      <td>34.4</td>\n",
       "      <td>47.779813</td>\n",
       "      <td>-13.379813</td>\n",
       "    </tr>\n",
       "    <tr>\n",
       "      <th>198</th>\n",
       "      <td>Isaiah Gross</td>\n",
       "      <td>71.9</td>\n",
       "      <td>80.238478</td>\n",
       "      <td>-8.338478</td>\n",
       "    </tr>\n",
       "    <tr>\n",
       "      <th>237</th>\n",
       "      <td>Zahad Munford</td>\n",
       "      <td>55.9</td>\n",
       "      <td>62.739210</td>\n",
       "      <td>-6.839210</td>\n",
       "    </tr>\n",
       "    <tr>\n",
       "      <th>55</th>\n",
       "      <td>Dylan Branson</td>\n",
       "      <td>82.1</td>\n",
       "      <td>88.816293</td>\n",
       "      <td>-6.716293</td>\n",
       "    </tr>\n",
       "    <tr>\n",
       "      <th>77</th>\n",
       "      <td>Gage Bobe</td>\n",
       "      <td>106.1</td>\n",
       "      <td>112.232731</td>\n",
       "      <td>-6.132731</td>\n",
       "    </tr>\n",
       "  </tbody>\n",
       "</table>\n",
       "</div>"
      ]
     },
     "execution_count": 13,
     "metadata": {},
     "output_type": "execute_result"
    }
   ],
   "execution_count": 13
  },
  {
   "cell_type": "code",
   "id": "5b0e029f4a54b8b9",
   "metadata": {
    "ExecuteTime": {
     "end_time": "2025-07-10T10:11:10.950382Z",
     "start_time": "2025-07-10T10:11:10.816742Z"
    }
   },
   "source": [
    "# Results to test the models predicted values for players who stayed 3 years at one school before transferring. \n",
    "# Model trained on 3 years and then predicted year 4 as if the player stayed at same school vs actual for year 4 at different school\n",
    "top1, bottom1 = model_results(summary_2024_transfers)"
   ],
   "outputs": [
    {
     "name": "stdout",
     "output_type": "stream",
     "text": [
      "Mean Squared Error: 9.16\n",
      "R² Score: 0.924\n"
     ]
    },
    {
     "data": {
      "text/plain": [
       "<Figure size 800x600 with 1 Axes>"
      ],
      "image/png": "[encoded data removed]"
     },
     "metadata": {},
     "output_type": "display_data"
    },
    {
     "data": {
      "text/plain": [
       "<Figure size 800x500 with 1 Axes>"
      ],
      "image/png": "[encoded data removed]"
     },
     "metadata": {},
     "output_type": "display_data"
    }
   ],
   "execution_count": 14
  },
  {
   "cell_type": "code",
   "id": "378eb9583f45b67a",
   "metadata": {
    "ExecuteTime": {
     "end_time": "2025-07-10T10:11:11.914214Z",
     "start_time": "2025-07-10T10:11:11.908176Z"
    }
   },
   "source": [
    "top1"
   ],
   "outputs": [
    {
     "data": {
      "text/plain": [
       "                 player  Actual Offensive Rating (2024)   Predicted  \\\n",
       "12          Zyon Pullin                           127.4  117.556387   \n",
       "162           Bas Leyte                           107.6   98.658090   \n",
       "13      Julian Rishwain                           144.7  136.306764   \n",
       "8    Latrell Wrightsell                           135.1  126.940859   \n",
       "50          Jared Bynum                            96.9   90.829450   \n",
       "\n",
       "     Estimated Difference  \n",
       "12               9.843613  \n",
       "162              8.941910  \n",
       "13               8.393236  \n",
       "8                8.159141  \n",
       "50               6.070550  "
      ],
      "text/html": [
       "<div>\n",
       "<style scoped>\n",
       "    .dataframe tbody tr th:only-of-type {\n",
       "        vertical-align: middle;\n",
       "    }\n",
       "\n",
       "    .dataframe tbody tr th {\n",
       "        vertical-align: top;\n",
       "    }\n",
       "\n",
       "    .dataframe thead th {\n",
       "        text-align: right;\n",
       "    }\n",
       "</style>\n",
       "<table border=\"1\" class=\"dataframe\">\n",
       "  <thead>\n",
       "    <tr style=\"text-align: right;\">\n",
       "      <th></th>\n",
       "      <th>player</th>\n",
       "      <th>Actual Offensive Rating (2024)</th>\n",
       "      <th>Predicted</th>\n",
       "      <th>Estimated Difference</th>\n",
       "    </tr>\n",
       "  </thead>\n",
       "  <tbody>\n",
       "    <tr>\n",
       "      <th>12</th>\n",
       "      <td>Zyon Pullin</td>\n",
       "      <td>127.4</td>\n",
       "      <td>117.556387</td>\n",
       "      <td>9.843613</td>\n",
       "    </tr>\n",
       "    <tr>\n",
       "      <th>162</th>\n",
       "      <td>Bas Leyte</td>\n",
       "      <td>107.6</td>\n",
       "      <td>98.658090</td>\n",
       "      <td>8.941910</td>\n",
       "    </tr>\n",
       "    <tr>\n",
       "      <th>13</th>\n",
       "      <td>Julian Rishwain</td>\n",
       "      <td>144.7</td>\n",
       "      <td>136.306764</td>\n",
       "      <td>8.393236</td>\n",
       "    </tr>\n",
       "    <tr>\n",
       "      <th>8</th>\n",
       "      <td>Latrell Wrightsell</td>\n",
       "      <td>135.1</td>\n",
       "      <td>126.940859</td>\n",
       "      <td>8.159141</td>\n",
       "    </tr>\n",
       "    <tr>\n",
       "      <th>50</th>\n",
       "      <td>Jared Bynum</td>\n",
       "      <td>96.9</td>\n",
       "      <td>90.829450</td>\n",
       "      <td>6.070550</td>\n",
       "    </tr>\n",
       "  </tbody>\n",
       "</table>\n",
       "</div>"
      ]
     },
     "execution_count": 15,
     "metadata": {},
     "output_type": "execute_result"
    }
   ],
   "execution_count": 15
  },
  {
   "cell_type": "code",
   "id": "467626ef1eb0ee6b",
   "metadata": {
    "ExecuteTime": {
     "end_time": "2025-07-10T10:11:12.882864Z",
     "start_time": "2025-07-10T10:11:12.878427Z"
    }
   },
   "source": [
    "bottom1"
   ],
   "outputs": [
    {
     "data": {
      "text/plain": [
       "               player  Actual Offensive Rating (2024)   Predicted  \\\n",
       "136       Wheza Panzo                           114.6  122.630633   \n",
       "112     Jeremiah Oden                            85.5   92.270514   \n",
       "55   Hunter Dickinson                           111.3  117.332787   \n",
       "88       Evan Johnson                            82.6   88.482537   \n",
       "26     Denijay Harris                            88.4   93.613813   \n",
       "\n",
       "     Estimated Difference  \n",
       "136             -8.030633  \n",
       "112             -6.770514  \n",
       "55              -6.032787  \n",
       "88              -5.882537  \n",
       "26              -5.213813  "
      ],
      "text/html": [
       "<div>\n",
       "<style scoped>\n",
       "    .dataframe tbody tr th:only-of-type {\n",
       "        vertical-align: middle;\n",
       "    }\n",
       "\n",
       "    .dataframe tbody tr th {\n",
       "        vertical-align: top;\n",
       "    }\n",
       "\n",
       "    .dataframe thead th {\n",
       "        text-align: right;\n",
       "    }\n",
       "</style>\n",
       "<table border=\"1\" class=\"dataframe\">\n",
       "  <thead>\n",
       "    <tr style=\"text-align: right;\">\n",
       "      <th></th>\n",
       "      <th>player</th>\n",
       "      <th>Actual Offensive Rating (2024)</th>\n",
       "      <th>Predicted</th>\n",
       "      <th>Estimated Difference</th>\n",
       "    </tr>\n",
       "  </thead>\n",
       "  <tbody>\n",
       "    <tr>\n",
       "      <th>136</th>\n",
       "      <td>Wheza Panzo</td>\n",
       "      <td>114.6</td>\n",
       "      <td>122.630633</td>\n",
       "      <td>-8.030633</td>\n",
       "    </tr>\n",
       "    <tr>\n",
       "      <th>112</th>\n",
       "      <td>Jeremiah Oden</td>\n",
       "      <td>85.5</td>\n",
       "      <td>92.270514</td>\n",
       "      <td>-6.770514</td>\n",
       "    </tr>\n",
       "    <tr>\n",
       "      <th>55</th>\n",
       "      <td>Hunter Dickinson</td>\n",
       "      <td>111.3</td>\n",
       "      <td>117.332787</td>\n",
       "      <td>-6.032787</td>\n",
       "    </tr>\n",
       "    <tr>\n",
       "      <th>88</th>\n",
       "      <td>Evan Johnson</td>\n",
       "      <td>82.6</td>\n",
       "      <td>88.482537</td>\n",
       "      <td>-5.882537</td>\n",
       "    </tr>\n",
       "    <tr>\n",
       "      <th>26</th>\n",
       "      <td>Denijay Harris</td>\n",
       "      <td>88.4</td>\n",
       "      <td>93.613813</td>\n",
       "      <td>-5.213813</td>\n",
       "    </tr>\n",
       "  </tbody>\n",
       "</table>\n",
       "</div>"
      ]
     },
     "execution_count": 16,
     "metadata": {},
     "output_type": "execute_result"
    }
   ],
   "execution_count": 16
  },
  {
   "cell_type": "markdown",
   "id": "4f6a14055c1e8b9e",
   "metadata": {},
   "source": [
    "# Step 6: Push Data to Database"
   ]
  },
  {
   "cell_type": "code",
   "execution_count": 84,
   "id": "2c2918fe3e769695",
   "metadata": {
    "ExecuteTime": {
     "end_time": "2025-06-27T10:06:00.447082Z",
     "start_time": "2025-06-27T10:05:26.986554Z"
    }
   },
   "outputs": [
    {
     "name": "stdout",
     "output_type": "stream",
     "text": [
      "Data replaced to table 'ind_player_dev_predict_2024'.\n"
     ]
    }
   ],
   "source": [
    "## 7/10/25 - The push_data_to_db needs updated ## \n",
    "\n",
    "# from push_db_data import push_data_to_db\n",
    "# \n",
    "# push_data_to_db(summary_2024)"
   ]
  }
 ],
 "metadata": {
  "kernelspec": {
   "display_name": ".venv",
   "language": "python",
   "name": "python3"
  },
  "language_info": {
   "codemirror_mode": {
    "name": "ipython",
    "version": 2
   },
   "file_extension": ".py",
   "mimetype": "text/x-python",
   "name": "python",
   "nbconvert_exporter": "python",
   "pygments_lexer": "ipython2",
   "version": "3.10.9"
  }
 },
 "nbformat": 4,
 "nbformat_minor": 5
}
