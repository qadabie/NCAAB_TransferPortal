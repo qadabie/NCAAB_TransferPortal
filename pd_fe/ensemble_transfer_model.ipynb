{
 "cells": [
  {
   "cell_type": "code",
   "id": "initial_id",
   "metadata": {
    "collapsed": true,
    "ExecuteTime": {
     "end_time": "2025-07-24T10:09:08.867669Z",
     "start_time": "2025-07-24T10:09:07.103754Z"
    }
   },
   "source": [
    "import pandas as pd\n",
    "import joblib"
   ],
   "outputs": [],
   "execution_count": 1
  },
  {
   "cell_type": "markdown",
   "id": "665ae0fbc40c5feb",
   "metadata": {},
   "source": [
    "# Step 1: Load Data"
   ]
  },
  {
   "cell_type": "code",
   "id": "c3cd6c736f495534",
   "metadata": {
    "ExecuteTime": {
     "end_time": "2025-07-24T10:09:21.736086Z",
     "start_time": "2025-07-24T10:09:13.784600Z"
    }
   },
   "source": [
    "from db_connect import get_connection\n",
    "\n",
    "table_name = input(\"Enter the table name: \").strip()\n",
    "\n",
    "# This portion of the project is using the player_table\n",
    "\n",
    "engine = get_connection()\n",
    "df = pd.read_sql(f\"SELECT * FROM {table_name};\", con = engine)\n",
    " "
   ],
   "outputs": [],
   "execution_count": 2
  },
  {
   "cell_type": "code",
   "id": "a75251cefb0be9bf",
   "metadata": {
    "ExecuteTime": {
     "end_time": "2025-07-24T10:09:22.998347Z",
     "start_time": "2025-07-24T10:09:22.973135Z"
    }
   },
   "source": [
    "pd.set_option('display.max_columns', None)\n",
    "df.head()"
   ],
   "outputs": [
    {
     "data": {
      "text/plain": [
       "                      role  number             player   ht     wt  yr     g  \\\n",
       "0        Major Contributor     2.0  Julian Champagnie  6-8  215.0  Jr  31.0   \n",
       "1  Significant Contributor     0.0     Posh Alexander  6-0  200.0  So  29.0   \n",
       "2  Significant Contributor     5.0   Dylan Addae-Wusu  6-4  235.0  So  32.0   \n",
       "3              Role Player    23.0      Montez Mathis  6-4  210.0  Sr  32.0   \n",
       "4              Role Player     1.0      Aaron Wheeler  6-9  205.0  Sr  31.0   \n",
       "\n",
       "   min_pct  o_rtg  poss_pct  shots_pct  e_fg_pct  ts_pct  or_pct  dr_pct  \\\n",
       "0     82.5  105.4      25.5       30.3      47.5    50.7     4.1    10.9   \n",
       "1     71.8  113.4      23.2       20.0      52.0    55.7     8.5    29.0   \n",
       "2     61.0  101.5      20.3       17.3      51.1    52.6     3.9    25.5   \n",
       "3     60.5   98.3      18.5       18.9      44.9    47.3     4.5    12.6   \n",
       "4     53.0  110.1      19.7       21.4      56.8    57.9     4.2    11.3   \n",
       "\n",
       "   a_rate  to_rate  blk_pct  stl_pct  f_cper40  f_dper40  ft_rate   ftm  \\\n",
       "0    10.9      9.2      3.5      3.1       1.8       4.0     21.4  89.0   \n",
       "1    29.3     17.5      0.6      3.9       2.1       4.1     35.2  80.0   \n",
       "2    25.5     22.6      0.9      2.8       3.6       3.3     29.2  40.0   \n",
       "3    12.6     14.2      0.8      2.4       3.7       3.3     28.2  43.0   \n",
       "4    11.3     14.8      4.7      1.3       4.2       3.1     22.2  35.0   \n",
       "\n",
       "     fta  ft_pct  fgm_2  fga_2  fg_2_pct  fgm_3  fga_3  fg_3_pct   category  \\\n",
       "0  114.0   0.781  156.0  341.0     0.457   65.0  193.0     0.337  All Games   \n",
       "1  108.0   0.741  140.0  247.0     0.567   13.0   60.0     0.217  All Games   \n",
       "2   66.0   0.606   60.0  129.0     0.465   37.0   97.0     0.381  All Games   \n",
       "3   69.0   0.623   89.0  192.0     0.464   14.0   53.0     0.264  All Games   \n",
       "4   54.0   0.648   75.0  134.0     0.560   42.0  109.0     0.385  All Games   \n",
       "\n",
       "   min_pct_rk  o_rtg_rk  poss_pct_rk  shots_pct_rk  e_fg_pct_rk  ts_pct_rk  \\\n",
       "0        19.0       NaN        299.0           8.0          NaN        NaN   \n",
       "1         NaN     348.0          NaN           NaN          NaN      466.0   \n",
       "2         NaN       NaN          NaN           NaN          NaN        NaN   \n",
       "3         NaN       NaN          NaN           NaN          NaN        NaN   \n",
       "4         NaN       NaN          NaN           NaN          NaN        NaN   \n",
       "\n",
       "   or_pct_rk  dr_pct_rk  a_rate_rk  to_rate_rk  blk_pct_rk  stl_pct_rk  \\\n",
       "0        NaN        NaN        NaN        45.0       302.0       169.0   \n",
       "1      333.0        NaN        8.0         NaN         NaN        44.0   \n",
       "2        NaN        NaN      157.0         NaN         NaN       267.0   \n",
       "3        NaN        NaN        NaN         NaN         NaN         NaN   \n",
       "4        NaN      371.0        NaN         NaN        19.0         NaN   \n",
       "\n",
       "   f_cper40_rk  f_dper40_rk  ft_rate_rk  ft_pct_rk  fg_2_pct_rk  fg_3_pct_rk  \\\n",
       "0         11.0          NaN         NaN      406.0          NaN          NaN   \n",
       "1         27.0         49.0       381.0        NaN        316.0          NaN   \n",
       "2          NaN          NaN         NaN        NaN          NaN        321.0   \n",
       "3          NaN          NaN         NaN        NaN          NaN          NaN   \n",
       "4          NaN          NaN         NaN        NaN        356.0        284.0   \n",
       "\n",
       "      group_rank        team  year  player_id  diff_min_pct  diff_o_rtg  \\\n",
       "0  National Rank  St. John's  2022    45689.0           7.7        -5.6   \n",
       "1  National Rank  St. John's  2022    49928.0           0.8         9.8   \n",
       "2  National Rank  St. John's  2022    50232.0          10.9         6.3   \n",
       "3  National Rank  St. John's  2022    42323.0           8.1         6.7   \n",
       "4  National Rank  St. John's  2022    40047.0           7.5        13.1   \n",
       "\n",
       "   diff_poss_pct  diff_shots_pct  diff_e_fg_pct  diff_ts_pct  diff_or_pct  \\\n",
       "0           -0.4             0.9           -3.7         -5.7         -1.2   \n",
       "1            2.9             0.8            2.4          3.7          3.5   \n",
       "2            0.3             0.6            1.1          0.6         -1.5   \n",
       "3           -5.2            -6.7            1.7          1.9         -0.9   \n",
       "4            5.7             7.6            9.3          9.2         -1.5   \n",
       "\n",
       "   diff_dr_pct  diff_a_rate  diff_to_rate  diff_blk_pct  diff_stl_pct  \\\n",
       "0          3.0          3.0          -2.8           0.3           0.7   \n",
       "1          5.0          5.2          -2.4           0.5          -0.6   \n",
       "2          6.5          5.8          -3.0           0.3           0.6   \n",
       "3          5.4          5.4           1.6          -0.7           0.5   \n",
       "4          1.1          1.1          -6.9           1.4          -0.7   \n",
       "\n",
       "   diff_f_cper40  diff_f_dper40  diff_ft_rate  diff_ft_pct  diff_fg_2_pct  \\\n",
       "0           -0.3           -0.6          -8.6       -0.106         -0.014   \n",
       "1           -0.8            1.3          13.8        0.016          0.052   \n",
       "2           -1.7            0.1          -3.0       -0.011         -0.098   \n",
       "3           -0.8           -0.9          -2.4        0.049          0.038   \n",
       "4            0.1            0.8          -0.8        0.083         -0.051   \n",
       "\n",
       "   diff_fg_3_pct  transfer   prev_team  \n",
       "0         -0.043     False  St. John's  \n",
       "1         -0.082     False  St. John's  \n",
       "2          0.110     False  St. John's  \n",
       "3         -0.033      True     Rutgers  \n",
       "4          0.119      True      Purdue  "
      ],
      "text/html": [
       "<div>\n",
       "<style scoped>\n",
       "    .dataframe tbody tr th:only-of-type {\n",
       "        vertical-align: middle;\n",
       "    }\n",
       "\n",
       "    .dataframe tbody tr th {\n",
       "        vertical-align: top;\n",
       "    }\n",
       "\n",
       "    .dataframe thead th {\n",
       "        text-align: right;\n",
       "    }\n",
       "</style>\n",
       "<table border=\"1\" class=\"dataframe\">\n",
       "  <thead>\n",
       "    <tr style=\"text-align: right;\">\n",
       "      <th></th>\n",
       "      <th>role</th>\n",
       "      <th>number</th>\n",
       "      <th>player</th>\n",
       "      <th>ht</th>\n",
       "      <th>wt</th>\n",
       "      <th>yr</th>\n",
       "      <th>g</th>\n",
       "      <th>min_pct</th>\n",
       "      <th>o_rtg</th>\n",
       "      <th>poss_pct</th>\n",
       "      <th>shots_pct</th>\n",
       "      <th>e_fg_pct</th>\n",
       "      <th>ts_pct</th>\n",
       "      <th>or_pct</th>\n",
       "      <th>dr_pct</th>\n",
       "      <th>a_rate</th>\n",
       "      <th>to_rate</th>\n",
       "      <th>blk_pct</th>\n",
       "      <th>stl_pct</th>\n",
       "      <th>f_cper40</th>\n",
       "      <th>f_dper40</th>\n",
       "      <th>ft_rate</th>\n",
       "      <th>ftm</th>\n",
       "      <th>fta</th>\n",
       "      <th>ft_pct</th>\n",
       "      <th>fgm_2</th>\n",
       "      <th>fga_2</th>\n",
       "      <th>fg_2_pct</th>\n",
       "      <th>fgm_3</th>\n",
       "      <th>fga_3</th>\n",
       "      <th>fg_3_pct</th>\n",
       "      <th>category</th>\n",
       "      <th>min_pct_rk</th>\n",
       "      <th>o_rtg_rk</th>\n",
       "      <th>poss_pct_rk</th>\n",
       "      <th>shots_pct_rk</th>\n",
       "      <th>e_fg_pct_rk</th>\n",
       "      <th>ts_pct_rk</th>\n",
       "      <th>or_pct_rk</th>\n",
       "      <th>dr_pct_rk</th>\n",
       "      <th>a_rate_rk</th>\n",
       "      <th>to_rate_rk</th>\n",
       "      <th>blk_pct_rk</th>\n",
       "      <th>stl_pct_rk</th>\n",
       "      <th>f_cper40_rk</th>\n",
       "      <th>f_dper40_rk</th>\n",
       "      <th>ft_rate_rk</th>\n",
       "      <th>ft_pct_rk</th>\n",
       "      <th>fg_2_pct_rk</th>\n",
       "      <th>fg_3_pct_rk</th>\n",
       "      <th>group_rank</th>\n",
       "      <th>team</th>\n",
       "      <th>year</th>\n",
       "      <th>player_id</th>\n",
       "      <th>diff_min_pct</th>\n",
       "      <th>diff_o_rtg</th>\n",
       "      <th>diff_poss_pct</th>\n",
       "      <th>diff_shots_pct</th>\n",
       "      <th>diff_e_fg_pct</th>\n",
       "      <th>diff_ts_pct</th>\n",
       "      <th>diff_or_pct</th>\n",
       "      <th>diff_dr_pct</th>\n",
       "      <th>diff_a_rate</th>\n",
       "      <th>diff_to_rate</th>\n",
       "      <th>diff_blk_pct</th>\n",
       "      <th>diff_stl_pct</th>\n",
       "      <th>diff_f_cper40</th>\n",
       "      <th>diff_f_dper40</th>\n",
       "      <th>diff_ft_rate</th>\n",
       "      <th>diff_ft_pct</th>\n",
       "      <th>diff_fg_2_pct</th>\n",
       "      <th>diff_fg_3_pct</th>\n",
       "      <th>transfer</th>\n",
       "      <th>prev_team</th>\n",
       "    </tr>\n",
       "  </thead>\n",
       "  <tbody>\n",
       "    <tr>\n",
       "      <th>0</th>\n",
       "      <td>Major Contributor</td>\n",
       "      <td>2.0</td>\n",
       "      <td>Julian Champagnie</td>\n",
       "      <td>6-8</td>\n",
       "      <td>215.0</td>\n",
       "      <td>Jr</td>\n",
       "      <td>31.0</td>\n",
       "      <td>82.5</td>\n",
       "      <td>105.4</td>\n",
       "      <td>25.5</td>\n",
       "      <td>30.3</td>\n",
       "      <td>47.5</td>\n",
       "      <td>50.7</td>\n",
       "      <td>4.1</td>\n",
       "      <td>10.9</td>\n",
       "      <td>10.9</td>\n",
       "      <td>9.2</td>\n",
       "      <td>3.5</td>\n",
       "      <td>3.1</td>\n",
       "      <td>1.8</td>\n",
       "      <td>4.0</td>\n",
       "      <td>21.4</td>\n",
       "      <td>89.0</td>\n",
       "      <td>114.0</td>\n",
       "      <td>0.781</td>\n",
       "      <td>156.0</td>\n",
       "      <td>341.0</td>\n",
       "      <td>0.457</td>\n",
       "      <td>65.0</td>\n",
       "      <td>193.0</td>\n",
       "      <td>0.337</td>\n",
       "      <td>All Games</td>\n",
       "      <td>19.0</td>\n",
       "      <td>NaN</td>\n",
       "      <td>299.0</td>\n",
       "      <td>8.0</td>\n",
       "      <td>NaN</td>\n",
       "      <td>NaN</td>\n",
       "      <td>NaN</td>\n",
       "      <td>NaN</td>\n",
       "      <td>NaN</td>\n",
       "      <td>45.0</td>\n",
       "      <td>302.0</td>\n",
       "      <td>169.0</td>\n",
       "      <td>11.0</td>\n",
       "      <td>NaN</td>\n",
       "      <td>NaN</td>\n",
       "      <td>406.0</td>\n",
       "      <td>NaN</td>\n",
       "      <td>NaN</td>\n",
       "      <td>National Rank</td>\n",
       "      <td>St. John's</td>\n",
       "      <td>2022</td>\n",
       "      <td>45689.0</td>\n",
       "      <td>7.7</td>\n",
       "      <td>-5.6</td>\n",
       "      <td>-0.4</td>\n",
       "      <td>0.9</td>\n",
       "      <td>-3.7</td>\n",
       "      <td>-5.7</td>\n",
       "      <td>-1.2</td>\n",
       "      <td>3.0</td>\n",
       "      <td>3.0</td>\n",
       "      <td>-2.8</td>\n",
       "      <td>0.3</td>\n",
       "      <td>0.7</td>\n",
       "      <td>-0.3</td>\n",
       "      <td>-0.6</td>\n",
       "      <td>-8.6</td>\n",
       "      <td>-0.106</td>\n",
       "      <td>-0.014</td>\n",
       "      <td>-0.043</td>\n",
       "      <td>False</td>\n",
       "      <td>St. John's</td>\n",
       "    </tr>\n",
       "    <tr>\n",
       "      <th>1</th>\n",
       "      <td>Significant Contributor</td>\n",
       "      <td>0.0</td>\n",
       "      <td>Posh Alexander</td>\n",
       "      <td>6-0</td>\n",
       "      <td>200.0</td>\n",
       "      <td>So</td>\n",
       "      <td>29.0</td>\n",
       "      <td>71.8</td>\n",
       "      <td>113.4</td>\n",
       "      <td>23.2</td>\n",
       "      <td>20.0</td>\n",
       "      <td>52.0</td>\n",
       "      <td>55.7</td>\n",
       "      <td>8.5</td>\n",
       "      <td>29.0</td>\n",
       "      <td>29.3</td>\n",
       "      <td>17.5</td>\n",
       "      <td>0.6</td>\n",
       "      <td>3.9</td>\n",
       "      <td>2.1</td>\n",
       "      <td>4.1</td>\n",
       "      <td>35.2</td>\n",
       "      <td>80.0</td>\n",
       "      <td>108.0</td>\n",
       "      <td>0.741</td>\n",
       "      <td>140.0</td>\n",
       "      <td>247.0</td>\n",
       "      <td>0.567</td>\n",
       "      <td>13.0</td>\n",
       "      <td>60.0</td>\n",
       "      <td>0.217</td>\n",
       "      <td>All Games</td>\n",
       "      <td>NaN</td>\n",
       "      <td>348.0</td>\n",
       "      <td>NaN</td>\n",
       "      <td>NaN</td>\n",
       "      <td>NaN</td>\n",
       "      <td>466.0</td>\n",
       "      <td>333.0</td>\n",
       "      <td>NaN</td>\n",
       "      <td>8.0</td>\n",
       "      <td>NaN</td>\n",
       "      <td>NaN</td>\n",
       "      <td>44.0</td>\n",
       "      <td>27.0</td>\n",
       "      <td>49.0</td>\n",
       "      <td>381.0</td>\n",
       "      <td>NaN</td>\n",
       "      <td>316.0</td>\n",
       "      <td>NaN</td>\n",
       "      <td>National Rank</td>\n",
       "      <td>St. John's</td>\n",
       "      <td>2022</td>\n",
       "      <td>49928.0</td>\n",
       "      <td>0.8</td>\n",
       "      <td>9.8</td>\n",
       "      <td>2.9</td>\n",
       "      <td>0.8</td>\n",
       "      <td>2.4</td>\n",
       "      <td>3.7</td>\n",
       "      <td>3.5</td>\n",
       "      <td>5.0</td>\n",
       "      <td>5.2</td>\n",
       "      <td>-2.4</td>\n",
       "      <td>0.5</td>\n",
       "      <td>-0.6</td>\n",
       "      <td>-0.8</td>\n",
       "      <td>1.3</td>\n",
       "      <td>13.8</td>\n",
       "      <td>0.016</td>\n",
       "      <td>0.052</td>\n",
       "      <td>-0.082</td>\n",
       "      <td>False</td>\n",
       "      <td>St. John's</td>\n",
       "    </tr>\n",
       "    <tr>\n",
       "      <th>2</th>\n",
       "      <td>Significant Contributor</td>\n",
       "      <td>5.0</td>\n",
       "      <td>Dylan Addae-Wusu</td>\n",
       "      <td>6-4</td>\n",
       "      <td>235.0</td>\n",
       "      <td>So</td>\n",
       "      <td>32.0</td>\n",
       "      <td>61.0</td>\n",
       "      <td>101.5</td>\n",
       "      <td>20.3</td>\n",
       "      <td>17.3</td>\n",
       "      <td>51.1</td>\n",
       "      <td>52.6</td>\n",
       "      <td>3.9</td>\n",
       "      <td>25.5</td>\n",
       "      <td>25.5</td>\n",
       "      <td>22.6</td>\n",
       "      <td>0.9</td>\n",
       "      <td>2.8</td>\n",
       "      <td>3.6</td>\n",
       "      <td>3.3</td>\n",
       "      <td>29.2</td>\n",
       "      <td>40.0</td>\n",
       "      <td>66.0</td>\n",
       "      <td>0.606</td>\n",
       "      <td>60.0</td>\n",
       "      <td>129.0</td>\n",
       "      <td>0.465</td>\n",
       "      <td>37.0</td>\n",
       "      <td>97.0</td>\n",
       "      <td>0.381</td>\n",
       "      <td>All Games</td>\n",
       "      <td>NaN</td>\n",
       "      <td>NaN</td>\n",
       "      <td>NaN</td>\n",
       "      <td>NaN</td>\n",
       "      <td>NaN</td>\n",
       "      <td>NaN</td>\n",
       "      <td>NaN</td>\n",
       "      <td>NaN</td>\n",
       "      <td>157.0</td>\n",
       "      <td>NaN</td>\n",
       "      <td>NaN</td>\n",
       "      <td>267.0</td>\n",
       "      <td>NaN</td>\n",
       "      <td>NaN</td>\n",
       "      <td>NaN</td>\n",
       "      <td>NaN</td>\n",
       "      <td>NaN</td>\n",
       "      <td>321.0</td>\n",
       "      <td>National Rank</td>\n",
       "      <td>St. John's</td>\n",
       "      <td>2022</td>\n",
       "      <td>50232.0</td>\n",
       "      <td>10.9</td>\n",
       "      <td>6.3</td>\n",
       "      <td>0.3</td>\n",
       "      <td>0.6</td>\n",
       "      <td>1.1</td>\n",
       "      <td>0.6</td>\n",
       "      <td>-1.5</td>\n",
       "      <td>6.5</td>\n",
       "      <td>5.8</td>\n",
       "      <td>-3.0</td>\n",
       "      <td>0.3</td>\n",
       "      <td>0.6</td>\n",
       "      <td>-1.7</td>\n",
       "      <td>0.1</td>\n",
       "      <td>-3.0</td>\n",
       "      <td>-0.011</td>\n",
       "      <td>-0.098</td>\n",
       "      <td>0.110</td>\n",
       "      <td>False</td>\n",
       "      <td>St. John's</td>\n",
       "    </tr>\n",
       "    <tr>\n",
       "      <th>3</th>\n",
       "      <td>Role Player</td>\n",
       "      <td>23.0</td>\n",
       "      <td>Montez Mathis</td>\n",
       "      <td>6-4</td>\n",
       "      <td>210.0</td>\n",
       "      <td>Sr</td>\n",
       "      <td>32.0</td>\n",
       "      <td>60.5</td>\n",
       "      <td>98.3</td>\n",
       "      <td>18.5</td>\n",
       "      <td>18.9</td>\n",
       "      <td>44.9</td>\n",
       "      <td>47.3</td>\n",
       "      <td>4.5</td>\n",
       "      <td>12.6</td>\n",
       "      <td>12.6</td>\n",
       "      <td>14.2</td>\n",
       "      <td>0.8</td>\n",
       "      <td>2.4</td>\n",
       "      <td>3.7</td>\n",
       "      <td>3.3</td>\n",
       "      <td>28.2</td>\n",
       "      <td>43.0</td>\n",
       "      <td>69.0</td>\n",
       "      <td>0.623</td>\n",
       "      <td>89.0</td>\n",
       "      <td>192.0</td>\n",
       "      <td>0.464</td>\n",
       "      <td>14.0</td>\n",
       "      <td>53.0</td>\n",
       "      <td>0.264</td>\n",
       "      <td>All Games</td>\n",
       "      <td>NaN</td>\n",
       "      <td>NaN</td>\n",
       "      <td>NaN</td>\n",
       "      <td>NaN</td>\n",
       "      <td>NaN</td>\n",
       "      <td>NaN</td>\n",
       "      <td>NaN</td>\n",
       "      <td>NaN</td>\n",
       "      <td>NaN</td>\n",
       "      <td>NaN</td>\n",
       "      <td>NaN</td>\n",
       "      <td>NaN</td>\n",
       "      <td>NaN</td>\n",
       "      <td>NaN</td>\n",
       "      <td>NaN</td>\n",
       "      <td>NaN</td>\n",
       "      <td>NaN</td>\n",
       "      <td>NaN</td>\n",
       "      <td>National Rank</td>\n",
       "      <td>St. John's</td>\n",
       "      <td>2022</td>\n",
       "      <td>42323.0</td>\n",
       "      <td>8.1</td>\n",
       "      <td>6.7</td>\n",
       "      <td>-5.2</td>\n",
       "      <td>-6.7</td>\n",
       "      <td>1.7</td>\n",
       "      <td>1.9</td>\n",
       "      <td>-0.9</td>\n",
       "      <td>5.4</td>\n",
       "      <td>5.4</td>\n",
       "      <td>1.6</td>\n",
       "      <td>-0.7</td>\n",
       "      <td>0.5</td>\n",
       "      <td>-0.8</td>\n",
       "      <td>-0.9</td>\n",
       "      <td>-2.4</td>\n",
       "      <td>0.049</td>\n",
       "      <td>0.038</td>\n",
       "      <td>-0.033</td>\n",
       "      <td>True</td>\n",
       "      <td>Rutgers</td>\n",
       "    </tr>\n",
       "    <tr>\n",
       "      <th>4</th>\n",
       "      <td>Role Player</td>\n",
       "      <td>1.0</td>\n",
       "      <td>Aaron Wheeler</td>\n",
       "      <td>6-9</td>\n",
       "      <td>205.0</td>\n",
       "      <td>Sr</td>\n",
       "      <td>31.0</td>\n",
       "      <td>53.0</td>\n",
       "      <td>110.1</td>\n",
       "      <td>19.7</td>\n",
       "      <td>21.4</td>\n",
       "      <td>56.8</td>\n",
       "      <td>57.9</td>\n",
       "      <td>4.2</td>\n",
       "      <td>11.3</td>\n",
       "      <td>11.3</td>\n",
       "      <td>14.8</td>\n",
       "      <td>4.7</td>\n",
       "      <td>1.3</td>\n",
       "      <td>4.2</td>\n",
       "      <td>3.1</td>\n",
       "      <td>22.2</td>\n",
       "      <td>35.0</td>\n",
       "      <td>54.0</td>\n",
       "      <td>0.648</td>\n",
       "      <td>75.0</td>\n",
       "      <td>134.0</td>\n",
       "      <td>0.560</td>\n",
       "      <td>42.0</td>\n",
       "      <td>109.0</td>\n",
       "      <td>0.385</td>\n",
       "      <td>All Games</td>\n",
       "      <td>NaN</td>\n",
       "      <td>NaN</td>\n",
       "      <td>NaN</td>\n",
       "      <td>NaN</td>\n",
       "      <td>NaN</td>\n",
       "      <td>NaN</td>\n",
       "      <td>NaN</td>\n",
       "      <td>371.0</td>\n",
       "      <td>NaN</td>\n",
       "      <td>NaN</td>\n",
       "      <td>19.0</td>\n",
       "      <td>NaN</td>\n",
       "      <td>NaN</td>\n",
       "      <td>NaN</td>\n",
       "      <td>NaN</td>\n",
       "      <td>NaN</td>\n",
       "      <td>356.0</td>\n",
       "      <td>284.0</td>\n",
       "      <td>National Rank</td>\n",
       "      <td>St. John's</td>\n",
       "      <td>2022</td>\n",
       "      <td>40047.0</td>\n",
       "      <td>7.5</td>\n",
       "      <td>13.1</td>\n",
       "      <td>5.7</td>\n",
       "      <td>7.6</td>\n",
       "      <td>9.3</td>\n",
       "      <td>9.2</td>\n",
       "      <td>-1.5</td>\n",
       "      <td>1.1</td>\n",
       "      <td>1.1</td>\n",
       "      <td>-6.9</td>\n",
       "      <td>1.4</td>\n",
       "      <td>-0.7</td>\n",
       "      <td>0.1</td>\n",
       "      <td>0.8</td>\n",
       "      <td>-0.8</td>\n",
       "      <td>0.083</td>\n",
       "      <td>-0.051</td>\n",
       "      <td>0.119</td>\n",
       "      <td>True</td>\n",
       "      <td>Purdue</td>\n",
       "    </tr>\n",
       "  </tbody>\n",
       "</table>\n",
       "</div>"
      ]
     },
     "execution_count": 3,
     "metadata": {},
     "output_type": "execute_result"
    }
   ],
   "execution_count": 3
  },
  {
   "cell_type": "code",
   "id": "db409e42fd371068",
   "metadata": {
    "ExecuteTime": {
     "end_time": "2025-07-24T10:09:24.085952Z",
     "start_time": "2025-07-24T10:09:24.082219Z"
    }
   },
   "source": [
    "df['year'].unique()"
   ],
   "outputs": [
    {
     "data": {
      "text/plain": [
       "array([2022, 2023, 2024, 2019, 2020, 2021])"
      ]
     },
     "execution_count": 4,
     "metadata": {},
     "output_type": "execute_result"
    }
   ],
   "execution_count": 4
  },
  {
   "cell_type": "code",
   "id": "c612429864ac4cd9",
   "metadata": {
    "ExecuteTime": {
     "end_time": "2025-07-24T10:09:24.767053Z",
     "start_time": "2025-07-24T10:09:24.764251Z"
    }
   },
   "source": [
    "df['player_id'].nunique()"
   ],
   "outputs": [
    {
     "data": {
      "text/plain": [
       "10991"
      ]
     },
     "execution_count": 5,
     "metadata": {},
     "output_type": "execute_result"
    }
   ],
   "execution_count": 5
  },
  {
   "cell_type": "markdown",
   "id": "219d08951a710a19",
   "metadata": {},
   "source": [
    "# Step 2: Clean DataFrame"
   ]
  },
  {
   "cell_type": "code",
   "id": "86275a7bd483d2bc",
   "metadata": {
    "ExecuteTime": {
     "end_time": "2025-07-24T10:09:30.050200Z",
     "start_time": "2025-07-24T10:09:30.024581Z"
    }
   },
   "source": [
    "from player_dev_clean_df import clean_df\n",
    "\n",
    "df_train, df_2024_transfers, df_2024_no_transfers, valid_players = clean_df(df)\n",
    "\n",
    "print(df_train.shape, df_2024_transfers.shape, df_2024_no_transfers.shape)"
   ],
   "outputs": [
    {
     "name": "stdout",
     "output_type": "stream",
     "text": [
      "(2433, 74) (218, 74) (278, 74)\n"
     ]
    }
   ],
   "execution_count": 6
  },
  {
   "cell_type": "markdown",
   "id": "d68c376e0a4d8d2a",
   "metadata": {},
   "source": [
    "# Step 3: Feature Selection, Engineering & Scaling"
   ]
  },
  {
   "cell_type": "code",
   "id": "5b36d58e",
   "metadata": {
    "ExecuteTime": {
     "end_time": "2025-07-24T10:09:35.361981Z",
     "start_time": "2025-07-24T10:09:33.151236Z"
    }
   },
   "source": [
    "import eng_vars as ev\n",
    "train_data_scaled = ev.split_scale(df_train)\n",
    "scaler_x = train_data_scaled['scaler_x']\n"
   ],
   "outputs": [],
   "execution_count": 7
  },
  {
   "cell_type": "markdown",
   "id": "8ef542d07377893e",
   "metadata": {},
   "source": [
    "# Step 4: Stack Models"
   ]
  },
  {
   "cell_type": "code",
   "id": "2db00443a9a0846e",
   "metadata": {
    "ExecuteTime": {
     "end_time": "2025-07-24T10:09:49.072842Z",
     "start_time": "2025-07-24T10:09:48.446524Z"
    }
   },
   "source": [
    "from player_dev_ml_models import ml_stack_model_w_grid_search\n",
    "\n",
    "#best_stack_model = ml_stack_model_w_grid_search(train_data_scaled[\"X_train\"], train_data_scaled[\"Y_train\"])\n",
    "\n",
    "''' Model was run and saved to the pd_fe file on 7/21/25 by JRS '''\n"
   ],
   "outputs": [],
   "execution_count": 8
  },
  {
   "metadata": {
    "ExecuteTime": {
     "end_time": "2025-07-24T10:12:34.850765Z",
     "start_time": "2025-07-24T10:12:34.821447Z"
    }
   },
   "cell_type": "code",
   "source": [
    "# Load the Pickle file of the model \n",
    "\n",
    "best_stack_model = joblib.load('best_stack_model.pkl')\n",
    "\n",
    "best_stack_model"
   ],
   "id": "7a803b89b2a60383",
   "outputs": [
    {
     "data": {
      "text/plain": [
       "StackingRegressor(cv=5,\n",
       "                  estimators=[('rf',\n",
       "                               RandomForestRegressor(max_depth=10,\n",
       "                                                     n_estimators=50,\n",
       "                                                     random_state=42)),\n",
       "                              ('gb',\n",
       "                               HistGradientBoostingRegressor(max_iter=200,\n",
       "                                                             random_state=42))],\n",
       "                  final_estimator=GradientBoostingRegressor(random_state=42),\n",
       "                  passthrough=True)"
      ],
      "text/html": [
       "<style>#sk-container-id-1 {\n",
       "  /* Definition of color scheme common for light and dark mode */\n",
       "  --sklearn-color-text: black;\n",
       "  --sklearn-color-line: gray;\n",
       "  /* Definition of color scheme for unfitted estimators */\n",
       "  --sklearn-color-unfitted-level-0: #fff5e6;\n",
       "  --sklearn-color-unfitted-level-1: #f6e4d2;\n",
       "  --sklearn-color-unfitted-level-2: #ffe0b3;\n",
       "  --sklearn-color-unfitted-level-3: chocolate;\n",
       "  /* Definition of color scheme for fitted estimators */\n",
       "  --sklearn-color-fitted-level-0: #f0f8ff;\n",
       "  --sklearn-color-fitted-level-1: #d4ebff;\n",
       "  --sklearn-color-fitted-level-2: #b3dbfd;\n",
       "  --sklearn-color-fitted-level-3: cornflowerblue;\n",
       "\n",
       "  /* Specific color for light theme */\n",
       "  --sklearn-color-text-on-default-background: var(--sg-text-color, var(--theme-code-foreground, var(--jp-content-font-color1, black)));\n",
       "  --sklearn-color-background: var(--sg-background-color, var(--theme-background, var(--jp-layout-color0, white)));\n",
       "  --sklearn-color-border-box: var(--sg-text-color, var(--theme-code-foreground, var(--jp-content-font-color1, black)));\n",
       "  --sklearn-color-icon: #696969;\n",
       "\n",
       "  @media (prefers-color-scheme: dark) {\n",
       "    /* Redefinition of color scheme for dark theme */\n",
       "    --sklearn-color-text-on-default-background: var(--sg-text-color, var(--theme-code-foreground, var(--jp-content-font-color1, white)));\n",
       "    --sklearn-color-background: var(--sg-background-color, var(--theme-background, var(--jp-layout-color0, #111)));\n",
       "    --sklearn-color-border-box: var(--sg-text-color, var(--theme-code-foreground, var(--jp-content-font-color1, white)));\n",
       "    --sklearn-color-icon: #878787;\n",
       "  }\n",
       "}\n",
       "\n",
       "#sk-container-id-1 {\n",
       "  color: var(--sklearn-color-text);\n",
       "}\n",
       "\n",
       "#sk-container-id-1 pre {\n",
       "  padding: 0;\n",
       "}\n",
       "\n",
       "#sk-container-id-1 input.sk-hidden--visually {\n",
       "  border: 0;\n",
       "  clip: rect(1px 1px 1px 1px);\n",
       "  clip: rect(1px, 1px, 1px, 1px);\n",
       "  height: 1px;\n",
       "  margin: -1px;\n",
       "  overflow: hidden;\n",
       "  padding: 0;\n",
       "  position: absolute;\n",
       "  width: 1px;\n",
       "}\n",
       "\n",
       "#sk-container-id-1 div.sk-dashed-wrapped {\n",
       "  border: 1px dashed var(--sklearn-color-line);\n",
       "  margin: 0 0.4em 0.5em 0.4em;\n",
       "  box-sizing: border-box;\n",
       "  padding-bottom: 0.4em;\n",
       "  background-color: var(--sklearn-color-background);\n",
       "}\n",
       "\n",
       "#sk-container-id-1 div.sk-container {\n",
       "  /* jupyter's `normalize.less` sets `[hidden] { display: none; }`\n",
       "     but bootstrap.min.css set `[hidden] { display: none !important; }`\n",
       "     so we also need the `!important` here to be able to override the\n",
       "     default hidden behavior on the sphinx rendered scikit-learn.org.\n",
       "     See: https://github.com/scikit-learn/scikit-learn/issues/21755 */\n",
       "  display: inline-block !important;\n",
       "  position: relative;\n",
       "}\n",
       "\n",
       "#sk-container-id-1 div.sk-text-repr-fallback {\n",
       "  display: none;\n",
       "}\n",
       "\n",
       "div.sk-parallel-item,\n",
       "div.sk-serial,\n",
       "div.sk-item {\n",
       "  /* draw centered vertical line to link estimators */\n",
       "  background-image: linear-gradient(var(--sklearn-color-text-on-default-background), var(--sklearn-color-text-on-default-background));\n",
       "  background-size: 2px 100%;\n",
       "  background-repeat: no-repeat;\n",
       "  background-position: center center;\n",
       "}\n",
       "\n",
       "/* Parallel-specific style estimator block */\n",
       "\n",
       "#sk-container-id-1 div.sk-parallel-item::after {\n",
       "  content: \"\";\n",
       "  width: 100%;\n",
       "  border-bottom: 2px solid var(--sklearn-color-text-on-default-background);\n",
       "  flex-grow: 1;\n",
       "}\n",
       "\n",
       "#sk-container-id-1 div.sk-parallel {\n",
       "  display: flex;\n",
       "  align-items: stretch;\n",
       "  justify-content: center;\n",
       "  background-color: var(--sklearn-color-background);\n",
       "  position: relative;\n",
       "}\n",
       "\n",
       "#sk-container-id-1 div.sk-parallel-item {\n",
       "  display: flex;\n",
       "  flex-direction: column;\n",
       "}\n",
       "\n",
       "#sk-container-id-1 div.sk-parallel-item:first-child::after {\n",
       "  align-self: flex-end;\n",
       "  width: 50%;\n",
       "}\n",
       "\n",
       "#sk-container-id-1 div.sk-parallel-item:last-child::after {\n",
       "  align-self: flex-start;\n",
       "  width: 50%;\n",
       "}\n",
       "\n",
       "#sk-container-id-1 div.sk-parallel-item:only-child::after {\n",
       "  width: 0;\n",
       "}\n",
       "\n",
       "/* Serial-specific style estimator block */\n",
       "\n",
       "#sk-container-id-1 div.sk-serial {\n",
       "  display: flex;\n",
       "  flex-direction: column;\n",
       "  align-items: center;\n",
       "  background-color: var(--sklearn-color-background);\n",
       "  padding-right: 1em;\n",
       "  padding-left: 1em;\n",
       "}\n",
       "\n",
       "\n",
       "/* Toggleable style: style used for estimator/Pipeline/ColumnTransformer box that is\n",
       "clickable and can be expanded/collapsed.\n",
       "- Pipeline and ColumnTransformer use this feature and define the default style\n",
       "- Estimators will overwrite some part of the style using the `sk-estimator` class\n",
       "*/\n",
       "\n",
       "/* Pipeline and ColumnTransformer style (default) */\n",
       "\n",
       "#sk-container-id-1 div.sk-toggleable {\n",
       "  /* Default theme specific background. It is overwritten whether we have a\n",
       "  specific estimator or a Pipeline/ColumnTransformer */\n",
       "  background-color: var(--sklearn-color-background);\n",
       "}\n",
       "\n",
       "/* Toggleable label */\n",
       "#sk-container-id-1 label.sk-toggleable__label {\n",
       "  cursor: pointer;\n",
       "  display: block;\n",
       "  width: 100%;\n",
       "  margin-bottom: 0;\n",
       "  padding: 0.5em;\n",
       "  box-sizing: border-box;\n",
       "  text-align: center;\n",
       "}\n",
       "\n",
       "#sk-container-id-1 label.sk-toggleable__label-arrow:before {\n",
       "  /* Arrow on the left of the label */\n",
       "  content: \"▸\";\n",
       "  float: left;\n",
       "  margin-right: 0.25em;\n",
       "  color: var(--sklearn-color-icon);\n",
       "}\n",
       "\n",
       "#sk-container-id-1 label.sk-toggleable__label-arrow:hover:before {\n",
       "  color: var(--sklearn-color-text);\n",
       "}\n",
       "\n",
       "/* Toggleable content - dropdown */\n",
       "\n",
       "#sk-container-id-1 div.sk-toggleable__content {\n",
       "  max-height: 0;\n",
       "  max-width: 0;\n",
       "  overflow: hidden;\n",
       "  text-align: left;\n",
       "  /* unfitted */\n",
       "  background-color: var(--sklearn-color-unfitted-level-0);\n",
       "}\n",
       "\n",
       "#sk-container-id-1 div.sk-toggleable__content.fitted {\n",
       "  /* fitted */\n",
       "  background-color: var(--sklearn-color-fitted-level-0);\n",
       "}\n",
       "\n",
       "#sk-container-id-1 div.sk-toggleable__content pre {\n",
       "  margin: 0.2em;\n",
       "  border-radius: 0.25em;\n",
       "  color: var(--sklearn-color-text);\n",
       "  /* unfitted */\n",
       "  background-color: var(--sklearn-color-unfitted-level-0);\n",
       "}\n",
       "\n",
       "#sk-container-id-1 div.sk-toggleable__content.fitted pre {\n",
       "  /* unfitted */\n",
       "  background-color: var(--sklearn-color-fitted-level-0);\n",
       "}\n",
       "\n",
       "#sk-container-id-1 input.sk-toggleable__control:checked~div.sk-toggleable__content {\n",
       "  /* Expand drop-down */\n",
       "  max-height: 200px;\n",
       "  max-width: 100%;\n",
       "  overflow: auto;\n",
       "}\n",
       "\n",
       "#sk-container-id-1 input.sk-toggleable__control:checked~label.sk-toggleable__label-arrow:before {\n",
       "  content: \"▾\";\n",
       "}\n",
       "\n",
       "/* Pipeline/ColumnTransformer-specific style */\n",
       "\n",
       "#sk-container-id-1 div.sk-label input.sk-toggleable__control:checked~label.sk-toggleable__label {\n",
       "  color: var(--sklearn-color-text);\n",
       "  background-color: var(--sklearn-color-unfitted-level-2);\n",
       "}\n",
       "\n",
       "#sk-container-id-1 div.sk-label.fitted input.sk-toggleable__control:checked~label.sk-toggleable__label {\n",
       "  background-color: var(--sklearn-color-fitted-level-2);\n",
       "}\n",
       "\n",
       "/* Estimator-specific style */\n",
       "\n",
       "/* Colorize estimator box */\n",
       "#sk-container-id-1 div.sk-estimator input.sk-toggleable__control:checked~label.sk-toggleable__label {\n",
       "  /* unfitted */\n",
       "  background-color: var(--sklearn-color-unfitted-level-2);\n",
       "}\n",
       "\n",
       "#sk-container-id-1 div.sk-estimator.fitted input.sk-toggleable__control:checked~label.sk-toggleable__label {\n",
       "  /* fitted */\n",
       "  background-color: var(--sklearn-color-fitted-level-2);\n",
       "}\n",
       "\n",
       "#sk-container-id-1 div.sk-label label.sk-toggleable__label,\n",
       "#sk-container-id-1 div.sk-label label {\n",
       "  /* The background is the default theme color */\n",
       "  color: var(--sklearn-color-text-on-default-background);\n",
       "}\n",
       "\n",
       "/* On hover, darken the color of the background */\n",
       "#sk-container-id-1 div.sk-label:hover label.sk-toggleable__label {\n",
       "  color: var(--sklearn-color-text);\n",
       "  background-color: var(--sklearn-color-unfitted-level-2);\n",
       "}\n",
       "\n",
       "/* Label box, darken color on hover, fitted */\n",
       "#sk-container-id-1 div.sk-label.fitted:hover label.sk-toggleable__label.fitted {\n",
       "  color: var(--sklearn-color-text);\n",
       "  background-color: var(--sklearn-color-fitted-level-2);\n",
       "}\n",
       "\n",
       "/* Estimator label */\n",
       "\n",
       "#sk-container-id-1 div.sk-label label {\n",
       "  font-family: monospace;\n",
       "  font-weight: bold;\n",
       "  display: inline-block;\n",
       "  line-height: 1.2em;\n",
       "}\n",
       "\n",
       "#sk-container-id-1 div.sk-label-container {\n",
       "  text-align: center;\n",
       "}\n",
       "\n",
       "/* Estimator-specific */\n",
       "#sk-container-id-1 div.sk-estimator {\n",
       "  font-family: monospace;\n",
       "  border: 1px dotted var(--sklearn-color-border-box);\n",
       "  border-radius: 0.25em;\n",
       "  box-sizing: border-box;\n",
       "  margin-bottom: 0.5em;\n",
       "  /* unfitted */\n",
       "  background-color: var(--sklearn-color-unfitted-level-0);\n",
       "}\n",
       "\n",
       "#sk-container-id-1 div.sk-estimator.fitted {\n",
       "  /* fitted */\n",
       "  background-color: var(--sklearn-color-fitted-level-0);\n",
       "}\n",
       "\n",
       "/* on hover */\n",
       "#sk-container-id-1 div.sk-estimator:hover {\n",
       "  /* unfitted */\n",
       "  background-color: var(--sklearn-color-unfitted-level-2);\n",
       "}\n",
       "\n",
       "#sk-container-id-1 div.sk-estimator.fitted:hover {\n",
       "  /* fitted */\n",
       "  background-color: var(--sklearn-color-fitted-level-2);\n",
       "}\n",
       "\n",
       "/* Specification for estimator info (e.g. \"i\" and \"?\") */\n",
       "\n",
       "/* Common style for \"i\" and \"?\" */\n",
       "\n",
       ".sk-estimator-doc-link,\n",
       "a:link.sk-estimator-doc-link,\n",
       "a:visited.sk-estimator-doc-link {\n",
       "  float: right;\n",
       "  font-size: smaller;\n",
       "  line-height: 1em;\n",
       "  font-family: monospace;\n",
       "  background-color: var(--sklearn-color-background);\n",
       "  border-radius: 1em;\n",
       "  height: 1em;\n",
       "  width: 1em;\n",
       "  text-decoration: none !important;\n",
       "  margin-left: 1ex;\n",
       "  /* unfitted */\n",
       "  border: var(--sklearn-color-unfitted-level-1) 1pt solid;\n",
       "  color: var(--sklearn-color-unfitted-level-1);\n",
       "}\n",
       "\n",
       ".sk-estimator-doc-link.fitted,\n",
       "a:link.sk-estimator-doc-link.fitted,\n",
       "a:visited.sk-estimator-doc-link.fitted {\n",
       "  /* fitted */\n",
       "  border: var(--sklearn-color-fitted-level-1) 1pt solid;\n",
       "  color: var(--sklearn-color-fitted-level-1);\n",
       "}\n",
       "\n",
       "/* On hover */\n",
       "div.sk-estimator:hover .sk-estimator-doc-link:hover,\n",
       ".sk-estimator-doc-link:hover,\n",
       "div.sk-label-container:hover .sk-estimator-doc-link:hover,\n",
       ".sk-estimator-doc-link:hover {\n",
       "  /* unfitted */\n",
       "  background-color: var(--sklearn-color-unfitted-level-3);\n",
       "  color: var(--sklearn-color-background);\n",
       "  text-decoration: none;\n",
       "}\n",
       "\n",
       "div.sk-estimator.fitted:hover .sk-estimator-doc-link.fitted:hover,\n",
       ".sk-estimator-doc-link.fitted:hover,\n",
       "div.sk-label-container:hover .sk-estimator-doc-link.fitted:hover,\n",
       ".sk-estimator-doc-link.fitted:hover {\n",
       "  /* fitted */\n",
       "  background-color: var(--sklearn-color-fitted-level-3);\n",
       "  color: var(--sklearn-color-background);\n",
       "  text-decoration: none;\n",
       "}\n",
       "\n",
       "/* Span, style for the box shown on hovering the info icon */\n",
       ".sk-estimator-doc-link span {\n",
       "  display: none;\n",
       "  z-index: 9999;\n",
       "  position: relative;\n",
       "  font-weight: normal;\n",
       "  right: .2ex;\n",
       "  padding: .5ex;\n",
       "  margin: .5ex;\n",
       "  width: min-content;\n",
       "  min-width: 20ex;\n",
       "  max-width: 50ex;\n",
       "  color: var(--sklearn-color-text);\n",
       "  box-shadow: 2pt 2pt 4pt #999;\n",
       "  /* unfitted */\n",
       "  background: var(--sklearn-color-unfitted-level-0);\n",
       "  border: .5pt solid var(--sklearn-color-unfitted-level-3);\n",
       "}\n",
       "\n",
       ".sk-estimator-doc-link.fitted span {\n",
       "  /* fitted */\n",
       "  background: var(--sklearn-color-fitted-level-0);\n",
       "  border: var(--sklearn-color-fitted-level-3);\n",
       "}\n",
       "\n",
       ".sk-estimator-doc-link:hover span {\n",
       "  display: block;\n",
       "}\n",
       "\n",
       "/* \"?\"-specific style due to the `<a>` HTML tag */\n",
       "\n",
       "#sk-container-id-1 a.estimator_doc_link {\n",
       "  float: right;\n",
       "  font-size: 1rem;\n",
       "  line-height: 1em;\n",
       "  font-family: monospace;\n",
       "  background-color: var(--sklearn-color-background);\n",
       "  border-radius: 1rem;\n",
       "  height: 1rem;\n",
       "  width: 1rem;\n",
       "  text-decoration: none;\n",
       "  /* unfitted */\n",
       "  color: var(--sklearn-color-unfitted-level-1);\n",
       "  border: var(--sklearn-color-unfitted-level-1) 1pt solid;\n",
       "}\n",
       "\n",
       "#sk-container-id-1 a.estimator_doc_link.fitted {\n",
       "  /* fitted */\n",
       "  border: var(--sklearn-color-fitted-level-1) 1pt solid;\n",
       "  color: var(--sklearn-color-fitted-level-1);\n",
       "}\n",
       "\n",
       "/* On hover */\n",
       "#sk-container-id-1 a.estimator_doc_link:hover {\n",
       "  /* unfitted */\n",
       "  background-color: var(--sklearn-color-unfitted-level-3);\n",
       "  color: var(--sklearn-color-background);\n",
       "  text-decoration: none;\n",
       "}\n",
       "\n",
       "#sk-container-id-1 a.estimator_doc_link.fitted:hover {\n",
       "  /* fitted */\n",
       "  background-color: var(--sklearn-color-fitted-level-3);\n",
       "}\n",
       "</style><div id=\"sk-container-id-1\" class=\"sk-top-container\"><div class=\"sk-text-repr-fallback\"><pre>StackingRegressor(cv=5,\n",
       "                  estimators=[(&#x27;rf&#x27;,\n",
       "                               RandomForestRegressor(max_depth=10,\n",
       "                                                     n_estimators=50,\n",
       "                                                     random_state=42)),\n",
       "                              (&#x27;gb&#x27;,\n",
       "                               HistGradientBoostingRegressor(max_iter=200,\n",
       "                                                             random_state=42))],\n",
       "                  final_estimator=GradientBoostingRegressor(random_state=42),\n",
       "                  passthrough=True)</pre><b>In a Jupyter environment, please rerun this cell to show the HTML representation or trust the notebook. <br />On GitHub, the HTML representation is unable to render, please try loading this page with nbviewer.org.</b></div><div class=\"sk-container\" hidden><div class=\"sk-item sk-dashed-wrapped\"><div class=\"sk-label-container\"><div class=\"sk-label fitted sk-toggleable\"><input class=\"sk-toggleable__control sk-hidden--visually\" id=\"sk-estimator-id-1\" type=\"checkbox\" ><label for=\"sk-estimator-id-1\" class=\"sk-toggleable__label fitted sk-toggleable__label-arrow fitted\">&nbsp;&nbsp;StackingRegressor<a class=\"sk-estimator-doc-link fitted\" rel=\"noreferrer\" target=\"_blank\" href=\"https://scikit-learn.org/1.5/modules/generated/sklearn.ensemble.StackingRegressor.html\">?<span>Documentation for StackingRegressor</span></a><span class=\"sk-estimator-doc-link fitted\">i<span>Fitted</span></span></label><div class=\"sk-toggleable__content fitted\"><pre>StackingRegressor(cv=5,\n",
       "                  estimators=[(&#x27;rf&#x27;,\n",
       "                               RandomForestRegressor(max_depth=10,\n",
       "                                                     n_estimators=50,\n",
       "                                                     random_state=42)),\n",
       "                              (&#x27;gb&#x27;,\n",
       "                               HistGradientBoostingRegressor(max_iter=200,\n",
       "                                                             random_state=42))],\n",
       "                  final_estimator=GradientBoostingRegressor(random_state=42),\n",
       "                  passthrough=True)</pre></div> </div></div><div class=\"sk-serial\"><div class=\"sk-item\"><div class=\"sk-parallel\"><div class=\"sk-parallel-item\"><div class=\"sk-item\"><div class=\"sk-label-container\"><div class=\"sk-label fitted sk-toggleable\"><label>rf</label></div></div><div class=\"sk-serial\"><div class=\"sk-item\"><div class=\"sk-estimator fitted sk-toggleable\"><input class=\"sk-toggleable__control sk-hidden--visually\" id=\"sk-estimator-id-2\" type=\"checkbox\" ><label for=\"sk-estimator-id-2\" class=\"sk-toggleable__label fitted sk-toggleable__label-arrow fitted\">&nbsp;RandomForestRegressor<a class=\"sk-estimator-doc-link fitted\" rel=\"noreferrer\" target=\"_blank\" href=\"https://scikit-learn.org/1.5/modules/generated/sklearn.ensemble.RandomForestRegressor.html\">?<span>Documentation for RandomForestRegressor</span></a></label><div class=\"sk-toggleable__content fitted\"><pre>RandomForestRegressor(max_depth=10, n_estimators=50, random_state=42)</pre></div> </div></div></div></div></div><div class=\"sk-parallel-item\"><div class=\"sk-item\"><div class=\"sk-label-container\"><div class=\"sk-label fitted sk-toggleable\"><label>gb</label></div></div><div class=\"sk-serial\"><div class=\"sk-item\"><div class=\"sk-estimator fitted sk-toggleable\"><input class=\"sk-toggleable__control sk-hidden--visually\" id=\"sk-estimator-id-3\" type=\"checkbox\" ><label for=\"sk-estimator-id-3\" class=\"sk-toggleable__label fitted sk-toggleable__label-arrow fitted\">&nbsp;HistGradientBoostingRegressor<a class=\"sk-estimator-doc-link fitted\" rel=\"noreferrer\" target=\"_blank\" href=\"https://scikit-learn.org/1.5/modules/generated/sklearn.ensemble.HistGradientBoostingRegressor.html\">?<span>Documentation for HistGradientBoostingRegressor</span></a></label><div class=\"sk-toggleable__content fitted\"><pre>HistGradientBoostingRegressor(max_iter=200, random_state=42)</pre></div> </div></div></div></div></div></div></div><div class=\"sk-item\"><div class=\"sk-parallel\"><div class=\"sk-parallel-item\"><div class=\"sk-item\"><div class=\"sk-label-container\"><div class=\"sk-label fitted sk-toggleable\"><label>final_estimator</label></div></div><div class=\"sk-serial\"><div class=\"sk-item\"><div class=\"sk-estimator fitted sk-toggleable\"><input class=\"sk-toggleable__control sk-hidden--visually\" id=\"sk-estimator-id-4\" type=\"checkbox\" ><label for=\"sk-estimator-id-4\" class=\"sk-toggleable__label fitted sk-toggleable__label-arrow fitted\">&nbsp;GradientBoostingRegressor<a class=\"sk-estimator-doc-link fitted\" rel=\"noreferrer\" target=\"_blank\" href=\"https://scikit-learn.org/1.5/modules/generated/sklearn.ensemble.GradientBoostingRegressor.html\">?<span>Documentation for GradientBoostingRegressor</span></a></label><div class=\"sk-toggleable__content fitted\"><pre>GradientBoostingRegressor(random_state=42)</pre></div> </div></div></div></div></div></div></div></div></div></div></div>"
      ]
     },
     "execution_count": 9,
     "metadata": {},
     "output_type": "execute_result"
    }
   ],
   "execution_count": 9
  },
  {
   "cell_type": "markdown",
   "id": "815ef4c382b840a9",
   "metadata": {},
   "source": [
    "# Step 5: Model Results"
   ]
  },
  {
   "cell_type": "code",
   "id": "cdef0f40e98d05df",
   "metadata": {
    "ExecuteTime": {
     "end_time": "2025-07-24T10:12:59.994249Z",
     "start_time": "2025-07-24T10:12:59.366179Z"
    }
   },
   "source": [
    "from p_dev_mdl_rslts import *\n",
    "\n",
    "summary_2024_transfers = model_vs_actual(df_2024_transfers, scaler_x, best_stack_model)\n",
    "summary_2024_no_transfers = model_vs_actual(df_2024_no_transfers, scaler_x, best_stack_model)\n"
   ],
   "outputs": [],
   "execution_count": 10
  },
  {
   "cell_type": "code",
   "id": "e777079e94f18363",
   "metadata": {
    "ExecuteTime": {
     "end_time": "2025-07-24T10:13:01.902832Z",
     "start_time": "2025-07-24T10:13:01.613488Z"
    }
   },
   "source": [
    "# Results to test the models predicted values for players who stayed 4 years at one school. \n",
    "# Model trained on 3 years and then predicts year 4 vs actual for year 4 at that school\n",
    "top0, bottom0 = model_results(summary_2024_no_transfers)"
   ],
   "outputs": [
    {
     "name": "stdout",
     "output_type": "stream",
     "text": [
      "Mean Squared Error: 0.10\n",
      "R² Score: 0.806\n"
     ]
    },
    {
     "data": {
      "text/plain": [
       "<Figure size 800x600 with 1 Axes>"
      ],
      "image/png": "[encoded data removed]"
     },
     "metadata": {},
     "output_type": "display_data"
    },
    {
     "data": {
      "text/plain": [
       "<Figure size 800x500 with 1 Axes>"
      ],
      "image/png": "[encoded data removed]"
     },
     "metadata": {},
     "output_type": "display_data"
    }
   ],
   "execution_count": 11
  },
  {
   "cell_type": "code",
   "id": "3f988ae483a426c7",
   "metadata": {
    "ExecuteTime": {
     "end_time": "2025-07-24T10:13:02.970727Z",
     "start_time": "2025-07-24T10:13:02.965494Z"
    }
   },
   "source": [
    "top0"
   ],
   "outputs": [
    {
     "data": {
      "text/plain": [
       "               player  Actual Composite Score (2024)  Predicted  \\\n",
       "256   Harouna Sissoko                      -1.429460  -1.815433   \n",
       "70   Bryson Childress                      -1.244712  -1.408407   \n",
       "148      Mason Gillis                       0.756499   0.649062   \n",
       "205       Max Fiedler                       1.903022   1.815308   \n",
       "99        Avery Felts                       0.147457   0.092073   \n",
       "\n",
       "     Estimated Difference  \n",
       "256              0.385973  \n",
       "70               0.163695  \n",
       "148              0.107438  \n",
       "205              0.087714  \n",
       "99               0.055384  "
      ],
      "text/html": [
       "<div>\n",
       "<style scoped>\n",
       "    .dataframe tbody tr th:only-of-type {\n",
       "        vertical-align: middle;\n",
       "    }\n",
       "\n",
       "    .dataframe tbody tr th {\n",
       "        vertical-align: top;\n",
       "    }\n",
       "\n",
       "    .dataframe thead th {\n",
       "        text-align: right;\n",
       "    }\n",
       "</style>\n",
       "<table border=\"1\" class=\"dataframe\">\n",
       "  <thead>\n",
       "    <tr style=\"text-align: right;\">\n",
       "      <th></th>\n",
       "      <th>player</th>\n",
       "      <th>Actual Composite Score (2024)</th>\n",
       "      <th>Predicted</th>\n",
       "      <th>Estimated Difference</th>\n",
       "    </tr>\n",
       "  </thead>\n",
       "  <tbody>\n",
       "    <tr>\n",
       "      <th>256</th>\n",
       "      <td>Harouna Sissoko</td>\n",
       "      <td>-1.429460</td>\n",
       "      <td>-1.815433</td>\n",
       "      <td>0.385973</td>\n",
       "    </tr>\n",
       "    <tr>\n",
       "      <th>70</th>\n",
       "      <td>Bryson Childress</td>\n",
       "      <td>-1.244712</td>\n",
       "      <td>-1.408407</td>\n",
       "      <td>0.163695</td>\n",
       "    </tr>\n",
       "    <tr>\n",
       "      <th>148</th>\n",
       "      <td>Mason Gillis</td>\n",
       "      <td>0.756499</td>\n",
       "      <td>0.649062</td>\n",
       "      <td>0.107438</td>\n",
       "    </tr>\n",
       "    <tr>\n",
       "      <th>205</th>\n",
       "      <td>Max Fiedler</td>\n",
       "      <td>1.903022</td>\n",
       "      <td>1.815308</td>\n",
       "      <td>0.087714</td>\n",
       "    </tr>\n",
       "    <tr>\n",
       "      <th>99</th>\n",
       "      <td>Avery Felts</td>\n",
       "      <td>0.147457</td>\n",
       "      <td>0.092073</td>\n",
       "      <td>0.055384</td>\n",
       "    </tr>\n",
       "  </tbody>\n",
       "</table>\n",
       "</div>"
      ]
     },
     "execution_count": 12,
     "metadata": {},
     "output_type": "execute_result"
    }
   ],
   "execution_count": 12
  },
  {
   "cell_type": "code",
   "id": "cfae1b9aa92f0de",
   "metadata": {
    "ExecuteTime": {
     "end_time": "2025-07-24T10:13:03.836364Z",
     "start_time": "2025-07-24T10:13:03.832232Z"
    }
   },
   "source": [
    "bottom0"
   ],
   "outputs": [
    {
     "data": {
      "text/plain": [
       "                player  Actual Composite Score (2024)  Predicted  \\\n",
       "239     Quoiren Waldon                      -3.284698  -2.233377   \n",
       "55       Dylan Branson                      -0.961680  -0.254749   \n",
       "216        Isaiah Hill                       1.047328   1.744775   \n",
       "209        Golden Dike                       0.314810   0.944365   \n",
       "131  Josh Pierre-Louis                       0.426031   1.019745   \n",
       "\n",
       "     Estimated Difference  \n",
       "239             -1.051320  \n",
       "55              -0.706931  \n",
       "216             -0.697447  \n",
       "209             -0.629554  \n",
       "131             -0.593714  "
      ],
      "text/html": [
       "<div>\n",
       "<style scoped>\n",
       "    .dataframe tbody tr th:only-of-type {\n",
       "        vertical-align: middle;\n",
       "    }\n",
       "\n",
       "    .dataframe tbody tr th {\n",
       "        vertical-align: top;\n",
       "    }\n",
       "\n",
       "    .dataframe thead th {\n",
       "        text-align: right;\n",
       "    }\n",
       "</style>\n",
       "<table border=\"1\" class=\"dataframe\">\n",
       "  <thead>\n",
       "    <tr style=\"text-align: right;\">\n",
       "      <th></th>\n",
       "      <th>player</th>\n",
       "      <th>Actual Composite Score (2024)</th>\n",
       "      <th>Predicted</th>\n",
       "      <th>Estimated Difference</th>\n",
       "    </tr>\n",
       "  </thead>\n",
       "  <tbody>\n",
       "    <tr>\n",
       "      <th>239</th>\n",
       "      <td>Quoiren Waldon</td>\n",
       "      <td>-3.284698</td>\n",
       "      <td>-2.233377</td>\n",
       "      <td>-1.051320</td>\n",
       "    </tr>\n",
       "    <tr>\n",
       "      <th>55</th>\n",
       "      <td>Dylan Branson</td>\n",
       "      <td>-0.961680</td>\n",
       "      <td>-0.254749</td>\n",
       "      <td>-0.706931</td>\n",
       "    </tr>\n",
       "    <tr>\n",
       "      <th>216</th>\n",
       "      <td>Isaiah Hill</td>\n",
       "      <td>1.047328</td>\n",
       "      <td>1.744775</td>\n",
       "      <td>-0.697447</td>\n",
       "    </tr>\n",
       "    <tr>\n",
       "      <th>209</th>\n",
       "      <td>Golden Dike</td>\n",
       "      <td>0.314810</td>\n",
       "      <td>0.944365</td>\n",
       "      <td>-0.629554</td>\n",
       "    </tr>\n",
       "    <tr>\n",
       "      <th>131</th>\n",
       "      <td>Josh Pierre-Louis</td>\n",
       "      <td>0.426031</td>\n",
       "      <td>1.019745</td>\n",
       "      <td>-0.593714</td>\n",
       "    </tr>\n",
       "  </tbody>\n",
       "</table>\n",
       "</div>"
      ]
     },
     "execution_count": 13,
     "metadata": {},
     "output_type": "execute_result"
    }
   ],
   "execution_count": 13
  },
  {
   "cell_type": "code",
   "id": "5b0e029f4a54b8b9",
   "metadata": {
    "ExecuteTime": {
     "end_time": "2025-07-24T10:13:05.654310Z",
     "start_time": "2025-07-24T10:13:05.517739Z"
    }
   },
   "source": [
    "# Results to test the models predicted values for players who stayed 3 years at one school before transferring. \n",
    "# Model trained on 3 years and then predicted year 4 as if the player stayed at same school vs actual for year 4 at different school\n",
    "top1, bottom1 = model_results(summary_2024_transfers)"
   ],
   "outputs": [
    {
     "name": "stdout",
     "output_type": "stream",
     "text": [
      "Mean Squared Error: 0.05\n",
      "R² Score: 0.899\n"
     ]
    },
    {
     "data": {
      "text/plain": [
       "<Figure size 800x600 with 1 Axes>"
      ],
      "image/png": "[encoded data removed]"
     },
     "metadata": {},
     "output_type": "display_data"
    },
    {
     "data": {
      "text/plain": [
       "<Figure size 800x500 with 1 Axes>"
      ],
      "image/png": "[encoded data removed]"
     },
     "metadata": {},
     "output_type": "display_data"
    }
   ],
   "execution_count": 14
  },
  {
   "cell_type": "code",
   "id": "378eb9583f45b67a",
   "metadata": {
    "ExecuteTime": {
     "end_time": "2025-07-24T10:13:10.903856Z",
     "start_time": "2025-07-24T10:13:10.898202Z"
    }
   },
   "source": [
    "top1"
   ],
   "outputs": [
    {
     "data": {
      "text/plain": [
       "             player  Actual Composite Score (2024)  Predicted  \\\n",
       "13  Julian Rishwain                       1.011888   0.544750   \n",
       "50      Jared Bynum                       0.884574   0.486457   \n",
       "12      Zyon Pullin                       1.571381   1.320278   \n",
       "32      Nate Martin                       1.234266   0.985834   \n",
       "58     Joe Anderson                       1.318988   1.145152   \n",
       "\n",
       "    Estimated Difference  \n",
       "13              0.467138  \n",
       "50              0.398117  \n",
       "12              0.251102  \n",
       "32              0.248432  \n",
       "58              0.173836  "
      ],
      "text/html": [
       "<div>\n",
       "<style scoped>\n",
       "    .dataframe tbody tr th:only-of-type {\n",
       "        vertical-align: middle;\n",
       "    }\n",
       "\n",
       "    .dataframe tbody tr th {\n",
       "        vertical-align: top;\n",
       "    }\n",
       "\n",
       "    .dataframe thead th {\n",
       "        text-align: right;\n",
       "    }\n",
       "</style>\n",
       "<table border=\"1\" class=\"dataframe\">\n",
       "  <thead>\n",
       "    <tr style=\"text-align: right;\">\n",
       "      <th></th>\n",
       "      <th>player</th>\n",
       "      <th>Actual Composite Score (2024)</th>\n",
       "      <th>Predicted</th>\n",
       "      <th>Estimated Difference</th>\n",
       "    </tr>\n",
       "  </thead>\n",
       "  <tbody>\n",
       "    <tr>\n",
       "      <th>13</th>\n",
       "      <td>Julian Rishwain</td>\n",
       "      <td>1.011888</td>\n",
       "      <td>0.544750</td>\n",
       "      <td>0.467138</td>\n",
       "    </tr>\n",
       "    <tr>\n",
       "      <th>50</th>\n",
       "      <td>Jared Bynum</td>\n",
       "      <td>0.884574</td>\n",
       "      <td>0.486457</td>\n",
       "      <td>0.398117</td>\n",
       "    </tr>\n",
       "    <tr>\n",
       "      <th>12</th>\n",
       "      <td>Zyon Pullin</td>\n",
       "      <td>1.571381</td>\n",
       "      <td>1.320278</td>\n",
       "      <td>0.251102</td>\n",
       "    </tr>\n",
       "    <tr>\n",
       "      <th>32</th>\n",
       "      <td>Nate Martin</td>\n",
       "      <td>1.234266</td>\n",
       "      <td>0.985834</td>\n",
       "      <td>0.248432</td>\n",
       "    </tr>\n",
       "    <tr>\n",
       "      <th>58</th>\n",
       "      <td>Joe Anderson</td>\n",
       "      <td>1.318988</td>\n",
       "      <td>1.145152</td>\n",
       "      <td>0.173836</td>\n",
       "    </tr>\n",
       "  </tbody>\n",
       "</table>\n",
       "</div>"
      ]
     },
     "execution_count": 15,
     "metadata": {},
     "output_type": "execute_result"
    }
   ],
   "execution_count": 15
  },
  {
   "cell_type": "code",
   "id": "467626ef1eb0ee6b",
   "metadata": {
    "ExecuteTime": {
     "end_time": "2025-07-24T10:13:11.716018Z",
     "start_time": "2025-07-24T10:13:11.710609Z"
    }
   },
   "source": [
    "bottom1"
   ],
   "outputs": [
    {
     "data": {
      "text/plain": [
       "               player  Actual Composite Score (2024)  Predicted  \\\n",
       "88       Evan Johnson                      -1.786404  -1.154275   \n",
       "135  Terrell Williams                      -1.929569  -1.310784   \n",
       "112     Jeremiah Oden                      -1.165407  -0.681525   \n",
       "200          Tre Wood                      -1.396853  -0.943514   \n",
       "69      Anthony Crump                      -0.784138  -0.332691   \n",
       "\n",
       "     Estimated Difference  \n",
       "88              -0.632128  \n",
       "135             -0.618786  \n",
       "112             -0.483881  \n",
       "200             -0.453339  \n",
       "69              -0.451447  "
      ],
      "text/html": [
       "<div>\n",
       "<style scoped>\n",
       "    .dataframe tbody tr th:only-of-type {\n",
       "        vertical-align: middle;\n",
       "    }\n",
       "\n",
       "    .dataframe tbody tr th {\n",
       "        vertical-align: top;\n",
       "    }\n",
       "\n",
       "    .dataframe thead th {\n",
       "        text-align: right;\n",
       "    }\n",
       "</style>\n",
       "<table border=\"1\" class=\"dataframe\">\n",
       "  <thead>\n",
       "    <tr style=\"text-align: right;\">\n",
       "      <th></th>\n",
       "      <th>player</th>\n",
       "      <th>Actual Composite Score (2024)</th>\n",
       "      <th>Predicted</th>\n",
       "      <th>Estimated Difference</th>\n",
       "    </tr>\n",
       "  </thead>\n",
       "  <tbody>\n",
       "    <tr>\n",
       "      <th>88</th>\n",
       "      <td>Evan Johnson</td>\n",
       "      <td>-1.786404</td>\n",
       "      <td>-1.154275</td>\n",
       "      <td>-0.632128</td>\n",
       "    </tr>\n",
       "    <tr>\n",
       "      <th>135</th>\n",
       "      <td>Terrell Williams</td>\n",
       "      <td>-1.929569</td>\n",
       "      <td>-1.310784</td>\n",
       "      <td>-0.618786</td>\n",
       "    </tr>\n",
       "    <tr>\n",
       "      <th>112</th>\n",
       "      <td>Jeremiah Oden</td>\n",
       "      <td>-1.165407</td>\n",
       "      <td>-0.681525</td>\n",
       "      <td>-0.483881</td>\n",
       "    </tr>\n",
       "    <tr>\n",
       "      <th>200</th>\n",
       "      <td>Tre Wood</td>\n",
       "      <td>-1.396853</td>\n",
       "      <td>-0.943514</td>\n",
       "      <td>-0.453339</td>\n",
       "    </tr>\n",
       "    <tr>\n",
       "      <th>69</th>\n",
       "      <td>Anthony Crump</td>\n",
       "      <td>-0.784138</td>\n",
       "      <td>-0.332691</td>\n",
       "      <td>-0.451447</td>\n",
       "    </tr>\n",
       "  </tbody>\n",
       "</table>\n",
       "</div>"
      ]
     },
     "execution_count": 16,
     "metadata": {},
     "output_type": "execute_result"
    }
   ],
   "execution_count": 16
  },
  {
   "cell_type": "code",
   "id": "fe5e05f3",
   "metadata": {
    "ExecuteTime": {
     "end_time": "2025-07-24T10:13:12.991141Z",
     "start_time": "2025-07-24T10:13:12.988028Z"
    }
   },
   "source": [
    "# Model 1: Players who stayed\n",
    "avg_diff_model1 = summary_2024_no_transfers[\"Estimated Difference\"].mean()\n",
    "\n",
    "# Model 2: Transfers (actual vs predicted if stayed)\n",
    "avg_diff_model2 = summary_2024_transfers[\"Estimated Difference\"].mean()\n",
    "\n",
    "print(f\"Average diff (Model 1 - no transfers): {avg_diff_model1:.4f}\")\n",
    "print(f\"Average diff (Model 2 - transfers): {avg_diff_model2:.4f}\")"
   ],
   "outputs": [
    {
     "name": "stdout",
     "output_type": "stream",
     "text": [
      "Average diff (Model 1 - no transfers): -0.2801\n",
      "Average diff (Model 2 - transfers): -0.1585\n"
     ]
    }
   ],
   "execution_count": 17
  },
  {
   "cell_type": "markdown",
   "id": "88ecbac7",
   "metadata": {},
   "source": [
    "On average, players who stayed at their original school for four years performed 0.28 points below what our model predicted based on their first three years.\n",
    "Players who transferred after three years also underperformed expectations, but by a smaller margin of 0.16 points.\n",
    "Players are not neccessarily worse, just their growth between their third to fourth year is less than in prior years (this makes sense, fourth year players are not expected to make the same jump in their game as other players).\n",
    "This suggests that while both groups saw less growth than predicted in year 4, transferring may mitigate that shortfall. In other words, transferring might offer a performance advantage — not by guaranteeing improvement, but by helping players avoid the stagnation or slower growth they may have experienced if they had stayed.\n",
    "These findings provide preliminary evidence that transferring can be beneficial for maintaining or improving a player’s developmental trajectory in year 4."
   ]
  },
  {
   "metadata": {
    "ExecuteTime": {
     "end_time": "2025-07-24T10:13:16.829700Z",
     "start_time": "2025-07-24T10:13:16.817775Z"
    }
   },
   "cell_type": "code",
   "source": [
    "def get_2024_team(summary_df, original_df):\n",
    "    # Filter original_df for 2024 entries\n",
    "    df_24 = original_df[original_df['year'] == 2024]\n",
    "    \n",
    "    # Select only player and team columns\n",
    "    df_24_team = df_24[['player', 'team']].drop_duplicates()\n",
    "\n",
    "    # Merge on player to get team\n",
    "    merged_df = summary_df.merge(df_24_team, on = 'player', how = 'left')\n",
    "\n",
    "    return merged_df\n",
    "\n",
    "player_team_2024 = get_2024_team(summary_2024_transfers, df)\n",
    "\n",
    "player_team_2024.head()"
   ],
   "id": "86c9a84d35b2a052",
   "outputs": [
    {
     "data": {
      "text/plain": [
       "            player  Actual Composite Score (2024)  Predicted  \\\n",
       "0    Rodney Howard                      -0.125654   0.088050   \n",
       "1   Brandon Newman                      -0.319469  -0.133702   \n",
       "2  Khydarius Smith                      -0.669608  -0.403061   \n",
       "3    Garrett Hicks                       0.284952   0.267976   \n",
       "4     Zach Loveday                      -0.449286  -0.282612   \n",
       "\n",
       "   Estimated Difference              team  \n",
       "0             -0.213703  Western Kentucky  \n",
       "1             -0.185768  Western Kentucky  \n",
       "2             -0.266547              UMBC  \n",
       "3              0.016976           Samford  \n",
       "4             -0.166674           Samford  "
      ],
      "text/html": [
       "<div>\n",
       "<style scoped>\n",
       "    .dataframe tbody tr th:only-of-type {\n",
       "        vertical-align: middle;\n",
       "    }\n",
       "\n",
       "    .dataframe tbody tr th {\n",
       "        vertical-align: top;\n",
       "    }\n",
       "\n",
       "    .dataframe thead th {\n",
       "        text-align: right;\n",
       "    }\n",
       "</style>\n",
       "<table border=\"1\" class=\"dataframe\">\n",
       "  <thead>\n",
       "    <tr style=\"text-align: right;\">\n",
       "      <th></th>\n",
       "      <th>player</th>\n",
       "      <th>Actual Composite Score (2024)</th>\n",
       "      <th>Predicted</th>\n",
       "      <th>Estimated Difference</th>\n",
       "      <th>team</th>\n",
       "    </tr>\n",
       "  </thead>\n",
       "  <tbody>\n",
       "    <tr>\n",
       "      <th>0</th>\n",
       "      <td>Rodney Howard</td>\n",
       "      <td>-0.125654</td>\n",
       "      <td>0.088050</td>\n",
       "      <td>-0.213703</td>\n",
       "      <td>Western Kentucky</td>\n",
       "    </tr>\n",
       "    <tr>\n",
       "      <th>1</th>\n",
       "      <td>Brandon Newman</td>\n",
       "      <td>-0.319469</td>\n",
       "      <td>-0.133702</td>\n",
       "      <td>-0.185768</td>\n",
       "      <td>Western Kentucky</td>\n",
       "    </tr>\n",
       "    <tr>\n",
       "      <th>2</th>\n",
       "      <td>Khydarius Smith</td>\n",
       "      <td>-0.669608</td>\n",
       "      <td>-0.403061</td>\n",
       "      <td>-0.266547</td>\n",
       "      <td>UMBC</td>\n",
       "    </tr>\n",
       "    <tr>\n",
       "      <th>3</th>\n",
       "      <td>Garrett Hicks</td>\n",
       "      <td>0.284952</td>\n",
       "      <td>0.267976</td>\n",
       "      <td>0.016976</td>\n",
       "      <td>Samford</td>\n",
       "    </tr>\n",
       "    <tr>\n",
       "      <th>4</th>\n",
       "      <td>Zach Loveday</td>\n",
       "      <td>-0.449286</td>\n",
       "      <td>-0.282612</td>\n",
       "      <td>-0.166674</td>\n",
       "      <td>Samford</td>\n",
       "    </tr>\n",
       "  </tbody>\n",
       "</table>\n",
       "</div>"
      ]
     },
     "execution_count": 18,
     "metadata": {},
     "output_type": "execute_result"
    }
   ],
   "execution_count": 18
  },
  {
   "metadata": {
    "ExecuteTime": {
     "end_time": "2025-07-24T10:13:20.640001Z",
     "start_time": "2025-07-24T10:13:20.634450Z"
    }
   },
   "cell_type": "code",
   "source": [
    "team_effect_sum = player_team_2024.groupby('team')['Estimated Difference'].sum().sort_values(ascending = False)\n",
    "\n",
    "# Display the top 5 teams\n",
    "top_5_teams = team_effect_sum.head(5)\n",
    "\n",
    "print(\"Top 5 teams by net estimated transfer impact:\")\n",
    "for team, impact in top_5_teams.items():\n",
    "    print(f\"{team}: {impact:.2f}\")"
   ],
   "id": "93934b6f3874b9ad",
   "outputs": [
    {
     "name": "stdout",
     "output_type": "stream",
     "text": [
      "Top 5 teams by net estimated transfer impact:\n",
      "Florida: 0.60\n",
      "Stanford: 0.40\n",
      "Marshall: 0.25\n",
      "Alabama: 0.21\n",
      "Denver: 0.14\n"
     ]
    }
   ],
   "execution_count": 19
  },
  {
   "metadata": {
    "ExecuteTime": {
     "end_time": "2025-07-24T10:13:22.386149Z",
     "start_time": "2025-07-24T10:13:22.382154Z"
    }
   },
   "cell_type": "code",
   "source": [
    "team_effect_sum = player_team_2024.groupby('team')['Estimated Difference'].sum().sort_values(ascending=True)\n",
    "\n",
    "# Display the bottom 5 teams\n",
    "bottom_5_teams = team_effect_sum.head(5)\n",
    "\n",
    "print(\"Bottom 5 teams by net estimated transfer impact:\")\n",
    "for team, impact in bottom_5_teams.items():\n",
    "    print(f\"{team}: {impact:.2f}\")"
   ],
   "id": "e025415915bc080e",
   "outputs": [
    {
     "name": "stdout",
     "output_type": "stream",
     "text": [
      "Bottom 5 teams by net estimated transfer impact:\n",
      "Iona: -1.05\n",
      "Butler: -0.88\n",
      "UNC Asheville: -0.84\n",
      "Richmond: -0.74\n",
      "Villanova: -0.70\n"
     ]
    }
   ],
   "execution_count": 20
  },
  {
   "metadata": {
    "ExecuteTime": {
     "end_time": "2025-07-24T10:13:23.944664Z",
     "start_time": "2025-07-24T10:13:23.938915Z"
    }
   },
   "cell_type": "code",
   "source": "player_team_2024[player_team_2024['team'] == 'Alabama']",
   "id": "d4fd105b9b159ecc",
   "outputs": [
    {
     "data": {
      "text/plain": [
       "               player  Actual Composite Score (2024)  Predicted  \\\n",
       "7        Grant Nelson                       0.699665   0.632932   \n",
       "8  Latrell Wrightsell                       0.746754   0.607929   \n",
       "\n",
       "   Estimated Difference     team  \n",
       "7              0.066733  Alabama  \n",
       "8              0.138826  Alabama  "
      ],
      "text/html": [
       "<div>\n",
       "<style scoped>\n",
       "    .dataframe tbody tr th:only-of-type {\n",
       "        vertical-align: middle;\n",
       "    }\n",
       "\n",
       "    .dataframe tbody tr th {\n",
       "        vertical-align: top;\n",
       "    }\n",
       "\n",
       "    .dataframe thead th {\n",
       "        text-align: right;\n",
       "    }\n",
       "</style>\n",
       "<table border=\"1\" class=\"dataframe\">\n",
       "  <thead>\n",
       "    <tr style=\"text-align: right;\">\n",
       "      <th></th>\n",
       "      <th>player</th>\n",
       "      <th>Actual Composite Score (2024)</th>\n",
       "      <th>Predicted</th>\n",
       "      <th>Estimated Difference</th>\n",
       "      <th>team</th>\n",
       "    </tr>\n",
       "  </thead>\n",
       "  <tbody>\n",
       "    <tr>\n",
       "      <th>7</th>\n",
       "      <td>Grant Nelson</td>\n",
       "      <td>0.699665</td>\n",
       "      <td>0.632932</td>\n",
       "      <td>0.066733</td>\n",
       "      <td>Alabama</td>\n",
       "    </tr>\n",
       "    <tr>\n",
       "      <th>8</th>\n",
       "      <td>Latrell Wrightsell</td>\n",
       "      <td>0.746754</td>\n",
       "      <td>0.607929</td>\n",
       "      <td>0.138826</td>\n",
       "      <td>Alabama</td>\n",
       "    </tr>\n",
       "  </tbody>\n",
       "</table>\n",
       "</div>"
      ]
     },
     "execution_count": 21,
     "metadata": {},
     "output_type": "execute_result"
    }
   ],
   "execution_count": 21
  },
  {
   "metadata": {
    "ExecuteTime": {
     "end_time": "2025-07-24T10:13:25.268760Z",
     "start_time": "2025-07-24T10:13:25.264651Z"
    }
   },
   "cell_type": "code",
   "source": "player_team_2024[player_team_2024['team'] == 'TCU']",
   "id": "344503e7cdd70acd",
   "outputs": [
    {
     "data": {
      "text/plain": [
       "            player  Actual Composite Score (2024)  Predicted  \\\n",
       "43  Avery Anderson                       0.442651   0.617218   \n",
       "44   Essam Mostafa                       0.255546   0.208435   \n",
       "\n",
       "    Estimated Difference team  \n",
       "43             -0.174567  TCU  \n",
       "44              0.047111  TCU  "
      ],
      "text/html": [
       "<div>\n",
       "<style scoped>\n",
       "    .dataframe tbody tr th:only-of-type {\n",
       "        vertical-align: middle;\n",
       "    }\n",
       "\n",
       "    .dataframe tbody tr th {\n",
       "        vertical-align: top;\n",
       "    }\n",
       "\n",
       "    .dataframe thead th {\n",
       "        text-align: right;\n",
       "    }\n",
       "</style>\n",
       "<table border=\"1\" class=\"dataframe\">\n",
       "  <thead>\n",
       "    <tr style=\"text-align: right;\">\n",
       "      <th></th>\n",
       "      <th>player</th>\n",
       "      <th>Actual Composite Score (2024)</th>\n",
       "      <th>Predicted</th>\n",
       "      <th>Estimated Difference</th>\n",
       "      <th>team</th>\n",
       "    </tr>\n",
       "  </thead>\n",
       "  <tbody>\n",
       "    <tr>\n",
       "      <th>43</th>\n",
       "      <td>Avery Anderson</td>\n",
       "      <td>0.442651</td>\n",
       "      <td>0.617218</td>\n",
       "      <td>-0.174567</td>\n",
       "      <td>TCU</td>\n",
       "    </tr>\n",
       "    <tr>\n",
       "      <th>44</th>\n",
       "      <td>Essam Mostafa</td>\n",
       "      <td>0.255546</td>\n",
       "      <td>0.208435</td>\n",
       "      <td>0.047111</td>\n",
       "      <td>TCU</td>\n",
       "    </tr>\n",
       "  </tbody>\n",
       "</table>\n",
       "</div>"
      ]
     },
     "execution_count": 22,
     "metadata": {},
     "output_type": "execute_result"
    }
   ],
   "execution_count": 22
  },
  {
   "metadata": {
    "ExecuteTime": {
     "end_time": "2025-07-24T10:13:26.581958Z",
     "start_time": "2025-07-24T10:13:26.575816Z"
    }
   },
   "cell_type": "code",
   "source": "player_team_2024[player_team_2024['team'] == 'Iona']",
   "id": "db1bba918d6ebc4c",
   "outputs": [
    {
     "data": {
      "text/plain": [
       "               player  Actual Composite Score (2024)  Predicted  \\\n",
       "135        Joel Brown                       0.872878   1.236532   \n",
       "136  Terrell Williams                      -1.929569  -1.310784   \n",
       "137       Wheza Panzo                       0.248973   0.318711   \n",
       "\n",
       "     Estimated Difference  team  \n",
       "135             -0.363654  Iona  \n",
       "136             -0.618786  Iona  \n",
       "137             -0.069739  Iona  "
      ],
      "text/html": [
       "<div>\n",
       "<style scoped>\n",
       "    .dataframe tbody tr th:only-of-type {\n",
       "        vertical-align: middle;\n",
       "    }\n",
       "\n",
       "    .dataframe tbody tr th {\n",
       "        vertical-align: top;\n",
       "    }\n",
       "\n",
       "    .dataframe thead th {\n",
       "        text-align: right;\n",
       "    }\n",
       "</style>\n",
       "<table border=\"1\" class=\"dataframe\">\n",
       "  <thead>\n",
       "    <tr style=\"text-align: right;\">\n",
       "      <th></th>\n",
       "      <th>player</th>\n",
       "      <th>Actual Composite Score (2024)</th>\n",
       "      <th>Predicted</th>\n",
       "      <th>Estimated Difference</th>\n",
       "      <th>team</th>\n",
       "    </tr>\n",
       "  </thead>\n",
       "  <tbody>\n",
       "    <tr>\n",
       "      <th>135</th>\n",
       "      <td>Joel Brown</td>\n",
       "      <td>0.872878</td>\n",
       "      <td>1.236532</td>\n",
       "      <td>-0.363654</td>\n",
       "      <td>Iona</td>\n",
       "    </tr>\n",
       "    <tr>\n",
       "      <th>136</th>\n",
       "      <td>Terrell Williams</td>\n",
       "      <td>-1.929569</td>\n",
       "      <td>-1.310784</td>\n",
       "      <td>-0.618786</td>\n",
       "      <td>Iona</td>\n",
       "    </tr>\n",
       "    <tr>\n",
       "      <th>137</th>\n",
       "      <td>Wheza Panzo</td>\n",
       "      <td>0.248973</td>\n",
       "      <td>0.318711</td>\n",
       "      <td>-0.069739</td>\n",
       "      <td>Iona</td>\n",
       "    </tr>\n",
       "  </tbody>\n",
       "</table>\n",
       "</div>"
      ]
     },
     "execution_count": 23,
     "metadata": {},
     "output_type": "execute_result"
    }
   ],
   "execution_count": 23
  },
  {
   "metadata": {
    "ExecuteTime": {
     "end_time": "2025-07-24T10:13:29.702646Z",
     "start_time": "2025-07-24T10:13:29.699797Z"
    }
   },
   "cell_type": "code",
   "source": [
    "# Change the name to any player for a radar plot of the top 10 features\n",
    "\n",
    "player_name_for_plot = \"Latrell Wrightsell\""
   ],
   "id": "40ecedd5b23a102f",
   "outputs": [],
   "execution_count": 24
  },
  {
   "metadata": {
    "ExecuteTime": {
     "end_time": "2025-07-24T10:13:31.717895Z",
     "start_time": "2025-07-24T10:13:30.962523Z"
    }
   },
   "cell_type": "code",
   "source": [
    "get_full_feature_names(best_stack_model, df, ev.model_vars)\n",
    "\n",
    "plot_player_radar(player_name_for_plot, \n",
    "                  pd.concat([pd.DataFrame(ev.model_vars(df)[1], columns=get_full_feature_names(best_stack_model, df, ev.model_vars)), \n",
    "                             pd.DataFrame({'player': ev.model_vars(df)[2]})], axis = 1), \n",
    "                  best_stack_model, \n",
    "                  get_full_feature_names(best_stack_model, df, ev.model_vars), \n",
    "                  top_n = 10).show()"
   ],
   "id": "6a4541f874bd56d2",
   "outputs": [
    {
     "data": {
      "application/vnd.plotly.v1+json": {
       "data": [
        {
         "fill": "toself",
         "line": {
          "color": "blue"
         },
         "name": "Latrell Wrightsell",
         "r": [
          -0.04561821798033718,
          -0.34947445898920565,
          0.16283245677261873,
          0.174479119715485,
          -1.005467806069796,
          -0.4036959588338047,
          -0.5763803496784371,
          -0.1997590774748577,
          -0.6986612241945686,
          0.9348818068985959,
          -0.04561821798033718
         ],
         "theta": [
          "to_rate",
          "ts_pct",
          "a_rate",
          "dr_pct",
          "or_pct",
          "poss_pct",
          "e_fg_pct",
          "shots_pct",
          "blk_pct",
          "min_pct",
          "to_rate"
         ],
         "type": "scatterpolar"
        },
        {
         "fill": "toself",
         "line": {
          "color": "gray",
          "dash": "dot"
         },
         "name": "Average Player",
         "r": [
          3.152129119779104E-16,
          9.657890079214766E-16,
          -2.430849065942142E-16,
          1.7259455582436295E-16,
          -1.17483917949752E-16,
          -3.137176621130954E-16,
          8.722290878087649E-17,
          2.2086976574553378E-16,
          6.806947003634117E-17,
          1.9167679219438328E-16,
          3.152129119779104E-16
         ],
         "theta": [
          "to_rate",
          "ts_pct",
          "a_rate",
          "dr_pct",
          "or_pct",
          "poss_pct",
          "e_fg_pct",
          "shots_pct",
          "blk_pct",
          "min_pct",
          "to_rate"
         ],
         "type": "scatterpolar"
        }
       ],
       "layout": {
        "template": {
         "data": {
          "histogram2dcontour": [
           {
            "type": "histogram2dcontour",
            "colorbar": {
             "outlinewidth": 0,
             "ticks": ""
            },
            "colorscale": [
             [
              0.0,
              "#0d0887"
             ],
             [
              0.1111111111111111,
              "#46039f"
             ],
             [
              0.2222222222222222,
              "#7201a8"
             ],
             [
              0.3333333333333333,
              "#9c179e"
             ],
             [
              0.4444444444444444,
              "#bd3786"
             ],
             [
              0.5555555555555556,
              "#d8576b"
             ],
             [
              0.6666666666666666,
              "#ed7953"
             ],
             [
              0.7777777777777778,
              "#fb9f3a"
             ],
             [
              0.8888888888888888,
              "#fdca26"
             ],
             [
              1.0,
              "#f0f921"
             ]
            ]
           }
          ],
          "choropleth": [
           {
            "type": "choropleth",
            "colorbar": {
             "outlinewidth": 0,
             "ticks": ""
            }
           }
          ],
          "histogram2d": [
           {
            "type": "histogram2d",
            "colorbar": {
             "outlinewidth": 0,
             "ticks": ""
            },
            "colorscale": [
             [
              0.0,
              "#0d0887"
             ],
             [
              0.1111111111111111,
              "#46039f"
             ],
             [
              0.2222222222222222,
              "#7201a8"
             ],
             [
              0.3333333333333333,
              "#9c179e"
             ],
             [
              0.4444444444444444,
              "#bd3786"
             ],
             [
              0.5555555555555556,
              "#d8576b"
             ],
             [
              0.6666666666666666,
              "#ed7953"
             ],
             [
              0.7777777777777778,
              "#fb9f3a"
             ],
             [
              0.8888888888888888,
              "#fdca26"
             ],
             [
              1.0,
              "#f0f921"
             ]
            ]
           }
          ],
          "heatmap": [
           {
            "type": "heatmap",
            "colorbar": {
             "outlinewidth": 0,
             "ticks": ""
            },
            "colorscale": [
             [
              0.0,
              "#0d0887"
             ],
             [
              0.1111111111111111,
              "#46039f"
             ],
             [
              0.2222222222222222,
              "#7201a8"
             ],
             [
              0.3333333333333333,
              "#9c179e"
             ],
             [
              0.4444444444444444,
              "#bd3786"
             ],
             [
              0.5555555555555556,
              "#d8576b"
             ],
             [
              0.6666666666666666,
              "#ed7953"
             ],
             [
              0.7777777777777778,
              "#fb9f3a"
             ],
             [
              0.8888888888888888,
              "#fdca26"
             ],
             [
              1.0,
              "#f0f921"
             ]
            ]
           }
          ],
          "contourcarpet": [
           {
            "type": "contourcarpet",
            "colorbar": {
             "outlinewidth": 0,
             "ticks": ""
            }
           }
          ],
          "contour": [
           {
            "type": "contour",
            "colorbar": {
             "outlinewidth": 0,
             "ticks": ""
            },
            "colorscale": [
             [
              0.0,
              "#0d0887"
             ],
             [
              0.1111111111111111,
              "#46039f"
             ],
             [
              0.2222222222222222,
              "#7201a8"
             ],
             [
              0.3333333333333333,
              "#9c179e"
             ],
             [
              0.4444444444444444,
              "#bd3786"
             ],
             [
              0.5555555555555556,
              "#d8576b"
             ],
             [
              0.6666666666666666,
              "#ed7953"
             ],
             [
              0.7777777777777778,
              "#fb9f3a"
             ],
             [
              0.8888888888888888,
              "#fdca26"
             ],
             [
              1.0,
              "#f0f921"
             ]
            ]
           }
          ],
          "surface": [
           {
            "type": "surface",
            "colorbar": {
             "outlinewidth": 0,
             "ticks": ""
            },
            "colorscale": [
             [
              0.0,
              "#0d0887"
             ],
             [
              0.1111111111111111,
              "#46039f"
             ],
             [
              0.2222222222222222,
              "#7201a8"
             ],
             [
              0.3333333333333333,
              "#9c179e"
             ],
             [
              0.4444444444444444,
              "#bd3786"
             ],
             [
              0.5555555555555556,
              "#d8576b"
             ],
             [
              0.6666666666666666,
              "#ed7953"
             ],
             [
              0.7777777777777778,
              "#fb9f3a"
             ],
             [
              0.8888888888888888,
              "#fdca26"
             ],
             [
              1.0,
              "#f0f921"
             ]
            ]
           }
          ],
          "mesh3d": [
           {
            "type": "mesh3d",
            "colorbar": {
             "outlinewidth": 0,
             "ticks": ""
            }
           }
          ],
          "scatter": [
           {
            "fillpattern": {
             "fillmode": "overlay",
             "size": 10,
             "solidity": 0.2
            },
            "type": "scatter"
           }
          ],
          "parcoords": [
           {
            "type": "parcoords",
            "line": {
             "colorbar": {
              "outlinewidth": 0,
              "ticks": ""
             }
            }
           }
          ],
          "scatterpolargl": [
           {
            "type": "scatterpolargl",
            "marker": {
             "colorbar": {
              "outlinewidth": 0,
              "ticks": ""
             }
            }
           }
          ],
          "bar": [
           {
            "error_x": {
             "color": "#2a3f5f"
            },
            "error_y": {
             "color": "#2a3f5f"
            },
            "marker": {
             "line": {
              "color": "#E5ECF6",
              "width": 0.5
             },
             "pattern": {
              "fillmode": "overlay",
              "size": 10,
              "solidity": 0.2
             }
            },
            "type": "bar"
           }
          ],
          "scattergeo": [
           {
            "type": "scattergeo",
            "marker": {
             "colorbar": {
              "outlinewidth": 0,
              "ticks": ""
             }
            }
           }
          ],
          "scatterpolar": [
           {
            "type": "scatterpolar",
            "marker": {
             "colorbar": {
              "outlinewidth": 0,
              "ticks": ""
             }
            }
           }
          ],
          "histogram": [
           {
            "marker": {
             "pattern": {
              "fillmode": "overlay",
              "size": 10,
              "solidity": 0.2
             }
            },
            "type": "histogram"
           }
          ],
          "scattergl": [
           {
            "type": "scattergl",
            "marker": {
             "colorbar": {
              "outlinewidth": 0,
              "ticks": ""
             }
            }
           }
          ],
          "scatter3d": [
           {
            "type": "scatter3d",
            "line": {
             "colorbar": {
              "outlinewidth": 0,
              "ticks": ""
             }
            },
            "marker": {
             "colorbar": {
              "outlinewidth": 0,
              "ticks": ""
             }
            }
           }
          ],
          "scattermap": [
           {
            "type": "scattermap",
            "marker": {
             "colorbar": {
              "outlinewidth": 0,
              "ticks": ""
             }
            }
           }
          ],
          "scattermapbox": [
           {
            "type": "scattermapbox",
            "marker": {
             "colorbar": {
              "outlinewidth": 0,
              "ticks": ""
             }
            }
           }
          ],
          "scatterternary": [
           {
            "type": "scatterternary",
            "marker": {
             "colorbar": {
              "outlinewidth": 0,
              "ticks": ""
             }
            }
           }
          ],
          "scattercarpet": [
           {
            "type": "scattercarpet",
            "marker": {
             "colorbar": {
              "outlinewidth": 0,
              "ticks": ""
             }
            }
           }
          ],
          "carpet": [
           {
            "aaxis": {
             "endlinecolor": "#2a3f5f",
             "gridcolor": "white",
             "linecolor": "white",
             "minorgridcolor": "white",
             "startlinecolor": "#2a3f5f"
            },
            "baxis": {
             "endlinecolor": "#2a3f5f",
             "gridcolor": "white",
             "linecolor": "white",
             "minorgridcolor": "white",
             "startlinecolor": "#2a3f5f"
            },
            "type": "carpet"
           }
          ],
          "table": [
           {
            "cells": {
             "fill": {
              "color": "#EBF0F8"
             },
             "line": {
              "color": "white"
             }
            },
            "header": {
             "fill": {
              "color": "#C8D4E3"
             },
             "line": {
              "color": "white"
             }
            },
            "type": "table"
           }
          ],
          "barpolar": [
           {
            "marker": {
             "line": {
              "color": "#E5ECF6",
              "width": 0.5
             },
             "pattern": {
              "fillmode": "overlay",
              "size": 10,
              "solidity": 0.2
             }
            },
            "type": "barpolar"
           }
          ],
          "pie": [
           {
            "automargin": true,
            "type": "pie"
           }
          ]
         },
         "layout": {
          "autotypenumbers": "strict",
          "colorway": [
           "#636efa",
           "#EF553B",
           "#00cc96",
           "#ab63fa",
           "#FFA15A",
           "#19d3f3",
           "#FF6692",
           "#B6E880",
           "#FF97FF",
           "#FECB52"
          ],
          "font": {
           "color": "#2a3f5f"
          },
          "hovermode": "closest",
          "hoverlabel": {
           "align": "left"
          },
          "paper_bgcolor": "white",
          "plot_bgcolor": "#E5ECF6",
          "polar": {
           "bgcolor": "#E5ECF6",
           "angularaxis": {
            "gridcolor": "white",
            "linecolor": "white",
            "ticks": ""
           },
           "radialaxis": {
            "gridcolor": "white",
            "linecolor": "white",
            "ticks": ""
           }
          },
          "ternary": {
           "bgcolor": "#E5ECF6",
           "aaxis": {
            "gridcolor": "white",
            "linecolor": "white",
            "ticks": ""
           },
           "baxis": {
            "gridcolor": "white",
            "linecolor": "white",
            "ticks": ""
           },
           "caxis": {
            "gridcolor": "white",
            "linecolor": "white",
            "ticks": ""
           }
          },
          "coloraxis": {
           "colorbar": {
            "outlinewidth": 0,
            "ticks": ""
           }
          },
          "colorscale": {
           "sequential": [
            [
             0.0,
             "#0d0887"
            ],
            [
             0.1111111111111111,
             "#46039f"
            ],
            [
             0.2222222222222222,
             "#7201a8"
            ],
            [
             0.3333333333333333,
             "#9c179e"
            ],
            [
             0.4444444444444444,
             "#bd3786"
            ],
            [
             0.5555555555555556,
             "#d8576b"
            ],
            [
             0.6666666666666666,
             "#ed7953"
            ],
            [
             0.7777777777777778,
             "#fb9f3a"
            ],
            [
             0.8888888888888888,
             "#fdca26"
            ],
            [
             1.0,
             "#f0f921"
            ]
           ],
           "sequentialminus": [
            [
             0.0,
             "#0d0887"
            ],
            [
             0.1111111111111111,
             "#46039f"
            ],
            [
             0.2222222222222222,
             "#7201a8"
            ],
            [
             0.3333333333333333,
             "#9c179e"
            ],
            [
             0.4444444444444444,
             "#bd3786"
            ],
            [
             0.5555555555555556,
             "#d8576b"
            ],
            [
             0.6666666666666666,
             "#ed7953"
            ],
            [
             0.7777777777777778,
             "#fb9f3a"
            ],
            [
             0.8888888888888888,
             "#fdca26"
            ],
            [
             1.0,
             "#f0f921"
            ]
           ],
           "diverging": [
            [
             0,
             "#8e0152"
            ],
            [
             0.1,
             "#c51b7d"
            ],
            [
             0.2,
             "#de77ae"
            ],
            [
             0.3,
             "#f1b6da"
            ],
            [
             0.4,
             "#fde0ef"
            ],
            [
             0.5,
             "#f7f7f7"
            ],
            [
             0.6,
             "#e6f5d0"
            ],
            [
             0.7,
             "#b8e186"
            ],
            [
             0.8,
             "#7fbc41"
            ],
            [
             0.9,
             "#4d9221"
            ],
            [
             1,
             "#276419"
            ]
           ]
          },
          "xaxis": {
           "gridcolor": "white",
           "linecolor": "white",
           "ticks": "",
           "title": {
            "standoff": 15
           },
           "zerolinecolor": "white",
           "automargin": true,
           "zerolinewidth": 2
          },
          "yaxis": {
           "gridcolor": "white",
           "linecolor": "white",
           "ticks": "",
           "title": {
            "standoff": 15
           },
           "zerolinecolor": "white",
           "automargin": true,
           "zerolinewidth": 2
          },
          "scene": {
           "xaxis": {
            "backgroundcolor": "#E5ECF6",
            "gridcolor": "white",
            "linecolor": "white",
            "showbackground": true,
            "ticks": "",
            "zerolinecolor": "white",
            "gridwidth": 2
           },
           "yaxis": {
            "backgroundcolor": "#E5ECF6",
            "gridcolor": "white",
            "linecolor": "white",
            "showbackground": true,
            "ticks": "",
            "zerolinecolor": "white",
            "gridwidth": 2
           },
           "zaxis": {
            "backgroundcolor": "#E5ECF6",
            "gridcolor": "white",
            "linecolor": "white",
            "showbackground": true,
            "ticks": "",
            "zerolinecolor": "white",
            "gridwidth": 2
           }
          },
          "shapedefaults": {
           "line": {
            "color": "#2a3f5f"
           }
          },
          "annotationdefaults": {
           "arrowcolor": "#2a3f5f",
           "arrowhead": 0,
           "arrowwidth": 1
          },
          "geo": {
           "bgcolor": "white",
           "landcolor": "#E5ECF6",
           "subunitcolor": "white",
           "showland": true,
           "showlakes": true,
           "lakecolor": "white"
          },
          "title": {
           "x": 0.05
          },
          "mapbox": {
           "style": "light"
          }
         }
        },
        "polar": {
         "radialaxis": {
          "visible": true,
          "showticklabels": false,
          "ticks": "",
          "showline": false,
          "showgrid": true
         },
         "angularaxis": {
          "tickfont": {
           "size": 11
          },
          "rotation": 90,
          "direction": "clockwise",
          "showline": true,
          "linecolor": "lightgray",
          "linewidth": 1,
          "gridcolor": "lightgray",
          "gridwidth": 0.5
         }
        },
        "margin": {
         "l": 45,
         "r": 45,
         "t": 45,
         "b": 45
        },
        "showlegend": true,
        "width": 700,
        "height": 600,
        "title": {
         "text": "Top 10 Feature Profile for Latrell Wrightsell"
        }
       },
       "config": {
        "plotlyServerURL": "https://plot.ly"
       }
      }
     },
     "metadata": {},
     "output_type": "display_data"
    }
   ],
   "execution_count": 25
  },
  {
   "cell_type": "markdown",
   "id": "4f6a14055c1e8b9e",
   "metadata": {},
   "source": [
    "# Step 6: Push Data to Database"
   ]
  },
  {
   "metadata": {
    "ExecuteTime": {
     "end_time": "2025-07-21T15:15:09.063395Z",
     "start_time": "2025-07-21T15:15:09.052278Z"
    }
   },
   "cell_type": "code",
   "source": [
    "# Combine two 2024 dataframes so they are in one table in the database \n",
    "\n",
    "# Add transfer column to each DataFrame\n",
    "summary_2024_transfers['transfer'] = True\n",
    "summary_2024_no_transfers['transfer'] = False\n",
    "\n",
    "combined_df = pd.concat([summary_2024_transfers, summary_2024_no_transfers], ignore_index = True)\n",
    "\n",
    "team_combined_df = get_2024_team(combined_df, df)\n",
    "\n",
    "team_combined_df.sample(5)"
   ],
   "id": "426084bab18b299f",
   "outputs": [
    {
     "data": {
      "text/plain": [
       "            player  Actual Composite Score (2024)  Predicted  \\\n",
       "486  Jamal Shead 8                       1.783789   1.866421   \n",
       "42     Hunter Dean                       0.427841   0.699516   \n",
       "195  Justin Wright                       0.259370   0.417452   \n",
       "168   Reese Waters                      -0.256190  -0.147398   \n",
       "147  Szymon Zapala                      -0.024593   0.038114   \n",
       "\n",
       "     Estimated Difference  transfer              team  \n",
       "486             -0.082632     False           Houston  \n",
       "42              -0.271675      True               LSU  \n",
       "195             -0.158082      True  Loyola Marymount  \n",
       "168             -0.108792      True     San Diego St.  \n",
       "147             -0.062706      True          Longwood  "
      ],
      "text/html": [
       "<div>\n",
       "<style scoped>\n",
       "    .dataframe tbody tr th:only-of-type {\n",
       "        vertical-align: middle;\n",
       "    }\n",
       "\n",
       "    .dataframe tbody tr th {\n",
       "        vertical-align: top;\n",
       "    }\n",
       "\n",
       "    .dataframe thead th {\n",
       "        text-align: right;\n",
       "    }\n",
       "</style>\n",
       "<table border=\"1\" class=\"dataframe\">\n",
       "  <thead>\n",
       "    <tr style=\"text-align: right;\">\n",
       "      <th></th>\n",
       "      <th>player</th>\n",
       "      <th>Actual Composite Score (2024)</th>\n",
       "      <th>Predicted</th>\n",
       "      <th>Estimated Difference</th>\n",
       "      <th>transfer</th>\n",
       "      <th>team</th>\n",
       "    </tr>\n",
       "  </thead>\n",
       "  <tbody>\n",
       "    <tr>\n",
       "      <th>486</th>\n",
       "      <td>Jamal Shead 8</td>\n",
       "      <td>1.783789</td>\n",
       "      <td>1.866421</td>\n",
       "      <td>-0.082632</td>\n",
       "      <td>False</td>\n",
       "      <td>Houston</td>\n",
       "    </tr>\n",
       "    <tr>\n",
       "      <th>42</th>\n",
       "      <td>Hunter Dean</td>\n",
       "      <td>0.427841</td>\n",
       "      <td>0.699516</td>\n",
       "      <td>-0.271675</td>\n",
       "      <td>True</td>\n",
       "      <td>LSU</td>\n",
       "    </tr>\n",
       "    <tr>\n",
       "      <th>195</th>\n",
       "      <td>Justin Wright</td>\n",
       "      <td>0.259370</td>\n",
       "      <td>0.417452</td>\n",
       "      <td>-0.158082</td>\n",
       "      <td>True</td>\n",
       "      <td>Loyola Marymount</td>\n",
       "    </tr>\n",
       "    <tr>\n",
       "      <th>168</th>\n",
       "      <td>Reese Waters</td>\n",
       "      <td>-0.256190</td>\n",
       "      <td>-0.147398</td>\n",
       "      <td>-0.108792</td>\n",
       "      <td>True</td>\n",
       "      <td>San Diego St.</td>\n",
       "    </tr>\n",
       "    <tr>\n",
       "      <th>147</th>\n",
       "      <td>Szymon Zapala</td>\n",
       "      <td>-0.024593</td>\n",
       "      <td>0.038114</td>\n",
       "      <td>-0.062706</td>\n",
       "      <td>True</td>\n",
       "      <td>Longwood</td>\n",
       "    </tr>\n",
       "  </tbody>\n",
       "</table>\n",
       "</div>"
      ]
     },
     "execution_count": 25,
     "metadata": {},
     "output_type": "execute_result"
    }
   ],
   "execution_count": 25
  },
  {
   "metadata": {
    "ExecuteTime": {
     "end_time": "2025-07-24T10:14:17.427127Z",
     "start_time": "2025-07-24T10:14:17.423955Z"
    }
   },
   "cell_type": "code",
   "source": [
    "''' 7/15/25 - Database table ind_player_dev_predict_2024 was updated '''\n",
    "\n",
    "from push_db_data import push_data_to_db\n",
    " \n",
    "# push_db_data.push_data_to_db(team_combined_df)"
   ],
   "id": "2c2918fe3e769695",
   "outputs": [],
   "execution_count": 26
  },
  {
   "metadata": {},
   "cell_type": "code",
   "outputs": [],
   "execution_count": null,
   "source": "",
   "id": "9daa0560616ff677"
  }
 ],
 "metadata": {
  "kernelspec": {
   "display_name": ".venv",
   "language": "python",
   "name": "python3"
  },
  "language_info": {
   "codemirror_mode": {
    "name": "ipython",
    "version": 3
   },
   "file_extension": ".py",
   "mimetype": "text/x-python",
   "name": "python",
   "nbconvert_exporter": "python",
   "pygments_lexer": "ipython3",
   "version": "3.10.9"
  }
 },
 "nbformat": 4,
 "nbformat_minor": 5
}
